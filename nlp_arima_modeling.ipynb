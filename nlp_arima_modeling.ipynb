{
 "cells": [
  {
   "cell_type": "markdown",
   "id": "5557e9e0-8ea2-4fe4-a740-12b0668e9b45",
   "metadata": {},
   "source": [
    "#### Analysis of Commodities through evaluating NLP and ARIMA Modeling"
   ]
  },
  {
   "cell_type": "code",
   "execution_count": 1,
   "id": "11287e70-49fa-42ba-97fa-3a2234485466",
   "metadata": {},
   "outputs": [],
   "source": [
    "import os\n",
    "import pandas as pd\n",
    "from pathlib import Path\n",
    "from newsapi import NewsApiClient\n",
    "import numpy as np\n",
    "from dotenv import load_dotenv\n",
    "load_dotenv()\n",
    "import alpaca_trade_api as tradeapi\n",
    "import nltk\n",
    "from nltk.sentiment.vader import SentimentIntensityAnalyzer\n",
    "import pickle\n",
    "import json\n",
    "get_ipython().run_line_magic(\"matplotlib\", \"inline\")\n",
    "import seaborn as sns\n",
    "import matplotlib.pyplot as plt\n",
    "%matplotlib inline\n",
    "\n"
   ]
  },
  {
   "cell_type": "markdown",
   "id": "82008645-a9fe-4ca3-a63d-216bd5e8b9de",
   "metadata": {},
   "source": [
    "### Sentiment Analysis from the news\n",
    "\n",
    "##### VADER Lexicon is installed from the Natural Language Toolkit. VADER was developed as an alternative to other lexicons in existance, the primary purpose of it was to use both quantitative and qualitative data to analyze micro-blogging sentiment. However, it can also be extended for use in analyzing newspaper articles-- as I've chosen to do here to assess author sentiments towards 5 commidities and Bitcoin. \n",
    "\n",
    "###### Source: Hutto, C.J. & Gilbert, E.E. (2014). VADER: A Parsimonious Rule-based Model for Sentiment Analysis of Social Media Text. Eighth International Conference on Weblogs and Social Media (ICWSM-14). Ann Arbor, MI, June 2014."
   ]
  },
  {
   "cell_type": "code",
   "execution_count": 2,
   "id": "27c842d9-254d-48c2-ada7-fee2c315e635",
   "metadata": {},
   "outputs": [
    {
     "name": "stderr",
     "output_type": "stream",
     "text": [
      "[nltk_data] Downloading package vader_lexicon to\n",
      "[nltk_data]     /Users/jacqueline/nltk_data...\n",
      "[nltk_data]   Package vader_lexicon is already up-to-date!\n"
     ]
    }
   ],
   "source": [
    "# Download/Update the VADER Lexicon\n",
    "nltk.download(\"vader_lexicon\")\n",
    "\n",
    "# Initialize the VADER sentiment analyzer\n",
    "analyzer = SentimentIntensityAnalyzer()"
   ]
  },
  {
   "cell_type": "code",
   "execution_count": 3,
   "id": "08cc5d9b-8a55-4b07-b697-19aca0cc7045",
   "metadata": {},
   "outputs": [],
   "source": [
    "api_key = os.getenv(\"news_api\")"
   ]
  },
  {
   "cell_type": "code",
   "execution_count": 4,
   "id": "157611f4-2547-4658-a2a4-28a0a67e7a3e",
   "metadata": {},
   "outputs": [],
   "source": [
    "newsapi = NewsApiClient(api_key=api_key)"
   ]
  },
  {
   "cell_type": "code",
   "execution_count": null,
   "id": "2a72961f-3e92-4f4f-8495-0655b8115753",
   "metadata": {
    "tags": []
   },
   "outputs": [],
   "source": [
    "#Get the commodities headlines for Corn, Wheat, Oil, Gold, and Coffee from NewsAPI\n",
    "commodities_headlines = newsapi.get_everything(q=\"corn\" and \"wheat\" and \"oil\" and \"coffee\" and \"gold\", language=\"en\", sort_by=\"relevancy\", page_size=100)\n",
    "commodities_headlines"
   ]
  },
  {
   "cell_type": "code",
   "execution_count": 7,
   "id": "4d04b5eb-6cc9-4a42-a37f-9dfa35793e32",
   "metadata": {},
   "outputs": [
    {
     "data": {
      "text/html": [
       "<div>\n",
       "<style scoped>\n",
       "    .dataframe tbody tr th:only-of-type {\n",
       "        vertical-align: middle;\n",
       "    }\n",
       "\n",
       "    .dataframe tbody tr th {\n",
       "        vertical-align: top;\n",
       "    }\n",
       "\n",
       "    .dataframe thead th {\n",
       "        text-align: right;\n",
       "    }\n",
       "</style>\n",
       "<table border=\"1\" class=\"dataframe\">\n",
       "  <thead>\n",
       "    <tr style=\"text-align: right;\">\n",
       "      <th></th>\n",
       "      <th>source</th>\n",
       "      <th>author</th>\n",
       "      <th>title</th>\n",
       "      <th>description</th>\n",
       "      <th>url</th>\n",
       "      <th>urlToImage</th>\n",
       "      <th>publishedAt</th>\n",
       "      <th>content</th>\n",
       "    </tr>\n",
       "  </thead>\n",
       "  <tbody>\n",
       "    <tr>\n",
       "      <th>95</th>\n",
       "      <td>{'id': 'reuters', 'name': 'Reuters'}</td>\n",
       "      <td>Arundhati Sarkar</td>\n",
       "      <td>RPT-PRECIOUS-Gold gains on weaker U.S. bond yi...</td>\n",
       "      <td>Gold rose on Thursday, hovering above the $1,8...</td>\n",
       "      <td>https://www.reuters.com/article/global-preciou...</td>\n",
       "      <td>https://s1.reutersmedia.net/resources_v2/image...</td>\n",
       "      <td>2021-10-28T09:55:00Z</td>\n",
       "      <td>(Repeating with no change to text)\\r\\n* ECB de...</td>\n",
       "    </tr>\n",
       "    <tr>\n",
       "      <th>96</th>\n",
       "      <td>{'id': 'reuters', 'name': 'Reuters'}</td>\n",
       "      <td>Amal S</td>\n",
       "      <td>CANADA STOCKS-Toronto index up on boost from e...</td>\n",
       "      <td>Canada's commodity-heavy main stock index rose...</td>\n",
       "      <td>https://www.reuters.com/article/canada-stocks-...</td>\n",
       "      <td>https://s1.reutersmedia.net/resources_v2/image...</td>\n",
       "      <td>2021-11-04T14:04:00Z</td>\n",
       "      <td>(Updates prices, adds analyst comment)\\r\\nNov ...</td>\n",
       "    </tr>\n",
       "    <tr>\n",
       "      <th>97</th>\n",
       "      <td>{'id': 'reuters', 'name': 'Reuters'}</td>\n",
       "      <td>Reuters Staff</td>\n",
       "      <td>PRECIOUS-Gold rebounds as dollar dips after Fe...</td>\n",
       "      <td>Gold prices bounced back from a three-week low...</td>\n",
       "      <td>https://www.reuters.com/article/global-preciou...</td>\n",
       "      <td>https://s1.reutersmedia.net/resources_v2/image...</td>\n",
       "      <td>2021-11-04T01:29:00Z</td>\n",
       "      <td>By Reuters Staff\\r\\nNov 4 (Reuters) - Gold pri...</td>\n",
       "    </tr>\n",
       "    <tr>\n",
       "      <th>98</th>\n",
       "      <td>{'id': 'reuters', 'name': 'Reuters'}</td>\n",
       "      <td>None</td>\n",
       "      <td>Chen rebounds from rare loss to win Skate Cana...</td>\n",
       "      <td>Three-time reigning world champion Nathan Chen...</td>\n",
       "      <td>https://www.reuters.com/lifestyle/sports/chen-...</td>\n",
       "      <td>https://www.reuters.com/resizer/6e_dAsqgbOdNVD...</td>\n",
       "      <td>2021-10-31T00:14:00Z</td>\n",
       "      <td>Oct 23, 2021; Las Vegas, Nevada, USA; Nathan C...</td>\n",
       "    </tr>\n",
       "    <tr>\n",
       "      <th>99</th>\n",
       "      <td>{'id': 'reuters', 'name': 'Reuters'}</td>\n",
       "      <td>Foo Yun Chee</td>\n",
       "      <td>Beefed up EU tech rules could be global standa...</td>\n",
       "      <td>Europe's draft rules requiring tech firms to d...</td>\n",
       "      <td>https://www.reuters.com/article/facebook-hauge...</td>\n",
       "      <td>https://static.reuters.com/resources/r/?m=02&amp;d...</td>\n",
       "      <td>2021-11-08T18:41:00Z</td>\n",
       "      <td>BRUSSELS (Reuters) - Europes draft rules requi...</td>\n",
       "    </tr>\n",
       "  </tbody>\n",
       "</table>\n",
       "</div>"
      ],
      "text/plain": [
       "                                  source            author  \\\n",
       "95  {'id': 'reuters', 'name': 'Reuters'}  Arundhati Sarkar   \n",
       "96  {'id': 'reuters', 'name': 'Reuters'}            Amal S   \n",
       "97  {'id': 'reuters', 'name': 'Reuters'}     Reuters Staff   \n",
       "98  {'id': 'reuters', 'name': 'Reuters'}              None   \n",
       "99  {'id': 'reuters', 'name': 'Reuters'}      Foo Yun Chee   \n",
       "\n",
       "                                                title  \\\n",
       "95  RPT-PRECIOUS-Gold gains on weaker U.S. bond yi...   \n",
       "96  CANADA STOCKS-Toronto index up on boost from e...   \n",
       "97  PRECIOUS-Gold rebounds as dollar dips after Fe...   \n",
       "98  Chen rebounds from rare loss to win Skate Cana...   \n",
       "99  Beefed up EU tech rules could be global standa...   \n",
       "\n",
       "                                          description  \\\n",
       "95  Gold rose on Thursday, hovering above the $1,8...   \n",
       "96  Canada's commodity-heavy main stock index rose...   \n",
       "97  Gold prices bounced back from a three-week low...   \n",
       "98  Three-time reigning world champion Nathan Chen...   \n",
       "99  Europe's draft rules requiring tech firms to d...   \n",
       "\n",
       "                                                  url  \\\n",
       "95  https://www.reuters.com/article/global-preciou...   \n",
       "96  https://www.reuters.com/article/canada-stocks-...   \n",
       "97  https://www.reuters.com/article/global-preciou...   \n",
       "98  https://www.reuters.com/lifestyle/sports/chen-...   \n",
       "99  https://www.reuters.com/article/facebook-hauge...   \n",
       "\n",
       "                                           urlToImage           publishedAt  \\\n",
       "95  https://s1.reutersmedia.net/resources_v2/image...  2021-10-28T09:55:00Z   \n",
       "96  https://s1.reutersmedia.net/resources_v2/image...  2021-11-04T14:04:00Z   \n",
       "97  https://s1.reutersmedia.net/resources_v2/image...  2021-11-04T01:29:00Z   \n",
       "98  https://www.reuters.com/resizer/6e_dAsqgbOdNVD...  2021-10-31T00:14:00Z   \n",
       "99  https://static.reuters.com/resources/r/?m=02&d...  2021-11-08T18:41:00Z   \n",
       "\n",
       "                                              content  \n",
       "95  (Repeating with no change to text)\\r\\n* ECB de...  \n",
       "96  (Updates prices, adds analyst comment)\\r\\nNov ...  \n",
       "97  By Reuters Staff\\r\\nNov 4 (Reuters) - Gold pri...  \n",
       "98  Oct 23, 2021; Las Vegas, Nevada, USA; Nathan C...  \n",
       "99  BRUSSELS (Reuters) - Europes draft rules requi...  "
      ]
     },
     "execution_count": 7,
     "metadata": {},
     "output_type": "execute_result"
    }
   ],
   "source": [
    "#Create a dataframe from the returned results \n",
    "commodities_df = pd.DataFrame.from_dict(commodities_headlines[\"articles\"])\n",
    "commodities_df.tail()"
   ]
  },
  {
   "cell_type": "code",
   "execution_count": 8,
   "id": "8d5e63dd-9b2b-4ace-8965-7214b85a2371",
   "metadata": {},
   "outputs": [
    {
     "data": {
      "text/html": [
       "<div>\n",
       "<style scoped>\n",
       "    .dataframe tbody tr th:only-of-type {\n",
       "        vertical-align: middle;\n",
       "    }\n",
       "\n",
       "    .dataframe tbody tr th {\n",
       "        vertical-align: top;\n",
       "    }\n",
       "\n",
       "    .dataframe thead th {\n",
       "        text-align: right;\n",
       "    }\n",
       "</style>\n",
       "<table border=\"1\" class=\"dataframe\">\n",
       "  <thead>\n",
       "    <tr style=\"text-align: right;\">\n",
       "      <th></th>\n",
       "      <th>source</th>\n",
       "      <th>author</th>\n",
       "      <th>title</th>\n",
       "      <th>description</th>\n",
       "      <th>url</th>\n",
       "      <th>urlToImage</th>\n",
       "      <th>publishedAt</th>\n",
       "      <th>content</th>\n",
       "    </tr>\n",
       "  </thead>\n",
       "  <tbody>\n",
       "    <tr>\n",
       "      <th>0</th>\n",
       "      <td>{'id': 'wired', 'name': 'Wired'}</td>\n",
       "      <td>Kylie Mohr</td>\n",
       "      <td>This Prairie Grassland Project Collects Native...</td>\n",
       "      <td>Young members of the Fort Belknap Indian Commu...</td>\n",
       "      <td>https://www.wired.com/story/this-prairie-grass...</td>\n",
       "      <td>https://media.wired.com/photos/617303503007966...</td>\n",
       "      <td>2021-10-23T12:00:00Z</td>\n",
       "      <td>The BLM funds the partnership along with priva...</td>\n",
       "    </tr>\n",
       "    <tr>\n",
       "      <th>1</th>\n",
       "      <td>{'id': 'reuters', 'name': 'Reuters'}</td>\n",
       "      <td>None</td>\n",
       "      <td>Corteva faces slow start as it takes aim at Ba...</td>\n",
       "      <td>U.S. pesticide and seed maker Corteva Inc &lt;a h...</td>\n",
       "      <td>https://www.reuters.com/business/corteva-faces...</td>\n",
       "      <td>https://www.reuters.com/resizer/EGlB3ZJICxQYKp...</td>\n",
       "      <td>2021-10-08T11:05:00Z</td>\n",
       "      <td>A worker inspects soybeans during the soy harv...</td>\n",
       "    </tr>\n",
       "    <tr>\n",
       "      <th>2</th>\n",
       "      <td>{'id': 'wired', 'name': 'Wired'}</td>\n",
       "      <td>Medea Giordano</td>\n",
       "      <td>15 Smart Gifts to Upgrade Your Beauty Routine</td>\n",
       "      <td>Give your loved ones the gift of feeling fabul...</td>\n",
       "      <td>https://www.wired.com/gallery/gift-ideas-for-h...</td>\n",
       "      <td>https://media.wired.com/photos/5fbda0acd840498...</td>\n",
       "      <td>2021-10-22T13:00:00Z</td>\n",
       "      <td>Makeup creates a ton of waste. Once you're don...</td>\n",
       "    </tr>\n",
       "    <tr>\n",
       "      <th>3</th>\n",
       "      <td>{'id': None, 'name': 'ReadWrite'}</td>\n",
       "      <td>Ali Hasnain</td>\n",
       "      <td>Steps to Find a Black Seed Oil Buyer Online</td>\n",
       "      <td>Setting up your own international trading busi...</td>\n",
       "      <td>https://readwrite.com/2021/10/28/steps-to-find...</td>\n",
       "      <td>https://images.readwrite.com/wp-content/upload...</td>\n",
       "      <td>2021-10-28T14:01:01Z</td>\n",
       "      <td>Setting up your own international trading busi...</td>\n",
       "    </tr>\n",
       "    <tr>\n",
       "      <th>4</th>\n",
       "      <td>{'id': 'reuters', 'name': 'Reuters'}</td>\n",
       "      <td>None</td>\n",
       "      <td>ATP roundup: Frances Tiafoe upsets No. 1 Stefa...</td>\n",
       "      <td>After falling behind 3-0 in the deciding set, ...</td>\n",
       "      <td>https://www.reuters.com/lifestyle/sports/atp-r...</td>\n",
       "      <td>https://www.reuters.com/resizer/kVWb0vnoOguhKh...</td>\n",
       "      <td>2021-10-28T22:15:00Z</td>\n",
       "      <td>Tokyo 2020 Olympics - Tennis - Men's Singles -...</td>\n",
       "    </tr>\n",
       "  </tbody>\n",
       "</table>\n",
       "</div>"
      ],
      "text/plain": [
       "                                 source          author  \\\n",
       "0      {'id': 'wired', 'name': 'Wired'}      Kylie Mohr   \n",
       "1  {'id': 'reuters', 'name': 'Reuters'}            None   \n",
       "2      {'id': 'wired', 'name': 'Wired'}  Medea Giordano   \n",
       "3     {'id': None, 'name': 'ReadWrite'}     Ali Hasnain   \n",
       "4  {'id': 'reuters', 'name': 'Reuters'}            None   \n",
       "\n",
       "                                               title  \\\n",
       "0  This Prairie Grassland Project Collects Native...   \n",
       "1  Corteva faces slow start as it takes aim at Ba...   \n",
       "2      15 Smart Gifts to Upgrade Your Beauty Routine   \n",
       "3        Steps to Find a Black Seed Oil Buyer Online   \n",
       "4  ATP roundup: Frances Tiafoe upsets No. 1 Stefa...   \n",
       "\n",
       "                                         description  \\\n",
       "0  Young members of the Fort Belknap Indian Commu...   \n",
       "1  U.S. pesticide and seed maker Corteva Inc <a h...   \n",
       "2  Give your loved ones the gift of feeling fabul...   \n",
       "3  Setting up your own international trading busi...   \n",
       "4  After falling behind 3-0 in the deciding set, ...   \n",
       "\n",
       "                                                 url  \\\n",
       "0  https://www.wired.com/story/this-prairie-grass...   \n",
       "1  https://www.reuters.com/business/corteva-faces...   \n",
       "2  https://www.wired.com/gallery/gift-ideas-for-h...   \n",
       "3  https://readwrite.com/2021/10/28/steps-to-find...   \n",
       "4  https://www.reuters.com/lifestyle/sports/atp-r...   \n",
       "\n",
       "                                          urlToImage           publishedAt  \\\n",
       "0  https://media.wired.com/photos/617303503007966...  2021-10-23T12:00:00Z   \n",
       "1  https://www.reuters.com/resizer/EGlB3ZJICxQYKp...  2021-10-08T11:05:00Z   \n",
       "2  https://media.wired.com/photos/5fbda0acd840498...  2021-10-22T13:00:00Z   \n",
       "3  https://images.readwrite.com/wp-content/upload...  2021-10-28T14:01:01Z   \n",
       "4  https://www.reuters.com/resizer/kVWb0vnoOguhKh...  2021-10-28T22:15:00Z   \n",
       "\n",
       "                                             content  \n",
       "0  The BLM funds the partnership along with priva...  \n",
       "1  A worker inspects soybeans during the soy harv...  \n",
       "2  Makeup creates a ton of waste. Once you're don...  \n",
       "3  Setting up your own international trading busi...  \n",
       "4  Tokyo 2020 Olympics - Tennis - Men's Singles -...  "
      ]
     },
     "execution_count": 8,
     "metadata": {},
     "output_type": "execute_result"
    }
   ],
   "source": [
    "#Pickle the data so we can access it again \n",
    "#pickle.dump(commodities_df, open( \"save.p\", \"wb\" ) )\n",
    "commodities_df = pickle.load( open( \"save.p\", \"rb\" ) )\n",
    "commodities_df.head()"
   ]
  },
  {
   "cell_type": "markdown",
   "id": "17d0c099-5b50-4367-bebb-5eaba48b45bb",
   "metadata": {},
   "source": [
    "### Run the sentiment scores on text and title with VADER "
   ]
  },
  {
   "cell_type": "code",
   "execution_count": 11,
   "id": "cbee9ab1-e56a-4f44-876e-e81351d7bb60",
   "metadata": {},
   "outputs": [
    {
     "data": {
      "text/html": [
       "<div>\n",
       "<style scoped>\n",
       "    .dataframe tbody tr th:only-of-type {\n",
       "        vertical-align: middle;\n",
       "    }\n",
       "\n",
       "    .dataframe tbody tr th {\n",
       "        vertical-align: top;\n",
       "    }\n",
       "\n",
       "    .dataframe thead th {\n",
       "        text-align: right;\n",
       "    }\n",
       "</style>\n",
       "<table border=\"1\" class=\"dataframe\">\n",
       "  <thead>\n",
       "    <tr style=\"text-align: right;\">\n",
       "      <th></th>\n",
       "      <th>source</th>\n",
       "      <th>author</th>\n",
       "      <th>title</th>\n",
       "      <th>description</th>\n",
       "      <th>url</th>\n",
       "      <th>urlToImage</th>\n",
       "      <th>publishedAt</th>\n",
       "      <th>content</th>\n",
       "      <th>Sentiment</th>\n",
       "      <th>neg</th>\n",
       "      <th>neu</th>\n",
       "      <th>pos</th>\n",
       "      <th>compound</th>\n",
       "    </tr>\n",
       "  </thead>\n",
       "  <tbody>\n",
       "    <tr>\n",
       "      <th>0</th>\n",
       "      <td>{'id': 'wired', 'name': 'Wired'}</td>\n",
       "      <td>Kylie Mohr</td>\n",
       "      <td>This Prairie Grassland Project Collects Native...</td>\n",
       "      <td>Young members of the Fort Belknap Indian Commu...</td>\n",
       "      <td>https://www.wired.com/story/this-prairie-grass...</td>\n",
       "      <td>https://media.wired.com/photos/617303503007966...</td>\n",
       "      <td>2021-10-23T12:00:00Z</td>\n",
       "      <td>The BLM funds the partnership along with priva...</td>\n",
       "      <td>positive</td>\n",
       "      <td>0.000</td>\n",
       "      <td>0.816</td>\n",
       "      <td>0.184</td>\n",
       "      <td>0.6597</td>\n",
       "    </tr>\n",
       "    <tr>\n",
       "      <th>1</th>\n",
       "      <td>{'id': 'reuters', 'name': 'Reuters'}</td>\n",
       "      <td>None</td>\n",
       "      <td>Corteva faces slow start as it takes aim at Ba...</td>\n",
       "      <td>U.S. pesticide and seed maker Corteva Inc &lt;a h...</td>\n",
       "      <td>https://www.reuters.com/business/corteva-faces...</td>\n",
       "      <td>https://www.reuters.com/resizer/EGlB3ZJICxQYKp...</td>\n",
       "      <td>2021-10-08T11:05:00Z</td>\n",
       "      <td>A worker inspects soybeans during the soy harv...</td>\n",
       "      <td>positive</td>\n",
       "      <td>0.000</td>\n",
       "      <td>0.924</td>\n",
       "      <td>0.076</td>\n",
       "      <td>0.4215</td>\n",
       "    </tr>\n",
       "    <tr>\n",
       "      <th>2</th>\n",
       "      <td>{'id': 'wired', 'name': 'Wired'}</td>\n",
       "      <td>Medea Giordano</td>\n",
       "      <td>15 Smart Gifts to Upgrade Your Beauty Routine</td>\n",
       "      <td>Give your loved ones the gift of feeling fabul...</td>\n",
       "      <td>https://www.wired.com/gallery/gift-ideas-for-h...</td>\n",
       "      <td>https://media.wired.com/photos/5fbda0acd840498...</td>\n",
       "      <td>2021-10-22T13:00:00Z</td>\n",
       "      <td>Makeup creates a ton of waste. Once you're don...</td>\n",
       "      <td>positive</td>\n",
       "      <td>0.000</td>\n",
       "      <td>0.485</td>\n",
       "      <td>0.515</td>\n",
       "      <td>0.8934</td>\n",
       "    </tr>\n",
       "    <tr>\n",
       "      <th>3</th>\n",
       "      <td>{'id': None, 'name': 'ReadWrite'}</td>\n",
       "      <td>Ali Hasnain</td>\n",
       "      <td>Steps to Find a Black Seed Oil Buyer Online</td>\n",
       "      <td>Setting up your own international trading busi...</td>\n",
       "      <td>https://readwrite.com/2021/10/28/steps-to-find...</td>\n",
       "      <td>https://images.readwrite.com/wp-content/upload...</td>\n",
       "      <td>2021-10-28T14:01:01Z</td>\n",
       "      <td>Setting up your own international trading busi...</td>\n",
       "      <td>positive</td>\n",
       "      <td>0.000</td>\n",
       "      <td>0.964</td>\n",
       "      <td>0.036</td>\n",
       "      <td>0.1779</td>\n",
       "    </tr>\n",
       "    <tr>\n",
       "      <th>4</th>\n",
       "      <td>{'id': 'reuters', 'name': 'Reuters'}</td>\n",
       "      <td>None</td>\n",
       "      <td>ATP roundup: Frances Tiafoe upsets No. 1 Stefa...</td>\n",
       "      <td>After falling behind 3-0 in the deciding set, ...</td>\n",
       "      <td>https://www.reuters.com/lifestyle/sports/atp-r...</td>\n",
       "      <td>https://www.reuters.com/resizer/kVWb0vnoOguhKh...</td>\n",
       "      <td>2021-10-28T22:15:00Z</td>\n",
       "      <td>Tokyo 2020 Olympics - Tennis - Men's Singles -...</td>\n",
       "      <td>negative</td>\n",
       "      <td>0.143</td>\n",
       "      <td>0.857</td>\n",
       "      <td>0.000</td>\n",
       "      <td>-0.6124</td>\n",
       "    </tr>\n",
       "    <tr>\n",
       "      <th>5</th>\n",
       "      <td>{'id': 'reuters', 'name': 'Reuters'}</td>\n",
       "      <td>None</td>\n",
       "      <td>Raducanu sent packing by Ukraine's Kostyuk at ...</td>\n",
       "      <td>Ukrainian sixth seed Marta Kostyuk swept aside...</td>\n",
       "      <td>https://www.reuters.com/lifestyle/sports/raduc...</td>\n",
       "      <td>https://www.reuters.com/resizer/Iz6FezNDs5XzC_...</td>\n",
       "      <td>2021-10-29T18:35:00Z</td>\n",
       "      <td>Oct 29 (Reuters) - Ukrainian sixth seed Marta ...</td>\n",
       "      <td>positive</td>\n",
       "      <td>0.000</td>\n",
       "      <td>0.784</td>\n",
       "      <td>0.216</td>\n",
       "      <td>0.8271</td>\n",
       "    </tr>\n",
       "    <tr>\n",
       "      <th>6</th>\n",
       "      <td>{'id': 'reuters', 'name': 'Reuters'}</td>\n",
       "      <td>None</td>\n",
       "      <td>ATP roundup: Stefanos Tsitsipas survives opene...</td>\n",
       "      <td>Top seed Stefanos Tsitsipas of Greece saved th...</td>\n",
       "      <td>https://www.reuters.com/lifestyle/sports/atp-r...</td>\n",
       "      <td>https://www.reuters.com/resizer/Fk311kciMt9reD...</td>\n",
       "      <td>2021-10-26T21:58:00Z</td>\n",
       "      <td>Tokyo 2020 Olympics - Tennis - Men's Singles -...</td>\n",
       "      <td>positive</td>\n",
       "      <td>0.000</td>\n",
       "      <td>0.878</td>\n",
       "      <td>0.122</td>\n",
       "      <td>0.5574</td>\n",
       "    </tr>\n",
       "    <tr>\n",
       "      <th>7</th>\n",
       "      <td>{'id': 'reuters', 'name': 'Reuters'}</td>\n",
       "      <td>None</td>\n",
       "      <td>Novak Djokovic needs three sets for first-roun...</td>\n",
       "      <td>Top seed Novak Djokovic dropped a set, but the...</td>\n",
       "      <td>https://www.reuters.com/business/cop/novak-djo...</td>\n",
       "      <td>https://www.reuters.com/pf/resources/images/re...</td>\n",
       "      <td>2021-11-03T01:01:00Z</td>\n",
       "      <td>Top seed Novak Djokovic dropped a set, but the...</td>\n",
       "      <td>negative</td>\n",
       "      <td>0.182</td>\n",
       "      <td>0.676</td>\n",
       "      <td>0.141</td>\n",
       "      <td>-0.4019</td>\n",
       "    </tr>\n",
       "    <tr>\n",
       "      <th>8</th>\n",
       "      <td>{'id': 'reuters', 'name': 'Reuters'}</td>\n",
       "      <td>None</td>\n",
       "      <td>EXCLUSIVE India's price-fixing probe of global...</td>\n",
       "      <td>An Indian antitrust investigation into suspect...</td>\n",
       "      <td>https://www.reuters.com/world/india/exclusive-...</td>\n",
       "      <td>https://www.reuters.com/resizer/F5pOMtEcfZREW2...</td>\n",
       "      <td>2021-11-02T10:55:00Z</td>\n",
       "      <td>NEW DELHI, Nov 2 (Reuters) - An Indian antitru...</td>\n",
       "      <td>negative</td>\n",
       "      <td>0.128</td>\n",
       "      <td>0.808</td>\n",
       "      <td>0.064</td>\n",
       "      <td>-0.3182</td>\n",
       "    </tr>\n",
       "    <tr>\n",
       "      <th>9</th>\n",
       "      <td>{'id': None, 'name': 'New York Times'}</td>\n",
       "      <td>Tamryn Spruill</td>\n",
       "      <td>Candace Parker Is the Calm, and the Storm, for...</td>\n",
       "      <td>Parker has known both adversity and success in...</td>\n",
       "      <td>https://www.nytimes.com/2021/10/12/sports/bask...</td>\n",
       "      <td>https://static01.nyt.com/images/2021/10/11/spo...</td>\n",
       "      <td>2021-10-12T09:00:18Z</td>\n",
       "      <td>Copper and Sky Coach James Wade told reporters...</td>\n",
       "      <td>positive</td>\n",
       "      <td>0.149</td>\n",
       "      <td>0.655</td>\n",
       "      <td>0.196</td>\n",
       "      <td>0.3818</td>\n",
       "    </tr>\n",
       "  </tbody>\n",
       "</table>\n",
       "</div>"
      ],
      "text/plain": [
       "                                   source          author  \\\n",
       "0        {'id': 'wired', 'name': 'Wired'}      Kylie Mohr   \n",
       "1    {'id': 'reuters', 'name': 'Reuters'}            None   \n",
       "2        {'id': 'wired', 'name': 'Wired'}  Medea Giordano   \n",
       "3       {'id': None, 'name': 'ReadWrite'}     Ali Hasnain   \n",
       "4    {'id': 'reuters', 'name': 'Reuters'}            None   \n",
       "5    {'id': 'reuters', 'name': 'Reuters'}            None   \n",
       "6    {'id': 'reuters', 'name': 'Reuters'}            None   \n",
       "7    {'id': 'reuters', 'name': 'Reuters'}            None   \n",
       "8    {'id': 'reuters', 'name': 'Reuters'}            None   \n",
       "9  {'id': None, 'name': 'New York Times'}  Tamryn Spruill   \n",
       "\n",
       "                                               title  \\\n",
       "0  This Prairie Grassland Project Collects Native...   \n",
       "1  Corteva faces slow start as it takes aim at Ba...   \n",
       "2      15 Smart Gifts to Upgrade Your Beauty Routine   \n",
       "3        Steps to Find a Black Seed Oil Buyer Online   \n",
       "4  ATP roundup: Frances Tiafoe upsets No. 1 Stefa...   \n",
       "5  Raducanu sent packing by Ukraine's Kostyuk at ...   \n",
       "6  ATP roundup: Stefanos Tsitsipas survives opene...   \n",
       "7  Novak Djokovic needs three sets for first-roun...   \n",
       "8  EXCLUSIVE India's price-fixing probe of global...   \n",
       "9  Candace Parker Is the Calm, and the Storm, for...   \n",
       "\n",
       "                                         description  \\\n",
       "0  Young members of the Fort Belknap Indian Commu...   \n",
       "1  U.S. pesticide and seed maker Corteva Inc <a h...   \n",
       "2  Give your loved ones the gift of feeling fabul...   \n",
       "3  Setting up your own international trading busi...   \n",
       "4  After falling behind 3-0 in the deciding set, ...   \n",
       "5  Ukrainian sixth seed Marta Kostyuk swept aside...   \n",
       "6  Top seed Stefanos Tsitsipas of Greece saved th...   \n",
       "7  Top seed Novak Djokovic dropped a set, but the...   \n",
       "8  An Indian antitrust investigation into suspect...   \n",
       "9  Parker has known both adversity and success in...   \n",
       "\n",
       "                                                 url  \\\n",
       "0  https://www.wired.com/story/this-prairie-grass...   \n",
       "1  https://www.reuters.com/business/corteva-faces...   \n",
       "2  https://www.wired.com/gallery/gift-ideas-for-h...   \n",
       "3  https://readwrite.com/2021/10/28/steps-to-find...   \n",
       "4  https://www.reuters.com/lifestyle/sports/atp-r...   \n",
       "5  https://www.reuters.com/lifestyle/sports/raduc...   \n",
       "6  https://www.reuters.com/lifestyle/sports/atp-r...   \n",
       "7  https://www.reuters.com/business/cop/novak-djo...   \n",
       "8  https://www.reuters.com/world/india/exclusive-...   \n",
       "9  https://www.nytimes.com/2021/10/12/sports/bask...   \n",
       "\n",
       "                                          urlToImage           publishedAt  \\\n",
       "0  https://media.wired.com/photos/617303503007966...  2021-10-23T12:00:00Z   \n",
       "1  https://www.reuters.com/resizer/EGlB3ZJICxQYKp...  2021-10-08T11:05:00Z   \n",
       "2  https://media.wired.com/photos/5fbda0acd840498...  2021-10-22T13:00:00Z   \n",
       "3  https://images.readwrite.com/wp-content/upload...  2021-10-28T14:01:01Z   \n",
       "4  https://www.reuters.com/resizer/kVWb0vnoOguhKh...  2021-10-28T22:15:00Z   \n",
       "5  https://www.reuters.com/resizer/Iz6FezNDs5XzC_...  2021-10-29T18:35:00Z   \n",
       "6  https://www.reuters.com/resizer/Fk311kciMt9reD...  2021-10-26T21:58:00Z   \n",
       "7  https://www.reuters.com/pf/resources/images/re...  2021-11-03T01:01:00Z   \n",
       "8  https://www.reuters.com/resizer/F5pOMtEcfZREW2...  2021-11-02T10:55:00Z   \n",
       "9  https://static01.nyt.com/images/2021/10/11/spo...  2021-10-12T09:00:18Z   \n",
       "\n",
       "                                             content Sentiment    neg    neu  \\\n",
       "0  The BLM funds the partnership along with priva...  positive  0.000  0.816   \n",
       "1  A worker inspects soybeans during the soy harv...  positive  0.000  0.924   \n",
       "2  Makeup creates a ton of waste. Once you're don...  positive  0.000  0.485   \n",
       "3  Setting up your own international trading busi...  positive  0.000  0.964   \n",
       "4  Tokyo 2020 Olympics - Tennis - Men's Singles -...  negative  0.143  0.857   \n",
       "5  Oct 29 (Reuters) - Ukrainian sixth seed Marta ...  positive  0.000  0.784   \n",
       "6  Tokyo 2020 Olympics - Tennis - Men's Singles -...  positive  0.000  0.878   \n",
       "7  Top seed Novak Djokovic dropped a set, but the...  negative  0.182  0.676   \n",
       "8  NEW DELHI, Nov 2 (Reuters) - An Indian antitru...  negative  0.128  0.808   \n",
       "9  Copper and Sky Coach James Wade told reporters...  positive  0.149  0.655   \n",
       "\n",
       "     pos  compound  \n",
       "0  0.184    0.6597  \n",
       "1  0.076    0.4215  \n",
       "2  0.515    0.8934  \n",
       "3  0.036    0.1779  \n",
       "4  0.000   -0.6124  \n",
       "5  0.216    0.8271  \n",
       "6  0.122    0.5574  \n",
       "7  0.141   -0.4019  \n",
       "8  0.064   -0.3182  \n",
       "9  0.196    0.3818  "
      ]
     },
     "execution_count": 11,
     "metadata": {},
     "output_type": "execute_result"
    }
   ],
   "source": [
    "for index, row in commodities_df['description'].iteritems():\n",
    "    score = SentimentIntensityAnalyzer().polarity_scores(row)\n",
    "    if score['neg'] > score['pos']:\n",
    "        commodities_df.loc[index, \"Sentiment\"] = \"negative\"\n",
    "    elif score['pos'] > score['neg']:\n",
    "        commodities_df.loc[index, \"Sentiment\"] = \"positive\"\n",
    "    else:\n",
    "        commodities_df.loc[index, \"Sentiment\"] = \"neutral\"\n",
    "        \n",
    "    commodities_df.loc[index, 'neg'] = score['neg']\n",
    "    commodities_df.loc[index, 'neu'] = score['neu']\n",
    "    commodities_df.loc[index, 'pos'] = score['pos']\n",
    "    commodities_df.loc[index, 'compound'] = score['compound']\n",
    "    \n",
    "commodities_df.head(10)"
   ]
  },
  {
   "cell_type": "code",
   "execution_count": 16,
   "id": "0948fee7-b628-4b76-aa8b-77fe3ef59cd3",
   "metadata": {},
   "outputs": [
    {
     "name": "stdout",
     "output_type": "stream",
     "text": [
      "positive: 65%\n",
      "negative: 24%\n",
      "neutral: 11%\n"
     ]
    }
   ],
   "source": [
    "#Work Cited below\n",
    "article_neg = commodities_df[commodities_df[\"Sentiment\"] == \"negative\"]\n",
    "article_neu = commodities_df[commodities_df[\"Sentiment\"] == \"neutral\"]\n",
    "article_pos = commodities_df[commodities_df[\"Sentiment\"] == \"positive\"]\n",
    "#function for calculating the percentage of all the sentiments\n",
    "def calc_percentage(x,y):\n",
    "    return x/y * 100\n",
    "pos_per = calc_percentage(len(article_pos), len(commodities_df))\n",
    "neg_per = calc_percentage(len(article_neg), len(commodities_df))\n",
    "neu_per = calc_percentage(len(article_neu), len(commodities_df))\n",
    "print(\"positive: {}%\".format(len(article_pos), format(pos_per, '.1f')))\n",
    "print(\"negative: {}%\".format(len(article_neg), format(neg_per, '.1f')))\n",
    "print(\"neutral: {}%\".format(len(article_neu), format(neu_per, '.1f')))"
   ]
  },
  {
   "cell_type": "code",
   "execution_count": 17,
   "id": "53606329-7ecd-4a32-b0b0-d3750b43c2a5",
   "metadata": {},
   "outputs": [
    {
     "data": {
      "text/plain": [
       "<BarContainer object of 3 artists>"
      ]
     },
     "execution_count": 17,
     "metadata": {},
     "output_type": "execute_result"
    },
    {
     "data": {
      "image/png": "[encoded data removed]",
      "text/plain": [
       "<Figure size 432x288 with 1 Axes>"
      ]
     },
     "metadata": {
      "needs_background": "light"
     },
     "output_type": "display_data"
    }
   ],
   "source": [
    "labels = commodities_df.groupby('Sentiment').count().index.values\n",
    "values = commodities_df.groupby('Sentiment').size().values\n",
    "plt.bar(labels, values)"
   ]
  },
  {
   "cell_type": "code",
   "execution_count": null,
   "id": "dbb4a4cf-0483-4230-88d8-98e2083e5850",
   "metadata": {},
   "outputs": [],
   "source": [
    "#Use lambda function for organizing 'source' results \n",
    "commodities_df['source'].apply(lambda s:json.dumps(s)).unique()"
   ]
  },
  {
   "cell_type": "code",
   "execution_count": 21,
   "id": "6fb8812f-d9c3-40eb-9686-f514cc19675c",
   "metadata": {},
   "outputs": [
    {
     "data": {
      "image/png": "[encoded data removed]",
      "text/plain": [
       "<Figure size 432x288 with 1 Axes>"
      ]
     },
     "metadata": {
      "needs_background": "light"
     },
     "output_type": "display_data"
    },
    {
     "data": {
      "image/png": "[encoded data removed]",
      "text/plain": [
       "<Figure size 432x288 with 1 Axes>"
      ]
     },
     "metadata": {
      "needs_background": "light"
     },
     "output_type": "display_data"
    }
   ],
   "source": [
    "from wordcloud import WordCloud, STOPWORDS\n",
    "#function to create word cloud\n",
    "def create_wordcloud(text):\n",
    "    stopwords = set(STOPWORDS).union(set({'chars', 'tennis', 'round'}))\n",
    "    wc = WordCloud(background_color = \"white\", max_words = 100, stopwords = stopwords, repeat = True)\n",
    "    wc.generate(str(text))\n",
    "    plt.imshow(wc, interpolation='bilinear')\n",
    "    plt.axis(\"off\")\n",
    "    plt.show()\n",
    "#word cloud for positive sentiments\n",
    "create_wordcloud(article_pos[\"content\"].values)\n",
    "#wordcloud for negative sentimenst\n",
    "create_wordcloud(article_neg[\"content\"].values)"
   ]
  },
  {
   "cell_type": "code",
   "execution_count": 283,
   "id": "d1acbaa8-a431-41bc-a782-ff8db2989e55",
   "metadata": {
    "jupyter": {
     "source_hidden": true
    },
    "tags": []
   },
   "outputs": [
    {
     "data": {
      "text/plain": [
       "'# Sentiment scores dictionaries\\ntitle_sent = {\\n    \"title_compound\": [],\\n    \"title_pos\": [],\\n    \"title_neu\": [],\\n    \"title_neg\": [],\\n    \"title_sent\": [],\\n}\\ntext_sent = {\\n    \"text_compound\": [],\\n    \"text_pos\": [],\\n    \"text_neu\": [],\\n    \"text_neg\": [],\\n    \"text_sent\": [],\\n}\\n\\n# Get sentiment for the text and the title\\nfor index, row in commodities_df.iterrows():\\n    try:\\n        # Sentiment scoring with VADER\\n        title_sentiment = analyzer.polarity_scores(row[\"title\"])\\n        title_sent[\"title_compound\"].append(title_sentiment[\"compound\"])\\n        title_sent[\"title_pos\"].append(title_sentiment[\"pos\"])\\n        title_sent[\"title_neu\"].append(title_sentiment[\"neu\"])\\n        title_sent[\"title_neg\"].append(title_sentiment[\"neg\"])\\n        title_sent[\"title_sent\"].append(get_sentiment(title_sentiment[\"compound\"]))\\n\\n        text_sentiment = analyzer.polarity_scores(row[\"content\"])\\n        text_sent[\"text_compound\"].append(text_sentiment[\"compound\"])\\n        text_sent[\"text_pos\"].append(text_sentiment[\"pos\"])\\n        text_sent[\"text_neu\"].append(text_sentiment[\"neu\"])\\n        text_sent[\"text_neg\"].append(text_sentiment[\"neg\"])\\n        text_sent[\"text_sent\"].append(get_sentiment(text_sentiment[\"compound\"]))\\n    except AttributeError:\\n        pass\\n\\n# Attaching sentiment columns to the News DataFrame\\ntitle_sentiment_df = pd.DataFrame(title_sent)\\ntext_sentiment_df = pd.DataFrame(text_sent)\\ncommodities_joined_sentiment = commodities_df.join(title_sentiment_df).join(text_sentiment_df)'"
      ]
     },
     "execution_count": 283,
     "metadata": {},
     "output_type": "execute_result"
    }
   ],
   "source": [
    "\"\"\"# Sentiment scores dictionaries\n",
    "title_sent = {\n",
    "    \"title_compound\": [],\n",
    "    \"title_pos\": [],\n",
    "    \"title_neu\": [],\n",
    "    \"title_neg\": [],\n",
    "    \"title_sent\": [],\n",
    "}\n",
    "text_sent = {\n",
    "    \"text_compound\": [],\n",
    "    \"text_pos\": [],\n",
    "    \"text_neu\": [],\n",
    "    \"text_neg\": [],\n",
    "    \"text_sent\": [],\n",
    "}\n",
    "\n",
    "# Get sentiment for the text and the title\n",
    "for index, row in commodities_df.iterrows():\n",
    "    try:\n",
    "        # Sentiment scoring with VADER\n",
    "        title_sentiment = analyzer.polarity_scores(row[\"title\"])\n",
    "        title_sent[\"title_compound\"].append(title_sentiment[\"compound\"])\n",
    "        title_sent[\"title_pos\"].append(title_sentiment[\"pos\"])\n",
    "        title_sent[\"title_neu\"].append(title_sentiment[\"neu\"])\n",
    "        title_sent[\"title_neg\"].append(title_sentiment[\"neg\"])\n",
    "        title_sent[\"title_sent\"].append(get_sentiment(title_sentiment[\"compound\"]))\n",
    "\n",
    "        text_sentiment = analyzer.polarity_scores(row[\"content\"])\n",
    "        text_sent[\"text_compound\"].append(text_sentiment[\"compound\"])\n",
    "        text_sent[\"text_pos\"].append(text_sentiment[\"pos\"])\n",
    "        text_sent[\"text_neu\"].append(text_sentiment[\"neu\"])\n",
    "        text_sent[\"text_neg\"].append(text_sentiment[\"neg\"])\n",
    "        text_sent[\"text_sent\"].append(get_sentiment(text_sentiment[\"compound\"]))\n",
    "    except AttributeError:\n",
    "        pass\n",
    "\n",
    "# Attaching sentiment columns to the News DataFrame\n",
    "title_sentiment_df = pd.DataFrame(title_sent)\n",
    "text_sentiment_df = pd.DataFrame(text_sent)\n",
    "commodities_joined_sentiment = commodities_df.join(title_sentiment_df).join(text_sentiment_df)\"\"\""
   ]
  },
  {
   "cell_type": "code",
   "execution_count": 22,
   "id": "7713b6be-474d-4e6c-9530-fe038f86b23f",
   "metadata": {},
   "outputs": [
    {
     "data": {
      "text/html": [
       "<div>\n",
       "<style scoped>\n",
       "    .dataframe tbody tr th:only-of-type {\n",
       "        vertical-align: middle;\n",
       "    }\n",
       "\n",
       "    .dataframe tbody tr th {\n",
       "        vertical-align: top;\n",
       "    }\n",
       "\n",
       "    .dataframe thead th {\n",
       "        text-align: right;\n",
       "    }\n",
       "</style>\n",
       "<table border=\"1\" class=\"dataframe\">\n",
       "  <thead>\n",
       "    <tr style=\"text-align: right;\">\n",
       "      <th></th>\n",
       "      <th>source</th>\n",
       "      <th>author</th>\n",
       "      <th>title</th>\n",
       "      <th>description</th>\n",
       "      <th>url</th>\n",
       "      <th>urlToImage</th>\n",
       "      <th>publishedAt</th>\n",
       "      <th>content</th>\n",
       "      <th>Sentiment</th>\n",
       "      <th>neg</th>\n",
       "      <th>neu</th>\n",
       "      <th>pos</th>\n",
       "      <th>compound</th>\n",
       "    </tr>\n",
       "    <tr>\n",
       "      <th>createdAt</th>\n",
       "      <th></th>\n",
       "      <th></th>\n",
       "      <th></th>\n",
       "      <th></th>\n",
       "      <th></th>\n",
       "      <th></th>\n",
       "      <th></th>\n",
       "      <th></th>\n",
       "      <th></th>\n",
       "      <th></th>\n",
       "      <th></th>\n",
       "      <th></th>\n",
       "      <th></th>\n",
       "    </tr>\n",
       "  </thead>\n",
       "  <tbody>\n",
       "    <tr>\n",
       "      <th>2021-10-23 12:00:00+00:00</th>\n",
       "      <td>{'id': 'wired', 'name': 'Wired'}</td>\n",
       "      <td>Kylie Mohr</td>\n",
       "      <td>This Prairie Grassland Project Collects Native...</td>\n",
       "      <td>Young members of the Fort Belknap Indian Commu...</td>\n",
       "      <td>https://www.wired.com/story/this-prairie-grass...</td>\n",
       "      <td>https://media.wired.com/photos/617303503007966...</td>\n",
       "      <td>2021-10-23T12:00:00Z</td>\n",
       "      <td>The BLM funds the partnership along with priva...</td>\n",
       "      <td>positive</td>\n",
       "      <td>0.000</td>\n",
       "      <td>0.816</td>\n",
       "      <td>0.184</td>\n",
       "      <td>0.6597</td>\n",
       "    </tr>\n",
       "    <tr>\n",
       "      <th>2021-10-08 11:05:00+00:00</th>\n",
       "      <td>{'id': 'reuters', 'name': 'Reuters'}</td>\n",
       "      <td>None</td>\n",
       "      <td>Corteva faces slow start as it takes aim at Ba...</td>\n",
       "      <td>U.S. pesticide and seed maker Corteva Inc &lt;a h...</td>\n",
       "      <td>https://www.reuters.com/business/corteva-faces...</td>\n",
       "      <td>https://www.reuters.com/resizer/EGlB3ZJICxQYKp...</td>\n",
       "      <td>2021-10-08T11:05:00Z</td>\n",
       "      <td>A worker inspects soybeans during the soy harv...</td>\n",
       "      <td>positive</td>\n",
       "      <td>0.000</td>\n",
       "      <td>0.924</td>\n",
       "      <td>0.076</td>\n",
       "      <td>0.4215</td>\n",
       "    </tr>\n",
       "    <tr>\n",
       "      <th>2021-10-22 13:00:00+00:00</th>\n",
       "      <td>{'id': 'wired', 'name': 'Wired'}</td>\n",
       "      <td>Medea Giordano</td>\n",
       "      <td>15 Smart Gifts to Upgrade Your Beauty Routine</td>\n",
       "      <td>Give your loved ones the gift of feeling fabul...</td>\n",
       "      <td>https://www.wired.com/gallery/gift-ideas-for-h...</td>\n",
       "      <td>https://media.wired.com/photos/5fbda0acd840498...</td>\n",
       "      <td>2021-10-22T13:00:00Z</td>\n",
       "      <td>Makeup creates a ton of waste. Once you're don...</td>\n",
       "      <td>positive</td>\n",
       "      <td>0.000</td>\n",
       "      <td>0.485</td>\n",
       "      <td>0.515</td>\n",
       "      <td>0.8934</td>\n",
       "    </tr>\n",
       "    <tr>\n",
       "      <th>2021-10-28 14:01:01+00:00</th>\n",
       "      <td>{'id': None, 'name': 'ReadWrite'}</td>\n",
       "      <td>Ali Hasnain</td>\n",
       "      <td>Steps to Find a Black Seed Oil Buyer Online</td>\n",
       "      <td>Setting up your own international trading busi...</td>\n",
       "      <td>https://readwrite.com/2021/10/28/steps-to-find...</td>\n",
       "      <td>https://images.readwrite.com/wp-content/upload...</td>\n",
       "      <td>2021-10-28T14:01:01Z</td>\n",
       "      <td>Setting up your own international trading busi...</td>\n",
       "      <td>positive</td>\n",
       "      <td>0.000</td>\n",
       "      <td>0.964</td>\n",
       "      <td>0.036</td>\n",
       "      <td>0.1779</td>\n",
       "    </tr>\n",
       "    <tr>\n",
       "      <th>2021-10-28 22:15:00+00:00</th>\n",
       "      <td>{'id': 'reuters', 'name': 'Reuters'}</td>\n",
       "      <td>None</td>\n",
       "      <td>ATP roundup: Frances Tiafoe upsets No. 1 Stefa...</td>\n",
       "      <td>After falling behind 3-0 in the deciding set, ...</td>\n",
       "      <td>https://www.reuters.com/lifestyle/sports/atp-r...</td>\n",
       "      <td>https://www.reuters.com/resizer/kVWb0vnoOguhKh...</td>\n",
       "      <td>2021-10-28T22:15:00Z</td>\n",
       "      <td>Tokyo 2020 Olympics - Tennis - Men's Singles -...</td>\n",
       "      <td>negative</td>\n",
       "      <td>0.143</td>\n",
       "      <td>0.857</td>\n",
       "      <td>0.000</td>\n",
       "      <td>-0.6124</td>\n",
       "    </tr>\n",
       "  </tbody>\n",
       "</table>\n",
       "</div>"
      ],
      "text/plain": [
       "                                                         source  \\\n",
       "createdAt                                                         \n",
       "2021-10-23 12:00:00+00:00      {'id': 'wired', 'name': 'Wired'}   \n",
       "2021-10-08 11:05:00+00:00  {'id': 'reuters', 'name': 'Reuters'}   \n",
       "2021-10-22 13:00:00+00:00      {'id': 'wired', 'name': 'Wired'}   \n",
       "2021-10-28 14:01:01+00:00     {'id': None, 'name': 'ReadWrite'}   \n",
       "2021-10-28 22:15:00+00:00  {'id': 'reuters', 'name': 'Reuters'}   \n",
       "\n",
       "                                   author  \\\n",
       "createdAt                                   \n",
       "2021-10-23 12:00:00+00:00      Kylie Mohr   \n",
       "2021-10-08 11:05:00+00:00            None   \n",
       "2021-10-22 13:00:00+00:00  Medea Giordano   \n",
       "2021-10-28 14:01:01+00:00     Ali Hasnain   \n",
       "2021-10-28 22:15:00+00:00            None   \n",
       "\n",
       "                                                                       title  \\\n",
       "createdAt                                                                      \n",
       "2021-10-23 12:00:00+00:00  This Prairie Grassland Project Collects Native...   \n",
       "2021-10-08 11:05:00+00:00  Corteva faces slow start as it takes aim at Ba...   \n",
       "2021-10-22 13:00:00+00:00      15 Smart Gifts to Upgrade Your Beauty Routine   \n",
       "2021-10-28 14:01:01+00:00        Steps to Find a Black Seed Oil Buyer Online   \n",
       "2021-10-28 22:15:00+00:00  ATP roundup: Frances Tiafoe upsets No. 1 Stefa...   \n",
       "\n",
       "                                                                 description  \\\n",
       "createdAt                                                                      \n",
       "2021-10-23 12:00:00+00:00  Young members of the Fort Belknap Indian Commu...   \n",
       "2021-10-08 11:05:00+00:00  U.S. pesticide and seed maker Corteva Inc <a h...   \n",
       "2021-10-22 13:00:00+00:00  Give your loved ones the gift of feeling fabul...   \n",
       "2021-10-28 14:01:01+00:00  Setting up your own international trading busi...   \n",
       "2021-10-28 22:15:00+00:00  After falling behind 3-0 in the deciding set, ...   \n",
       "\n",
       "                                                                         url  \\\n",
       "createdAt                                                                      \n",
       "2021-10-23 12:00:00+00:00  https://www.wired.com/story/this-prairie-grass...   \n",
       "2021-10-08 11:05:00+00:00  https://www.reuters.com/business/corteva-faces...   \n",
       "2021-10-22 13:00:00+00:00  https://www.wired.com/gallery/gift-ideas-for-h...   \n",
       "2021-10-28 14:01:01+00:00  https://readwrite.com/2021/10/28/steps-to-find...   \n",
       "2021-10-28 22:15:00+00:00  https://www.reuters.com/lifestyle/sports/atp-r...   \n",
       "\n",
       "                                                                  urlToImage  \\\n",
       "createdAt                                                                      \n",
       "2021-10-23 12:00:00+00:00  https://media.wired.com/photos/617303503007966...   \n",
       "2021-10-08 11:05:00+00:00  https://www.reuters.com/resizer/EGlB3ZJICxQYKp...   \n",
       "2021-10-22 13:00:00+00:00  https://media.wired.com/photos/5fbda0acd840498...   \n",
       "2021-10-28 14:01:01+00:00  https://images.readwrite.com/wp-content/upload...   \n",
       "2021-10-28 22:15:00+00:00  https://www.reuters.com/resizer/kVWb0vnoOguhKh...   \n",
       "\n",
       "                                    publishedAt  \\\n",
       "createdAt                                         \n",
       "2021-10-23 12:00:00+00:00  2021-10-23T12:00:00Z   \n",
       "2021-10-08 11:05:00+00:00  2021-10-08T11:05:00Z   \n",
       "2021-10-22 13:00:00+00:00  2021-10-22T13:00:00Z   \n",
       "2021-10-28 14:01:01+00:00  2021-10-28T14:01:01Z   \n",
       "2021-10-28 22:15:00+00:00  2021-10-28T22:15:00Z   \n",
       "\n",
       "                                                                     content  \\\n",
       "createdAt                                                                      \n",
       "2021-10-23 12:00:00+00:00  The BLM funds the partnership along with priva...   \n",
       "2021-10-08 11:05:00+00:00  A worker inspects soybeans during the soy harv...   \n",
       "2021-10-22 13:00:00+00:00  Makeup creates a ton of waste. Once you're don...   \n",
       "2021-10-28 14:01:01+00:00  Setting up your own international trading busi...   \n",
       "2021-10-28 22:15:00+00:00  Tokyo 2020 Olympics - Tennis - Men's Singles -...   \n",
       "\n",
       "                          Sentiment    neg    neu    pos  compound  \n",
       "createdAt                                                           \n",
       "2021-10-23 12:00:00+00:00  positive  0.000  0.816  0.184    0.6597  \n",
       "2021-10-08 11:05:00+00:00  positive  0.000  0.924  0.076    0.4215  \n",
       "2021-10-22 13:00:00+00:00  positive  0.000  0.485  0.515    0.8934  \n",
       "2021-10-28 14:01:01+00:00  positive  0.000  0.964  0.036    0.1779  \n",
       "2021-10-28 22:15:00+00:00  negative  0.143  0.857  0.000   -0.6124  "
      ]
     },
     "execution_count": 22,
     "metadata": {},
     "output_type": "execute_result"
    }
   ],
   "source": [
    "commodities_df[\"createdAt\"] = pd.to_datetime(commodities_df[\"publishedAt\"])\n",
    "commodities_df.set_index([\"createdAt\"], inplace=True)\n",
    "commodities_df.head()"
   ]
  },
  {
   "cell_type": "code",
   "execution_count": 285,
   "id": "f182c9c9-df9d-46c8-980d-0068ca33e146",
   "metadata": {},
   "outputs": [],
   "source": [
    "#commodities_df_1.index = commodities_df_1.index.date"
   ]
  },
  {
   "cell_type": "code",
   "execution_count": 23,
   "id": "7204706e-9a0c-41a7-8a17-77ad6ad3fa38",
   "metadata": {},
   "outputs": [],
   "source": [
    "commodities_df.sort_index(inplace=True)"
   ]
  },
  {
   "cell_type": "code",
   "execution_count": null,
   "id": "3b4ecb31-04f8-4c5e-a4fa-efdea8251b19",
   "metadata": {},
   "outputs": [],
   "source": []
  },
  {
   "cell_type": "code",
   "execution_count": null,
   "id": "51b18c89-bc68-4106-b89e-e189cb893648",
   "metadata": {},
   "outputs": [],
   "source": []
  },
  {
   "cell_type": "code",
   "execution_count": 24,
   "id": "fe32da11-4afe-454b-b898-1dc04be0b9d0",
   "metadata": {},
   "outputs": [],
   "source": [
    "resampledf = commodities_df.resample('D').mean()"
   ]
  },
  {
   "cell_type": "markdown",
   "id": "b9673774-5860-44ac-a5a3-47e0594544a0",
   "metadata": {},
   "source": [
    "### Set up ARIMA Model"
   ]
  },
  {
   "cell_type": "code",
   "execution_count": 25,
   "id": "f170e174-cf01-4823-b295-330a2ce3e29c",
   "metadata": {},
   "outputs": [],
   "source": [
    "alpaca_api_key = os.getenv(\"ALPACA_API_KEY\")\n",
    "alpaca_secret_key = os.getenv(\"ALPACA_SECRET_KEY\")\n",
    "\n",
    "api = tradeapi.REST(\n",
    "    alpaca_api_key,\n",
    "    alpaca_secret_key,\n",
    "    api_version = \"v2\"\n",
    ")"
   ]
  },
  {
   "cell_type": "code",
   "execution_count": 26,
   "id": "4f4cb1e8-5295-460e-a9d0-7639a94a06df",
   "metadata": {},
   "outputs": [
    {
     "data": {
      "text/html": [
       "<div>\n",
       "<style scoped>\n",
       "    .dataframe tbody tr th:only-of-type {\n",
       "        vertical-align: middle;\n",
       "    }\n",
       "\n",
       "    .dataframe tbody tr th {\n",
       "        vertical-align: top;\n",
       "    }\n",
       "\n",
       "    .dataframe thead tr th {\n",
       "        text-align: left;\n",
       "    }\n",
       "\n",
       "    .dataframe thead tr:last-of-type th {\n",
       "        text-align: right;\n",
       "    }\n",
       "</style>\n",
       "<table border=\"1\" class=\"dataframe\">\n",
       "  <thead>\n",
       "    <tr>\n",
       "      <th></th>\n",
       "      <th colspan=\"5\" halign=\"left\">CORN</th>\n",
       "      <th colspan=\"5\" halign=\"left\">GLD</th>\n",
       "      <th>...</th>\n",
       "      <th colspan=\"5\" halign=\"left\">USO</th>\n",
       "      <th colspan=\"5\" halign=\"left\">WEAT</th>\n",
       "    </tr>\n",
       "    <tr>\n",
       "      <th></th>\n",
       "      <th>open</th>\n",
       "      <th>high</th>\n",
       "      <th>low</th>\n",
       "      <th>close</th>\n",
       "      <th>volume</th>\n",
       "      <th>open</th>\n",
       "      <th>high</th>\n",
       "      <th>low</th>\n",
       "      <th>close</th>\n",
       "      <th>volume</th>\n",
       "      <th>...</th>\n",
       "      <th>open</th>\n",
       "      <th>high</th>\n",
       "      <th>low</th>\n",
       "      <th>close</th>\n",
       "      <th>volume</th>\n",
       "      <th>open</th>\n",
       "      <th>high</th>\n",
       "      <th>low</th>\n",
       "      <th>close</th>\n",
       "      <th>volume</th>\n",
       "    </tr>\n",
       "    <tr>\n",
       "      <th>time</th>\n",
       "      <th></th>\n",
       "      <th></th>\n",
       "      <th></th>\n",
       "      <th></th>\n",
       "      <th></th>\n",
       "      <th></th>\n",
       "      <th></th>\n",
       "      <th></th>\n",
       "      <th></th>\n",
       "      <th></th>\n",
       "      <th></th>\n",
       "      <th></th>\n",
       "      <th></th>\n",
       "      <th></th>\n",
       "      <th></th>\n",
       "      <th></th>\n",
       "      <th></th>\n",
       "      <th></th>\n",
       "      <th></th>\n",
       "      <th></th>\n",
       "      <th></th>\n",
       "    </tr>\n",
       "  </thead>\n",
       "  <tbody>\n",
       "    <tr>\n",
       "      <th>2018-09-11 00:00:00-04:00</th>\n",
       "      <td>16.24</td>\n",
       "      <td>16.3100</td>\n",
       "      <td>16.2239</td>\n",
       "      <td>16.2400</td>\n",
       "      <td>32947</td>\n",
       "      <td>112.65</td>\n",
       "      <td>113.37</td>\n",
       "      <td>112.420</td>\n",
       "      <td>113.22</td>\n",
       "      <td>3196619</td>\n",
       "      <td>...</td>\n",
       "      <td>14.27</td>\n",
       "      <td>14.63</td>\n",
       "      <td>14.2300</td>\n",
       "      <td>14.600</td>\n",
       "      <td>10567587</td>\n",
       "      <td>6.44</td>\n",
       "      <td>6.44</td>\n",
       "      <td>6.3700</td>\n",
       "      <td>6.3700</td>\n",
       "      <td>52811</td>\n",
       "    </tr>\n",
       "    <tr>\n",
       "      <th>2018-09-12 00:00:00-04:00</th>\n",
       "      <td>16.19</td>\n",
       "      <td>16.2028</td>\n",
       "      <td>15.6799</td>\n",
       "      <td>15.7799</td>\n",
       "      <td>321211</td>\n",
       "      <td>113.12</td>\n",
       "      <td>114.39</td>\n",
       "      <td>113.055</td>\n",
       "      <td>114.17</td>\n",
       "      <td>5368993</td>\n",
       "      <td>...</td>\n",
       "      <td>14.75</td>\n",
       "      <td>14.96</td>\n",
       "      <td>14.6867</td>\n",
       "      <td>14.775</td>\n",
       "      <td>16562274</td>\n",
       "      <td>6.44</td>\n",
       "      <td>6.48</td>\n",
       "      <td>6.2000</td>\n",
       "      <td>6.2601</td>\n",
       "      <td>369377</td>\n",
       "    </tr>\n",
       "    <tr>\n",
       "      <th>2018-09-13 00:00:00-04:00</th>\n",
       "      <td>15.76</td>\n",
       "      <td>15.8000</td>\n",
       "      <td>15.6262</td>\n",
       "      <td>15.7000</td>\n",
       "      <td>51794</td>\n",
       "      <td>114.72</td>\n",
       "      <td>114.78</td>\n",
       "      <td>113.580</td>\n",
       "      <td>113.76</td>\n",
       "      <td>4408720</td>\n",
       "      <td>...</td>\n",
       "      <td>14.61</td>\n",
       "      <td>14.67</td>\n",
       "      <td>14.3900</td>\n",
       "      <td>14.480</td>\n",
       "      <td>17497577</td>\n",
       "      <td>6.27</td>\n",
       "      <td>6.27</td>\n",
       "      <td>6.1700</td>\n",
       "      <td>6.1800</td>\n",
       "      <td>265403</td>\n",
       "    </tr>\n",
       "    <tr>\n",
       "      <th>2018-09-14 00:00:00-04:00</th>\n",
       "      <td>15.65</td>\n",
       "      <td>15.7300</td>\n",
       "      <td>15.6466</td>\n",
       "      <td>15.7100</td>\n",
       "      <td>55998</td>\n",
       "      <td>113.79</td>\n",
       "      <td>113.90</td>\n",
       "      <td>112.910</td>\n",
       "      <td>113.01</td>\n",
       "      <td>4797014</td>\n",
       "      <td>...</td>\n",
       "      <td>14.48</td>\n",
       "      <td>14.71</td>\n",
       "      <td>14.3100</td>\n",
       "      <td>14.500</td>\n",
       "      <td>15650639</td>\n",
       "      <td>6.25</td>\n",
       "      <td>6.33</td>\n",
       "      <td>6.2067</td>\n",
       "      <td>6.3200</td>\n",
       "      <td>107571</td>\n",
       "    </tr>\n",
       "    <tr>\n",
       "      <th>2018-09-17 00:00:00-04:00</th>\n",
       "      <td>15.68</td>\n",
       "      <td>15.6800</td>\n",
       "      <td>15.5750</td>\n",
       "      <td>15.5900</td>\n",
       "      <td>97311</td>\n",
       "      <td>113.60</td>\n",
       "      <td>114.03</td>\n",
       "      <td>113.550</td>\n",
       "      <td>113.61</td>\n",
       "      <td>3872536</td>\n",
       "      <td>...</td>\n",
       "      <td>14.61</td>\n",
       "      <td>14.66</td>\n",
       "      <td>14.4200</td>\n",
       "      <td>14.470</td>\n",
       "      <td>13367750</td>\n",
       "      <td>6.29</td>\n",
       "      <td>6.33</td>\n",
       "      <td>6.2500</td>\n",
       "      <td>6.2500</td>\n",
       "      <td>122526</td>\n",
       "    </tr>\n",
       "  </tbody>\n",
       "</table>\n",
       "<p>5 rows × 25 columns</p>\n",
       "</div>"
      ],
      "text/plain": [
       "                            CORN                                        GLD  \\\n",
       "                            open     high      low    close  volume    open   \n",
       "time                                                                          \n",
       "2018-09-11 00:00:00-04:00  16.24  16.3100  16.2239  16.2400   32947  112.65   \n",
       "2018-09-12 00:00:00-04:00  16.19  16.2028  15.6799  15.7799  321211  113.12   \n",
       "2018-09-13 00:00:00-04:00  15.76  15.8000  15.6262  15.7000   51794  114.72   \n",
       "2018-09-14 00:00:00-04:00  15.65  15.7300  15.6466  15.7100   55998  113.79   \n",
       "2018-09-17 00:00:00-04:00  15.68  15.6800  15.5750  15.5900   97311  113.60   \n",
       "\n",
       "                                                             ...    USO  \\\n",
       "                             high      low   close   volume  ...   open   \n",
       "time                                                         ...          \n",
       "2018-09-11 00:00:00-04:00  113.37  112.420  113.22  3196619  ...  14.27   \n",
       "2018-09-12 00:00:00-04:00  114.39  113.055  114.17  5368993  ...  14.75   \n",
       "2018-09-13 00:00:00-04:00  114.78  113.580  113.76  4408720  ...  14.61   \n",
       "2018-09-14 00:00:00-04:00  113.90  112.910  113.01  4797014  ...  14.48   \n",
       "2018-09-17 00:00:00-04:00  114.03  113.550  113.61  3872536  ...  14.61   \n",
       "\n",
       "                                                             WEAT        \\\n",
       "                            high      low   close    volume  open  high   \n",
       "time                                                                      \n",
       "2018-09-11 00:00:00-04:00  14.63  14.2300  14.600  10567587  6.44  6.44   \n",
       "2018-09-12 00:00:00-04:00  14.96  14.6867  14.775  16562274  6.44  6.48   \n",
       "2018-09-13 00:00:00-04:00  14.67  14.3900  14.480  17497577  6.27  6.27   \n",
       "2018-09-14 00:00:00-04:00  14.71  14.3100  14.500  15650639  6.25  6.33   \n",
       "2018-09-17 00:00:00-04:00  14.66  14.4200  14.470  13367750  6.29  6.33   \n",
       "\n",
       "                                                   \n",
       "                              low   close  volume  \n",
       "time                                               \n",
       "2018-09-11 00:00:00-04:00  6.3700  6.3700   52811  \n",
       "2018-09-12 00:00:00-04:00  6.2000  6.2601  369377  \n",
       "2018-09-13 00:00:00-04:00  6.1700  6.1800  265403  \n",
       "2018-09-14 00:00:00-04:00  6.2067  6.3200  107571  \n",
       "2018-09-17 00:00:00-04:00  6.2500  6.2500  122526  \n",
       "\n",
       "[5 rows x 25 columns]"
      ]
     },
     "execution_count": 26,
     "metadata": {},
     "output_type": "execute_result"
    }
   ],
   "source": [
    "# Set timeframe to '1D'\n",
    "timeframe = \"1D\"\n",
    "\n",
    "# Set start and end datetimes between now and 3 years ago.\n",
    "start_date = pd.Timestamp(\"2018-09-11\", tz=\"America/New_York\").isoformat()\n",
    "end_date = pd.Timestamp(\"2021-11-01\", tz=\"America/New_York\").isoformat()\n",
    "\n",
    "# Set the ticker information\n",
    "tickers = [\"CORN\", \"WEAT\", \"JO\", \"GLD\", \"USO\"]\n",
    "\n",
    "# Get 3 year's worth of historical price data for Microsoft and Coca-Cola\n",
    "df_portfolio = api.get_barset(\n",
    "    tickers,\n",
    "    timeframe,\n",
    "    start=start_date,\n",
    "    end=end_date,\n",
    "    limit=1000,\n",
    ").df\n",
    "\n",
    "# Display sample data\n",
    "df_portfolio.head()"
   ]
  },
  {
   "cell_type": "code",
   "execution_count": 27,
   "id": "a65880c6-9f36-42d4-b1c5-0149d302eb39",
   "metadata": {},
   "outputs": [],
   "source": [
    "port_data = pd.DataFrame()\n",
    "\n",
    "for c in df_portfolio.columns:\n",
    "    if c[1] in \"close\":\n",
    "        port_data[c[0]] = df_portfolio[c[0]][c[1]]"
   ]
  },
  {
   "cell_type": "code",
   "execution_count": 28,
   "id": "0f74c02c-60b2-4e92-aff2-bfa74703ea96",
   "metadata": {},
   "outputs": [],
   "source": [
    "port_data.index = pd.to_datetime(port_data.index)"
   ]
  },
  {
   "cell_type": "code",
   "execution_count": 29,
   "id": "f52a6890-c06d-4889-b87e-0dd67d8ba093",
   "metadata": {},
   "outputs": [],
   "source": [
    "port_data.sort_index(inplace=True)"
   ]
  },
  {
   "cell_type": "code",
   "execution_count": 30,
   "id": "500b2a0c-eb59-4350-9e9c-9e2e0167e595",
   "metadata": {},
   "outputs": [
    {
     "data": {
      "text/plain": [
       "DatetimeIndex(['2018-09-11 00:00:00-04:00', '2018-09-12 00:00:00-04:00',\n",
       "               '2018-09-13 00:00:00-04:00', '2018-09-14 00:00:00-04:00',\n",
       "               '2018-09-17 00:00:00-04:00', '2018-09-18 00:00:00-04:00',\n",
       "               '2018-09-19 00:00:00-04:00', '2018-09-20 00:00:00-04:00',\n",
       "               '2018-09-21 00:00:00-04:00', '2018-09-24 00:00:00-04:00',\n",
       "               ...\n",
       "               '2021-10-19 00:00:00-04:00', '2021-10-20 00:00:00-04:00',\n",
       "               '2021-10-21 00:00:00-04:00', '2021-10-22 00:00:00-04:00',\n",
       "               '2021-10-25 00:00:00-04:00', '2021-10-26 00:00:00-04:00',\n",
       "               '2021-10-27 00:00:00-04:00', '2021-10-28 00:00:00-04:00',\n",
       "               '2021-10-29 00:00:00-04:00', '2021-11-01 00:00:00-04:00'],\n",
       "              dtype='datetime64[ns, America/New_York]', name='time', length=792, freq=None)"
      ]
     },
     "execution_count": 30,
     "metadata": {},
     "output_type": "execute_result"
    }
   ],
   "source": [
    "port_data.index"
   ]
  },
  {
   "cell_type": "code",
   "execution_count": 31,
   "id": "92c9f1ad-dbda-4f8a-a968-954664459da1",
   "metadata": {},
   "outputs": [
    {
     "data": {
      "text/html": [
       "<div>\n",
       "<style scoped>\n",
       "    .dataframe tbody tr th:only-of-type {\n",
       "        vertical-align: middle;\n",
       "    }\n",
       "\n",
       "    .dataframe tbody tr th {\n",
       "        vertical-align: top;\n",
       "    }\n",
       "\n",
       "    .dataframe thead th {\n",
       "        text-align: right;\n",
       "    }\n",
       "</style>\n",
       "<table border=\"1\" class=\"dataframe\">\n",
       "  <thead>\n",
       "    <tr style=\"text-align: right;\">\n",
       "      <th></th>\n",
       "      <th>CORN</th>\n",
       "      <th>GLD</th>\n",
       "      <th>JO</th>\n",
       "      <th>USO</th>\n",
       "      <th>WEAT</th>\n",
       "    </tr>\n",
       "    <tr>\n",
       "      <th>time</th>\n",
       "      <th></th>\n",
       "      <th></th>\n",
       "      <th></th>\n",
       "      <th></th>\n",
       "      <th></th>\n",
       "    </tr>\n",
       "  </thead>\n",
       "  <tbody>\n",
       "    <tr>\n",
       "      <th>2021-10-05 00:00:00-04:00</th>\n",
       "      <td>20.3700</td>\n",
       "      <td>164.5800</td>\n",
       "      <td>52.9800</td>\n",
       "      <td>55.63</td>\n",
       "      <td>7.25</td>\n",
       "    </tr>\n",
       "    <tr>\n",
       "      <th>2021-10-06 00:00:00-04:00</th>\n",
       "      <td>20.2000</td>\n",
       "      <td>165.0000</td>\n",
       "      <td>53.7700</td>\n",
       "      <td>54.13</td>\n",
       "      <td>7.26</td>\n",
       "    </tr>\n",
       "    <tr>\n",
       "      <th>2021-10-07 00:00:00-04:00</th>\n",
       "      <td>20.2400</td>\n",
       "      <td>164.1398</td>\n",
       "      <td>54.7300</td>\n",
       "      <td>55.35</td>\n",
       "      <td>7.26</td>\n",
       "    </tr>\n",
       "    <tr>\n",
       "      <th>2021-10-08 00:00:00-04:00</th>\n",
       "      <td>20.1700</td>\n",
       "      <td>164.2500</td>\n",
       "      <td>55.4200</td>\n",
       "      <td>55.46</td>\n",
       "      <td>7.17</td>\n",
       "    </tr>\n",
       "    <tr>\n",
       "      <th>2021-10-11 00:00:00-04:00</th>\n",
       "      <td>20.2600</td>\n",
       "      <td>163.9300</td>\n",
       "      <td>56.1900</td>\n",
       "      <td>56.16</td>\n",
       "      <td>7.18</td>\n",
       "    </tr>\n",
       "    <tr>\n",
       "      <th>2021-10-12 00:00:00-04:00</th>\n",
       "      <td>19.9700</td>\n",
       "      <td>164.6600</td>\n",
       "      <td>58.8750</td>\n",
       "      <td>56.11</td>\n",
       "      <td>7.21</td>\n",
       "    </tr>\n",
       "    <tr>\n",
       "      <th>2021-10-13 00:00:00-04:00</th>\n",
       "      <td>19.5600</td>\n",
       "      <td>167.5600</td>\n",
       "      <td>57.3300</td>\n",
       "      <td>56.17</td>\n",
       "      <td>7.05</td>\n",
       "    </tr>\n",
       "    <tr>\n",
       "      <th>2021-10-14 00:00:00-04:00</th>\n",
       "      <td>19.6900</td>\n",
       "      <td>167.9800</td>\n",
       "      <td>57.9550</td>\n",
       "      <td>56.80</td>\n",
       "      <td>7.08</td>\n",
       "    </tr>\n",
       "    <tr>\n",
       "      <th>2021-10-15 00:00:00-04:00</th>\n",
       "      <td>20.0200</td>\n",
       "      <td>165.3400</td>\n",
       "      <td>56.0200</td>\n",
       "      <td>57.16</td>\n",
       "      <td>7.18</td>\n",
       "    </tr>\n",
       "    <tr>\n",
       "      <th>2021-10-18 00:00:00-04:00</th>\n",
       "      <td>20.1800</td>\n",
       "      <td>164.9400</td>\n",
       "      <td>55.6600</td>\n",
       "      <td>56.96</td>\n",
       "      <td>7.20</td>\n",
       "    </tr>\n",
       "    <tr>\n",
       "      <th>2021-10-19 00:00:00-04:00</th>\n",
       "      <td>20.1000</td>\n",
       "      <td>165.4700</td>\n",
       "      <td>56.6200</td>\n",
       "      <td>57.42</td>\n",
       "      <td>7.22</td>\n",
       "    </tr>\n",
       "    <tr>\n",
       "      <th>2021-10-20 00:00:00-04:00</th>\n",
       "      <td>20.4546</td>\n",
       "      <td>166.9000</td>\n",
       "      <td>56.6041</td>\n",
       "      <td>58.11</td>\n",
       "      <td>7.31</td>\n",
       "    </tr>\n",
       "    <tr>\n",
       "      <th>2021-10-21 00:00:00-04:00</th>\n",
       "      <td>20.2100</td>\n",
       "      <td>166.7600</td>\n",
       "      <td>56.4900</td>\n",
       "      <td>57.41</td>\n",
       "      <td>7.26</td>\n",
       "    </tr>\n",
       "    <tr>\n",
       "      <th>2021-10-22 00:00:00-04:00</th>\n",
       "      <td>20.3900</td>\n",
       "      <td>167.7600</td>\n",
       "      <td>55.3300</td>\n",
       "      <td>58.03</td>\n",
       "      <td>7.39</td>\n",
       "    </tr>\n",
       "    <tr>\n",
       "      <th>2021-10-25 00:00:00-04:00</th>\n",
       "      <td>20.4200</td>\n",
       "      <td>168.9200</td>\n",
       "      <td>55.7500</td>\n",
       "      <td>57.84</td>\n",
       "      <td>7.43</td>\n",
       "    </tr>\n",
       "    <tr>\n",
       "      <th>2021-10-26 00:00:00-04:00</th>\n",
       "      <td>20.5100</td>\n",
       "      <td>167.6800</td>\n",
       "      <td>57.4100</td>\n",
       "      <td>58.47</td>\n",
       "      <td>7.35</td>\n",
       "    </tr>\n",
       "    <tr>\n",
       "      <th>2021-10-27 00:00:00-04:00</th>\n",
       "      <td>21.0300</td>\n",
       "      <td>168.1300</td>\n",
       "      <td>55.1300</td>\n",
       "      <td>56.89</td>\n",
       "      <td>7.46</td>\n",
       "    </tr>\n",
       "    <tr>\n",
       "      <th>2021-10-28 00:00:00-04:00</th>\n",
       "      <td>21.2300</td>\n",
       "      <td>168.1000</td>\n",
       "      <td>54.9300</td>\n",
       "      <td>57.41</td>\n",
       "      <td>7.56</td>\n",
       "    </tr>\n",
       "    <tr>\n",
       "      <th>2021-10-29 00:00:00-04:00</th>\n",
       "      <td>21.3700</td>\n",
       "      <td>166.6600</td>\n",
       "      <td>56.0800</td>\n",
       "      <td>57.17</td>\n",
       "      <td>7.53</td>\n",
       "    </tr>\n",
       "    <tr>\n",
       "      <th>2021-11-01 00:00:00-04:00</th>\n",
       "      <td>21.6600</td>\n",
       "      <td>167.5400</td>\n",
       "      <td>57.4500</td>\n",
       "      <td>57.53</td>\n",
       "      <td>7.76</td>\n",
       "    </tr>\n",
       "  </tbody>\n",
       "</table>\n",
       "</div>"
      ],
      "text/plain": [
       "                              CORN       GLD       JO    USO  WEAT\n",
       "time                                                              \n",
       "2021-10-05 00:00:00-04:00  20.3700  164.5800  52.9800  55.63  7.25\n",
       "2021-10-06 00:00:00-04:00  20.2000  165.0000  53.7700  54.13  7.26\n",
       "2021-10-07 00:00:00-04:00  20.2400  164.1398  54.7300  55.35  7.26\n",
       "2021-10-08 00:00:00-04:00  20.1700  164.2500  55.4200  55.46  7.17\n",
       "2021-10-11 00:00:00-04:00  20.2600  163.9300  56.1900  56.16  7.18\n",
       "2021-10-12 00:00:00-04:00  19.9700  164.6600  58.8750  56.11  7.21\n",
       "2021-10-13 00:00:00-04:00  19.5600  167.5600  57.3300  56.17  7.05\n",
       "2021-10-14 00:00:00-04:00  19.6900  167.9800  57.9550  56.80  7.08\n",
       "2021-10-15 00:00:00-04:00  20.0200  165.3400  56.0200  57.16  7.18\n",
       "2021-10-18 00:00:00-04:00  20.1800  164.9400  55.6600  56.96  7.20\n",
       "2021-10-19 00:00:00-04:00  20.1000  165.4700  56.6200  57.42  7.22\n",
       "2021-10-20 00:00:00-04:00  20.4546  166.9000  56.6041  58.11  7.31\n",
       "2021-10-21 00:00:00-04:00  20.2100  166.7600  56.4900  57.41  7.26\n",
       "2021-10-22 00:00:00-04:00  20.3900  167.7600  55.3300  58.03  7.39\n",
       "2021-10-25 00:00:00-04:00  20.4200  168.9200  55.7500  57.84  7.43\n",
       "2021-10-26 00:00:00-04:00  20.5100  167.6800  57.4100  58.47  7.35\n",
       "2021-10-27 00:00:00-04:00  21.0300  168.1300  55.1300  56.89  7.46\n",
       "2021-10-28 00:00:00-04:00  21.2300  168.1000  54.9300  57.41  7.56\n",
       "2021-10-29 00:00:00-04:00  21.3700  166.6600  56.0800  57.17  7.53\n",
       "2021-11-01 00:00:00-04:00  21.6600  167.5400  57.4500  57.53  7.76"
      ]
     },
     "execution_count": 31,
     "metadata": {},
     "output_type": "execute_result"
    }
   ],
   "source": [
    "port_data.loc['2021-10-05':'2021-11-01']\n"
   ]
  },
  {
   "cell_type": "code",
   "execution_count": 32,
   "id": "9af4c9a1-7829-4d26-9ddf-d6cedad798e4",
   "metadata": {},
   "outputs": [],
   "source": [
    "resampledf.index = pd.to_datetime(resampledf.index.date)\n",
    "port_data.index = pd.to_datetime(port_data.index.date)"
   ]
  },
  {
   "cell_type": "code",
   "execution_count": 33,
   "id": "3d887ec7-3bde-4a97-8be2-975a38276e59",
   "metadata": {},
   "outputs": [],
   "source": [
    "one_month_data = pd.concat([port_data.loc['2021-10-05':'2021-11-01'], resampledf.loc[:,['compound']]], axis=1, join= 'inner')"
   ]
  },
  {
   "cell_type": "code",
   "execution_count": 34,
   "id": "69d53f60-01ce-4bb1-80ba-d4fc68c3aa75",
   "metadata": {},
   "outputs": [
    {
     "data": {
      "text/html": [
       "<div>\n",
       "<style scoped>\n",
       "    .dataframe tbody tr th:only-of-type {\n",
       "        vertical-align: middle;\n",
       "    }\n",
       "\n",
       "    .dataframe tbody tr th {\n",
       "        vertical-align: top;\n",
       "    }\n",
       "\n",
       "    .dataframe thead th {\n",
       "        text-align: right;\n",
       "    }\n",
       "</style>\n",
       "<table border=\"1\" class=\"dataframe\">\n",
       "  <thead>\n",
       "    <tr style=\"text-align: right;\">\n",
       "      <th></th>\n",
       "      <th>CORN</th>\n",
       "      <th>GLD</th>\n",
       "      <th>JO</th>\n",
       "      <th>USO</th>\n",
       "      <th>WEAT</th>\n",
       "      <th>compound</th>\n",
       "    </tr>\n",
       "  </thead>\n",
       "  <tbody>\n",
       "    <tr>\n",
       "      <th>2021-10-05</th>\n",
       "      <td>20.37</td>\n",
       "      <td>164.5800</td>\n",
       "      <td>52.98</td>\n",
       "      <td>55.63</td>\n",
       "      <td>7.25</td>\n",
       "      <td>0.236978</td>\n",
       "    </tr>\n",
       "    <tr>\n",
       "      <th>2021-10-06</th>\n",
       "      <td>20.20</td>\n",
       "      <td>165.0000</td>\n",
       "      <td>53.77</td>\n",
       "      <td>54.13</td>\n",
       "      <td>7.26</td>\n",
       "      <td>0.250000</td>\n",
       "    </tr>\n",
       "    <tr>\n",
       "      <th>2021-10-07</th>\n",
       "      <td>20.24</td>\n",
       "      <td>164.1398</td>\n",
       "      <td>54.73</td>\n",
       "      <td>55.35</td>\n",
       "      <td>7.26</td>\n",
       "      <td>0.371400</td>\n",
       "    </tr>\n",
       "    <tr>\n",
       "      <th>2021-10-08</th>\n",
       "      <td>20.17</td>\n",
       "      <td>164.2500</td>\n",
       "      <td>55.42</td>\n",
       "      <td>55.46</td>\n",
       "      <td>7.17</td>\n",
       "      <td>0.582250</td>\n",
       "    </tr>\n",
       "    <tr>\n",
       "      <th>2021-10-11</th>\n",
       "      <td>20.26</td>\n",
       "      <td>163.9300</td>\n",
       "      <td>56.19</td>\n",
       "      <td>56.16</td>\n",
       "      <td>7.18</td>\n",
       "      <td>0.163600</td>\n",
       "    </tr>\n",
       "  </tbody>\n",
       "</table>\n",
       "</div>"
      ],
      "text/plain": [
       "             CORN       GLD     JO    USO  WEAT  compound\n",
       "2021-10-05  20.37  164.5800  52.98  55.63  7.25  0.236978\n",
       "2021-10-06  20.20  165.0000  53.77  54.13  7.26  0.250000\n",
       "2021-10-07  20.24  164.1398  54.73  55.35  7.26  0.371400\n",
       "2021-10-08  20.17  164.2500  55.42  55.46  7.17  0.582250\n",
       "2021-10-11  20.26  163.9300  56.19  56.16  7.18  0.163600"
      ]
     },
     "execution_count": 34,
     "metadata": {},
     "output_type": "execute_result"
    }
   ],
   "source": [
    "one_month_data.head()"
   ]
  },
  {
   "cell_type": "markdown",
   "id": "bb27c726-6ec1-4e93-a503-426209bd6da8",
   "metadata": {},
   "source": [
    "#### Looking at the plot, it shows that Gold and Oil (USO) have the most fluctuations "
   ]
  },
  {
   "cell_type": "code",
   "execution_count": 36,
   "id": "2a4f0ea3-df27-4bd3-bbbf-5a97bc21380d",
   "metadata": {},
   "outputs": [
    {
     "data": {
      "text/plain": [
       "<AxesSubplot:>"
      ]
     },
     "execution_count": 36,
     "metadata": {},
     "output_type": "execute_result"
    },
    {
     "data": {
      "image/png": "[encoded data removed]",
      "text/plain": [
       "<Figure size 432x288 with 1 Axes>"
      ]
     },
     "metadata": {
      "needs_background": "light"
     },
     "output_type": "display_data"
    }
   ],
   "source": [
    "port_data.plot()"
   ]
  },
  {
   "cell_type": "code",
   "execution_count": 37,
   "id": "539c69f6-81ba-4544-901d-e5ca43232b8d",
   "metadata": {},
   "outputs": [
    {
     "data": {
      "text/plain": [
       "<AxesSubplot:>"
      ]
     },
     "execution_count": 37,
     "metadata": {},
     "output_type": "execute_result"
    },
    {
     "data": {
      "image/png": "[encoded data removed]",
      "text/plain": [
       "<Figure size 432x288 with 1 Axes>"
      ]
     },
     "metadata": {
      "needs_background": "light"
     },
     "output_type": "display_data"
    }
   ],
   "source": [
    "d1_data = port_data.copy().diff().dropna()\n",
    "d1_data.plot()"
   ]
  },
  {
   "cell_type": "code",
   "execution_count": 38,
   "id": "b3fa7174-f100-42a6-ac7e-3349f83c69b7",
   "metadata": {},
   "outputs": [
    {
     "data": {
      "text/html": [
       "<div>\n",
       "<style scoped>\n",
       "    .dataframe tbody tr th:only-of-type {\n",
       "        vertical-align: middle;\n",
       "    }\n",
       "\n",
       "    .dataframe tbody tr th {\n",
       "        vertical-align: top;\n",
       "    }\n",
       "\n",
       "    .dataframe thead th {\n",
       "        text-align: right;\n",
       "    }\n",
       "</style>\n",
       "<table border=\"1\" class=\"dataframe\">\n",
       "  <thead>\n",
       "    <tr style=\"text-align: right;\">\n",
       "      <th></th>\n",
       "      <th>CORN</th>\n",
       "      <th>GLD</th>\n",
       "      <th>JO</th>\n",
       "      <th>USO</th>\n",
       "      <th>WEAT</th>\n",
       "    </tr>\n",
       "  </thead>\n",
       "  <tbody>\n",
       "    <tr>\n",
       "      <th>2018-11-20</th>\n",
       "      <td>-0.04</td>\n",
       "      <td>-0.05</td>\n",
       "      <td>-0.3800</td>\n",
       "      <td>-0.860</td>\n",
       "      <td>0.0200</td>\n",
       "    </tr>\n",
       "    <tr>\n",
       "      <th>2018-11-21</th>\n",
       "      <td>0.03</td>\n",
       "      <td>0.25</td>\n",
       "      <td>-0.6200</td>\n",
       "      <td>0.240</td>\n",
       "      <td>-0.0599</td>\n",
       "    </tr>\n",
       "    <tr>\n",
       "      <th>2018-11-23</th>\n",
       "      <td>-0.07</td>\n",
       "      <td>-0.13</td>\n",
       "      <td>-0.7501</td>\n",
       "      <td>-0.670</td>\n",
       "      <td>0.0099</td>\n",
       "    </tr>\n",
       "    <tr>\n",
       "      <th>2018-11-26</th>\n",
       "      <td>-0.12</td>\n",
       "      <td>-0.11</td>\n",
       "      <td>-0.0698</td>\n",
       "      <td>0.095</td>\n",
       "      <td>0.0650</td>\n",
       "    </tr>\n",
       "    <tr>\n",
       "      <th>2018-11-27</th>\n",
       "      <td>0.01</td>\n",
       "      <td>-0.69</td>\n",
       "      <td>0.8699</td>\n",
       "      <td>0.010</td>\n",
       "      <td>-0.0849</td>\n",
       "    </tr>\n",
       "  </tbody>\n",
       "</table>\n",
       "</div>"
      ],
      "text/plain": [
       "            CORN   GLD      JO    USO    WEAT\n",
       "2018-11-20 -0.04 -0.05 -0.3800 -0.860  0.0200\n",
       "2018-11-21  0.03  0.25 -0.6200  0.240 -0.0599\n",
       "2018-11-23 -0.07 -0.13 -0.7501 -0.670  0.0099\n",
       "2018-11-26 -0.12 -0.11 -0.0698  0.095  0.0650\n",
       "2018-11-27  0.01 -0.69  0.8699  0.010 -0.0849"
      ]
     },
     "execution_count": 38,
     "metadata": {},
     "output_type": "execute_result"
    }
   ],
   "source": [
    "#Difference between two rows \n",
    "d1_data.head()"
   ]
  },
  {
   "cell_type": "code",
   "execution_count": 39,
   "id": "16130634-61d4-4dfe-91ca-8d550e90eae0",
   "metadata": {},
   "outputs": [],
   "source": [
    "from statsmodels.tsa.stattools import kpss, adfuller "
   ]
  },
  {
   "cell_type": "markdown",
   "id": "53cc2121-e322-4d38-a69b-c9823a1c05ad",
   "metadata": {},
   "source": [
    "### Look at the p-value and the adfuller to check for stationarity "
   ]
  },
  {
   "cell_type": "code",
   "execution_count": 40,
   "id": "da0fd64b-dc1e-4875-aa94-2dc6736283ff",
   "metadata": {},
   "outputs": [
    {
     "name": "stdout",
     "output_type": "stream",
     "text": [
      "stationary\n"
     ]
    }
   ],
   "source": [
    "#if p-value is less than .05 then adf says the series is stationary\n",
    "if adfuller(d1_data[\"CORN\"])[1] < 0.05:\n",
    "    print(\"stationary\")"
   ]
  },
  {
   "cell_type": "code",
   "execution_count": 41,
   "id": "8dca45d4-e4c7-4973-b16c-95852b5b4527",
   "metadata": {},
   "outputs": [
    {
     "name": "stdout",
     "output_type": "stream",
     "text": [
      "stationary\n"
     ]
    }
   ],
   "source": [
    "if adfuller(d1_data[\"GLD\"])[1] < 0.05:\n",
    "    print(\"stationary\")"
   ]
  },
  {
   "cell_type": "code",
   "execution_count": 42,
   "id": "6b446d37-0ffa-48cf-a25b-382d87f2eabc",
   "metadata": {},
   "outputs": [
    {
     "name": "stdout",
     "output_type": "stream",
     "text": [
      "stationary\n"
     ]
    }
   ],
   "source": [
    "if adfuller(d1_data[\"JO\"])[1] < 0.05:\n",
    "    print(\"stationary\")"
   ]
  },
  {
   "cell_type": "code",
   "execution_count": 43,
   "id": "0b98c7fa-dd71-4189-98e0-ee3660983075",
   "metadata": {},
   "outputs": [
    {
     "name": "stdout",
     "output_type": "stream",
     "text": [
      "stationary\n"
     ]
    }
   ],
   "source": [
    "if adfuller(d1_data[\"USO\"])[1] < 0.05:\n",
    "    print(\"stationary\")"
   ]
  },
  {
   "cell_type": "code",
   "execution_count": 44,
   "id": "27b995df-2455-4314-addb-1413913b27c6",
   "metadata": {},
   "outputs": [],
   "source": [
    "#adfuller(d1_data[\"WEAT\"])"
   ]
  },
  {
   "cell_type": "code",
   "execution_count": 45,
   "id": "51612b3a-de60-46ef-b6b8-d43b71f49d26",
   "metadata": {},
   "outputs": [
    {
     "name": "stdout",
     "output_type": "stream",
     "text": [
      "stationary\n"
     ]
    }
   ],
   "source": [
    "if adfuller(d1_data[\"WEAT\"])[1] < 0.05:\n",
    "    print(\"stationary\")"
   ]
  },
  {
   "cell_type": "markdown",
   "id": "e304f1a2-17b0-45aa-879f-00705768b002",
   "metadata": {},
   "source": [
    "#### Check Stationarity again using the KPSS model to be really thorough "
   ]
  },
  {
   "cell_type": "code",
   "execution_count": 46,
   "id": "bce45767-35ad-4ef0-a38e-d33b03b6497c",
   "metadata": {},
   "outputs": [
    {
     "name": "stdout",
     "output_type": "stream",
     "text": [
      "KPSS Statistic: 0.39203580149978295\n",
      "p-value: 0.08058801659492114\n",
      "num lags: 7\n",
      "Critial Values:\n",
      "   5% : 0.463\n",
      "Result: The series is stationary\n"
     ]
    }
   ],
   "source": [
    "from statsmodels.tsa.stattools import kpss\n",
    "\n",
    "def kpss_test(series, **kw):    \n",
    "    statistic, p_value, n_lags, critical_values = kpss(series, **kw)\n",
    "    # Format Output\n",
    "    print(f'KPSS Statistic: {statistic}')\n",
    "    print(f'p-value: {p_value}')\n",
    "    print(f'num lags: {n_lags}')\n",
    "    print('Critial Values:')\n",
    "    for key, value in critical_values.items():\n",
    "        if \"5%\" == key:\n",
    "            print(f'   {key} : {value}')\n",
    "            print(f'Result: The series is {\"not \" if statistic >= value else \"\"}stationary')\n",
    "\n",
    "kpss_test(d1_data[\"CORN\"], regression=\"c\", nlags=\"auto\") # regression=\"ct\" to test for trend too"
   ]
  },
  {
   "cell_type": "code",
   "execution_count": 50,
   "id": "31c7eb64-d97a-460b-b477-1722a9783684",
   "metadata": {},
   "outputs": [
    {
     "name": "stdout",
     "output_type": "stream",
     "text": [
      "KPSS Statistic: 0.1783738440138303\n",
      "p-value: 0.1\n",
      "num lags: 11\n",
      "Critial Values:\n",
      "   5% : 0.463\n",
      "Result: The series is stationary\n"
     ]
    },
    {
     "name": "stderr",
     "output_type": "stream",
     "text": [
      "/Users/jacqueline/opt/anaconda3/envs/dev/lib/python3.7/site-packages/statsmodels/tsa/stattools.py:1911: InterpolationWarning: The test statistic is outside of the range of p-values available in the\n",
      "look-up table. The actual p-value is greater than the p-value returned.\n",
      "\n",
      "  warn_msg.format(direction=\"greater\"), InterpolationWarning\n"
     ]
    }
   ],
   "source": [
    "kpss_test(d1_data[\"GLD\"], regression=\"c\", nlags=\"auto\") # regression=\"ct\" to test for trend too"
   ]
  },
  {
   "cell_type": "code",
   "execution_count": 51,
   "id": "f5cb7cd1-751a-463b-a5c4-56ffa1a2793a",
   "metadata": {},
   "outputs": [
    {
     "name": "stdout",
     "output_type": "stream",
     "text": [
      "KPSS Statistic: 0.2833043252592147\n",
      "p-value: 0.1\n",
      "num lags: 2\n",
      "Critial Values:\n",
      "   5% : 0.463\n",
      "Result: The series is stationary\n"
     ]
    },
    {
     "name": "stderr",
     "output_type": "stream",
     "text": [
      "/Users/jacqueline/opt/anaconda3/envs/dev/lib/python3.7/site-packages/statsmodels/tsa/stattools.py:1911: InterpolationWarning: The test statistic is outside of the range of p-values available in the\n",
      "look-up table. The actual p-value is greater than the p-value returned.\n",
      "\n",
      "  warn_msg.format(direction=\"greater\"), InterpolationWarning\n"
     ]
    }
   ],
   "source": [
    "kpss_test(d1_data[\"USO\"], regression=\"c\", nlags=\"auto\") # regression=\"ct\" to test for trend too"
   ]
  },
  {
   "cell_type": "code",
   "execution_count": 53,
   "id": "90465a86-fb15-403e-853f-18123e1bc36d",
   "metadata": {},
   "outputs": [
    {
     "name": "stdout",
     "output_type": "stream",
     "text": [
      "KPSS Statistic: 0.26753808599960577\n",
      "p-value: 0.1\n",
      "num lags: 6\n",
      "Critial Values:\n",
      "   5% : 0.463\n",
      "Result: The series is stationary\n"
     ]
    },
    {
     "name": "stderr",
     "output_type": "stream",
     "text": [
      "/Users/jacqueline/opt/anaconda3/envs/dev/lib/python3.7/site-packages/statsmodels/tsa/stattools.py:1911: InterpolationWarning: The test statistic is outside of the range of p-values available in the\n",
      "look-up table. The actual p-value is greater than the p-value returned.\n",
      "\n",
      "  warn_msg.format(direction=\"greater\"), InterpolationWarning\n"
     ]
    }
   ],
   "source": [
    "kpss_test(d1_data[\"WEAT\"], regression=\"c\", nlags=\"auto\") # regression=\"ct\" to test for trend too"
   ]
  },
  {
   "cell_type": "code",
   "execution_count": 54,
   "id": "216c45c5-adf5-42a3-b168-82043f834e80",
   "metadata": {},
   "outputs": [
    {
     "name": "stdout",
     "output_type": "stream",
     "text": [
      "KPSS Statistic: 0.2995234890774164\n",
      "p-value: 0.1\n",
      "num lags: 4\n",
      "Critial Values:\n",
      "   5% : 0.463\n",
      "Result: The series is stationary\n"
     ]
    },
    {
     "name": "stderr",
     "output_type": "stream",
     "text": [
      "/Users/jacqueline/opt/anaconda3/envs/dev/lib/python3.7/site-packages/statsmodels/tsa/stattools.py:1911: InterpolationWarning: The test statistic is outside of the range of p-values available in the\n",
      "look-up table. The actual p-value is greater than the p-value returned.\n",
      "\n",
      "  warn_msg.format(direction=\"greater\"), InterpolationWarning\n"
     ]
    }
   ],
   "source": [
    "kpss_test(d1_data[\"JO\"], regression=\"c\", nlags=\"auto\") # regression=\"ct\" to test for trend too"
   ]
  },
  {
   "cell_type": "markdown",
   "id": "ec995ff1-fd8f-478c-8b9a-90729ef2ae47",
   "metadata": {},
   "source": [
    "## Testing for White Noise "
   ]
  },
  {
   "cell_type": "code",
   "execution_count": 55,
   "id": "b2b7ee60-0d1f-4dc9-a1f2-12ea5f3a6719",
   "metadata": {},
   "outputs": [],
   "source": [
    "from statsmodels.graphics.tsaplots import plot_acf, plot_pacf"
   ]
  },
  {
   "cell_type": "markdown",
   "id": "8729b123-a5cb-4640-ba48-3288a0d2e614",
   "metadata": {},
   "source": [
    "Revealed that all of the data is autocorrelated, if only by a little"
   ]
  },
  {
   "cell_type": "code",
   "execution_count": 56,
   "id": "ad7ea75a-32f1-4288-9dff-957d8131045b",
   "metadata": {},
   "outputs": [
    {
     "data": {
      "image/png": "[encoded data removed]",
      "text/plain": [
       "<Figure size 432x288 with 1 Axes>"
      ]
     },
     "metadata": {
      "needs_background": "light"
     },
     "output_type": "display_data"
    }
   ],
   "source": [
    "acf = plot_acf(d1_data[\"GLD\"])"
   ]
  },
  {
   "cell_type": "code",
   "execution_count": 57,
   "id": "02d0d485-d4fc-4bb6-9e8b-d18e618a6679",
   "metadata": {},
   "outputs": [
    {
     "data": {
      "image/png": "[encoded data removed]",
      "text/plain": [
       "<Figure size 432x288 with 1 Axes>"
      ]
     },
     "metadata": {
      "needs_background": "light"
     },
     "output_type": "display_data"
    }
   ],
   "source": [
    "acf = plot_acf(d1_data[\"WEAT\"])"
   ]
  },
  {
   "cell_type": "code",
   "execution_count": 58,
   "id": "2a7655df-8a47-477a-ace5-70b7a453ecce",
   "metadata": {},
   "outputs": [
    {
     "data": {
      "image/png": "[encoded data removed]",
      "text/plain": [
       "<Figure size 432x288 with 1 Axes>"
      ]
     },
     "metadata": {
      "needs_background": "light"
     },
     "output_type": "display_data"
    }
   ],
   "source": [
    "acf = plot_acf(d1_data[\"JO\"])"
   ]
  },
  {
   "cell_type": "code",
   "execution_count": 59,
   "id": "241bbb4b-fe12-4e7b-bd9c-76d889e87ecf",
   "metadata": {},
   "outputs": [
    {
     "data": {
      "image/png": "[encoded data removed]",
      "text/plain": [
       "<Figure size 432x288 with 1 Axes>"
      ]
     },
     "metadata": {
      "needs_background": "light"
     },
     "output_type": "display_data"
    }
   ],
   "source": [
    "acf = plot_acf(d1_data[\"CORN\"])"
   ]
  },
  {
   "cell_type": "code",
   "execution_count": 60,
   "id": "1f618a9f-9b35-405b-8212-583c79523204",
   "metadata": {},
   "outputs": [
    {
     "data": {
      "image/png": "[encoded data removed]",
      "text/plain": [
       "<Figure size 432x288 with 1 Axes>"
      ]
     },
     "metadata": {
      "needs_background": "light"
     },
     "output_type": "display_data"
    }
   ],
   "source": [
    "pacf = plot_pacf(d1_data[\"USO\"])"
   ]
  },
  {
   "cell_type": "markdown",
   "id": "8a409bf9-bd4a-49e5-8b96-5f7890b6892a",
   "metadata": {},
   "source": [
    "#### Run an ARIMA model "
   ]
  },
  {
   "cell_type": "code",
   "execution_count": 61,
   "id": "5cbc10b4-d280-48e9-a010-e608f9ffec5c",
   "metadata": {},
   "outputs": [],
   "source": [
    "from statsmodels.tsa.arima.model import ARIMA\n",
    "from statsmodels.stats.diagnostic import acorr_ljungbox"
   ]
  },
  {
   "cell_type": "code",
   "execution_count": 62,
   "id": "17cfcf51-6e27-4e9d-9d41-f8108511d94c",
   "metadata": {},
   "outputs": [
    {
     "data": {
      "text/html": [
       "<div>\n",
       "<style scoped>\n",
       "    .dataframe tbody tr th:only-of-type {\n",
       "        vertical-align: middle;\n",
       "    }\n",
       "\n",
       "    .dataframe tbody tr th {\n",
       "        vertical-align: top;\n",
       "    }\n",
       "\n",
       "    .dataframe thead th {\n",
       "        text-align: right;\n",
       "    }\n",
       "</style>\n",
       "<table border=\"1\" class=\"dataframe\">\n",
       "  <thead>\n",
       "    <tr style=\"text-align: right;\">\n",
       "      <th></th>\n",
       "      <th>CORN</th>\n",
       "      <th>GLD</th>\n",
       "      <th>JO</th>\n",
       "      <th>USO</th>\n",
       "      <th>WEAT</th>\n",
       "    </tr>\n",
       "  </thead>\n",
       "  <tbody>\n",
       "    <tr>\n",
       "      <th>2018-09-11</th>\n",
       "      <td>16.2400</td>\n",
       "      <td>113.22</td>\n",
       "      <td>NaN</td>\n",
       "      <td>14.600</td>\n",
       "      <td>6.3700</td>\n",
       "    </tr>\n",
       "    <tr>\n",
       "      <th>2018-09-12</th>\n",
       "      <td>15.7799</td>\n",
       "      <td>114.17</td>\n",
       "      <td>NaN</td>\n",
       "      <td>14.775</td>\n",
       "      <td>6.2601</td>\n",
       "    </tr>\n",
       "    <tr>\n",
       "      <th>2018-09-13</th>\n",
       "      <td>15.7000</td>\n",
       "      <td>113.76</td>\n",
       "      <td>NaN</td>\n",
       "      <td>14.480</td>\n",
       "      <td>6.1800</td>\n",
       "    </tr>\n",
       "    <tr>\n",
       "      <th>2018-09-14</th>\n",
       "      <td>15.7100</td>\n",
       "      <td>113.01</td>\n",
       "      <td>NaN</td>\n",
       "      <td>14.500</td>\n",
       "      <td>6.3200</td>\n",
       "    </tr>\n",
       "    <tr>\n",
       "      <th>2018-09-17</th>\n",
       "      <td>15.5900</td>\n",
       "      <td>113.61</td>\n",
       "      <td>NaN</td>\n",
       "      <td>14.470</td>\n",
       "      <td>6.2500</td>\n",
       "    </tr>\n",
       "    <tr>\n",
       "      <th>...</th>\n",
       "      <td>...</td>\n",
       "      <td>...</td>\n",
       "      <td>...</td>\n",
       "      <td>...</td>\n",
       "      <td>...</td>\n",
       "    </tr>\n",
       "    <tr>\n",
       "      <th>2021-10-25</th>\n",
       "      <td>20.4200</td>\n",
       "      <td>168.92</td>\n",
       "      <td>55.75</td>\n",
       "      <td>57.840</td>\n",
       "      <td>7.4300</td>\n",
       "    </tr>\n",
       "    <tr>\n",
       "      <th>2021-10-26</th>\n",
       "      <td>20.5100</td>\n",
       "      <td>167.68</td>\n",
       "      <td>57.41</td>\n",
       "      <td>58.470</td>\n",
       "      <td>7.3500</td>\n",
       "    </tr>\n",
       "    <tr>\n",
       "      <th>2021-10-27</th>\n",
       "      <td>21.0300</td>\n",
       "      <td>168.13</td>\n",
       "      <td>55.13</td>\n",
       "      <td>56.890</td>\n",
       "      <td>7.4600</td>\n",
       "    </tr>\n",
       "    <tr>\n",
       "      <th>2021-10-28</th>\n",
       "      <td>21.2300</td>\n",
       "      <td>168.10</td>\n",
       "      <td>54.93</td>\n",
       "      <td>57.410</td>\n",
       "      <td>7.5600</td>\n",
       "    </tr>\n",
       "    <tr>\n",
       "      <th>2021-10-29</th>\n",
       "      <td>21.3700</td>\n",
       "      <td>166.66</td>\n",
       "      <td>56.08</td>\n",
       "      <td>57.170</td>\n",
       "      <td>7.5300</td>\n",
       "    </tr>\n",
       "  </tbody>\n",
       "</table>\n",
       "<p>791 rows × 5 columns</p>\n",
       "</div>"
      ],
      "text/plain": [
       "               CORN     GLD     JO     USO    WEAT\n",
       "2018-09-11  16.2400  113.22    NaN  14.600  6.3700\n",
       "2018-09-12  15.7799  114.17    NaN  14.775  6.2601\n",
       "2018-09-13  15.7000  113.76    NaN  14.480  6.1800\n",
       "2018-09-14  15.7100  113.01    NaN  14.500  6.3200\n",
       "2018-09-17  15.5900  113.61    NaN  14.470  6.2500\n",
       "...             ...     ...    ...     ...     ...\n",
       "2021-10-25  20.4200  168.92  55.75  57.840  7.4300\n",
       "2021-10-26  20.5100  167.68  57.41  58.470  7.3500\n",
       "2021-10-27  21.0300  168.13  55.13  56.890  7.4600\n",
       "2021-10-28  21.2300  168.10  54.93  57.410  7.5600\n",
       "2021-10-29  21.3700  166.66  56.08  57.170  7.5300\n",
       "\n",
       "[791 rows x 5 columns]"
      ]
     },
     "execution_count": 62,
     "metadata": {},
     "output_type": "execute_result"
    }
   ],
   "source": [
    "port_data.head(-1)"
   ]
  },
  {
   "cell_type": "code",
   "execution_count": 63,
   "id": "c6402f19-0002-4b0a-910c-62d6badd351a",
   "metadata": {},
   "outputs": [
    {
     "data": {
      "text/html": [
       "<div>\n",
       "<style scoped>\n",
       "    .dataframe tbody tr th:only-of-type {\n",
       "        vertical-align: middle;\n",
       "    }\n",
       "\n",
       "    .dataframe tbody tr th {\n",
       "        vertical-align: top;\n",
       "    }\n",
       "\n",
       "    .dataframe thead th {\n",
       "        text-align: right;\n",
       "    }\n",
       "</style>\n",
       "<table border=\"1\" class=\"dataframe\">\n",
       "  <thead>\n",
       "    <tr style=\"text-align: right;\">\n",
       "      <th></th>\n",
       "      <th>CORN</th>\n",
       "      <th>GLD</th>\n",
       "      <th>JO</th>\n",
       "      <th>USO</th>\n",
       "      <th>WEAT</th>\n",
       "      <th>month_1</th>\n",
       "      <th>month_2</th>\n",
       "      <th>month_3</th>\n",
       "      <th>month_4</th>\n",
       "      <th>month_5</th>\n",
       "      <th>month_6</th>\n",
       "      <th>month_7</th>\n",
       "      <th>month_8</th>\n",
       "      <th>month_9</th>\n",
       "      <th>month_10</th>\n",
       "      <th>month_11</th>\n",
       "      <th>month_12</th>\n",
       "    </tr>\n",
       "  </thead>\n",
       "  <tbody>\n",
       "    <tr>\n",
       "      <th>2018-11-19</th>\n",
       "      <td>16.02</td>\n",
       "      <td>115.67</td>\n",
       "      <td>42.7000</td>\n",
       "      <td>12.140</td>\n",
       "      <td>6.0000</td>\n",
       "      <td>0.0</td>\n",
       "      <td>0.0</td>\n",
       "      <td>0.0</td>\n",
       "      <td>0.0</td>\n",
       "      <td>0.0</td>\n",
       "      <td>0.0</td>\n",
       "      <td>0.0</td>\n",
       "      <td>0.0</td>\n",
       "      <td>0.0</td>\n",
       "      <td>0.0</td>\n",
       "      <td>1.0</td>\n",
       "      <td>0.0</td>\n",
       "    </tr>\n",
       "    <tr>\n",
       "      <th>2018-11-20</th>\n",
       "      <td>15.98</td>\n",
       "      <td>115.62</td>\n",
       "      <td>42.3200</td>\n",
       "      <td>11.280</td>\n",
       "      <td>6.0200</td>\n",
       "      <td>0.0</td>\n",
       "      <td>0.0</td>\n",
       "      <td>0.0</td>\n",
       "      <td>0.0</td>\n",
       "      <td>0.0</td>\n",
       "      <td>0.0</td>\n",
       "      <td>0.0</td>\n",
       "      <td>0.0</td>\n",
       "      <td>0.0</td>\n",
       "      <td>0.0</td>\n",
       "      <td>1.0</td>\n",
       "      <td>0.0</td>\n",
       "    </tr>\n",
       "    <tr>\n",
       "      <th>2018-11-21</th>\n",
       "      <td>16.01</td>\n",
       "      <td>115.87</td>\n",
       "      <td>41.7000</td>\n",
       "      <td>11.520</td>\n",
       "      <td>5.9601</td>\n",
       "      <td>0.0</td>\n",
       "      <td>0.0</td>\n",
       "      <td>0.0</td>\n",
       "      <td>0.0</td>\n",
       "      <td>0.0</td>\n",
       "      <td>0.0</td>\n",
       "      <td>0.0</td>\n",
       "      <td>0.0</td>\n",
       "      <td>0.0</td>\n",
       "      <td>0.0</td>\n",
       "      <td>1.0</td>\n",
       "      <td>0.0</td>\n",
       "    </tr>\n",
       "    <tr>\n",
       "      <th>2018-11-23</th>\n",
       "      <td>15.94</td>\n",
       "      <td>115.74</td>\n",
       "      <td>40.9499</td>\n",
       "      <td>10.850</td>\n",
       "      <td>5.9700</td>\n",
       "      <td>0.0</td>\n",
       "      <td>0.0</td>\n",
       "      <td>0.0</td>\n",
       "      <td>0.0</td>\n",
       "      <td>0.0</td>\n",
       "      <td>0.0</td>\n",
       "      <td>0.0</td>\n",
       "      <td>0.0</td>\n",
       "      <td>0.0</td>\n",
       "      <td>0.0</td>\n",
       "      <td>1.0</td>\n",
       "      <td>0.0</td>\n",
       "    </tr>\n",
       "    <tr>\n",
       "      <th>2018-11-26</th>\n",
       "      <td>15.82</td>\n",
       "      <td>115.63</td>\n",
       "      <td>40.8801</td>\n",
       "      <td>10.945</td>\n",
       "      <td>6.0350</td>\n",
       "      <td>0.0</td>\n",
       "      <td>0.0</td>\n",
       "      <td>0.0</td>\n",
       "      <td>0.0</td>\n",
       "      <td>0.0</td>\n",
       "      <td>0.0</td>\n",
       "      <td>0.0</td>\n",
       "      <td>0.0</td>\n",
       "      <td>0.0</td>\n",
       "      <td>0.0</td>\n",
       "      <td>1.0</td>\n",
       "      <td>0.0</td>\n",
       "    </tr>\n",
       "  </tbody>\n",
       "</table>\n",
       "</div>"
      ],
      "text/plain": [
       "             CORN     GLD       JO     USO    WEAT  month_1  month_2  month_3  \\\n",
       "2018-11-19  16.02  115.67  42.7000  12.140  6.0000      0.0      0.0      0.0   \n",
       "2018-11-20  15.98  115.62  42.3200  11.280  6.0200      0.0      0.0      0.0   \n",
       "2018-11-21  16.01  115.87  41.7000  11.520  5.9601      0.0      0.0      0.0   \n",
       "2018-11-23  15.94  115.74  40.9499  10.850  5.9700      0.0      0.0      0.0   \n",
       "2018-11-26  15.82  115.63  40.8801  10.945  6.0350      0.0      0.0      0.0   \n",
       "\n",
       "            month_4  month_5  month_6  month_7  month_8  month_9  month_10  \\\n",
       "2018-11-19      0.0      0.0      0.0      0.0      0.0      0.0       0.0   \n",
       "2018-11-20      0.0      0.0      0.0      0.0      0.0      0.0       0.0   \n",
       "2018-11-21      0.0      0.0      0.0      0.0      0.0      0.0       0.0   \n",
       "2018-11-23      0.0      0.0      0.0      0.0      0.0      0.0       0.0   \n",
       "2018-11-26      0.0      0.0      0.0      0.0      0.0      0.0       0.0   \n",
       "\n",
       "            month_11  month_12  \n",
       "2018-11-19       1.0       0.0  \n",
       "2018-11-20       1.0       0.0  \n",
       "2018-11-21       1.0       0.0  \n",
       "2018-11-23       1.0       0.0  \n",
       "2018-11-26       1.0       0.0  "
      ]
     },
     "execution_count": 63,
     "metadata": {},
     "output_type": "execute_result"
    }
   ],
   "source": [
    "#Building the model \n",
    "data_sample_months = port_data.dropna().copy()\n",
    "\n",
    "data_sample_months[\"month\"] = data_sample_months.index.month # add a column with values 1-12 for the month\n",
    "\n",
    "months_dummies = pd.get_dummies(data_sample_months, columns=['month']) # create indicator variable\n",
    "\n",
    "months_dummies.drop(columns=[\"CORN\", \"GLD\", \"JO\", \"WEAT\", \"USO\"], inplace=True)\n",
    "\n",
    "data_sample_months = pd.concat([port_data, months_dummies], axis=1) # join indicator variables\n",
    "\n",
    "data_sample_months.dropna(inplace=True)\n",
    "\n",
    "data_sample_months.head()"
   ]
  },
  {
   "cell_type": "code",
   "execution_count": 64,
   "id": "91c3a859-cabd-401b-841c-486635fd98c6",
   "metadata": {},
   "outputs": [
    {
     "name": "stderr",
     "output_type": "stream",
     "text": [
      "/Users/jacqueline/opt/anaconda3/envs/dev/lib/python3.7/site-packages/statsmodels/tsa/base/tsa_model.py:583: ValueWarning: A date index has been provided, but it has no associated frequency information and so will be ignored when e.g. forecasting.\n",
      "  ' ignored when e.g. forecasting.', ValueWarning)\n",
      "/Users/jacqueline/opt/anaconda3/envs/dev/lib/python3.7/site-packages/statsmodels/tsa/base/tsa_model.py:583: ValueWarning: A date index has been provided, but it has no associated frequency information and so will be ignored when e.g. forecasting.\n",
      "  ' ignored when e.g. forecasting.', ValueWarning)\n",
      "/Users/jacqueline/opt/anaconda3/envs/dev/lib/python3.7/site-packages/statsmodels/tsa/base/tsa_model.py:583: ValueWarning: A date index has been provided, but it has no associated frequency information and so will be ignored when e.g. forecasting.\n",
      "  ' ignored when e.g. forecasting.', ValueWarning)\n"
     ]
    }
   ],
   "source": [
    "model = ARIMA(data_sample_months[\"CORN\"],\n",
    "              data_sample_months.drop(columns=[\"CORN\", \"WEAT\", \"GLD\", \"month_1\", \"month_11\", \"month_12\", \"month_2\", \"month_10\"\n",
    "                                              ,\"month_9\", \"month_4\", \"month_3\", \"month_6\", \"month_7\",\"month_8\", \"month_5\"]),\n",
    "             order=([8, 5, 21], 1, [ 4, 5])\n",
    "              \n",
    "        )\n",
    "#res = model.fit()"
   ]
  },
  {
   "cell_type": "code",
   "execution_count": 65,
   "id": "0ddfbfd9-5065-4ecf-bbdf-906e172ca334",
   "metadata": {},
   "outputs": [],
   "source": [
    "res = model.fit()"
   ]
  },
  {
   "cell_type": "code",
   "execution_count": 66,
   "id": "3c35834c-f9b0-4406-ab4b-5349dadfadca",
   "metadata": {},
   "outputs": [
    {
     "data": {
      "text/html": [
       "<table class=\"simpletable\">\n",
       "<caption>SARIMAX Results</caption>\n",
       "<tr>\n",
       "  <th>Dep. Variable:</th>               <td>CORN</td>             <th>  No. Observations:  </th>   <td>743</td>  \n",
       "</tr>\n",
       "<tr>\n",
       "  <th>Model:</th>           <td>ARIMA([5, 8, 21], 1, [4, 5])</td> <th>  Log Likelihood     </th> <td>43.082</td> \n",
       "</tr>\n",
       "<tr>\n",
       "  <th>Date:</th>                  <td>Wed, 10 Nov 2021</td>       <th>  AIC                </th> <td>-70.164</td>\n",
       "</tr>\n",
       "<tr>\n",
       "  <th>Time:</th>                      <td>18:42:38</td>           <th>  BIC                </th> <td>-33.290</td>\n",
       "</tr>\n",
       "<tr>\n",
       "  <th>Sample:</th>                        <td>0</td>              <th>  HQIC               </th> <td>-55.949</td>\n",
       "</tr>\n",
       "<tr>\n",
       "  <th></th>                            <td> - 743</td>            <th>                     </th>    <td> </td>   \n",
       "</tr>\n",
       "<tr>\n",
       "  <th>Covariance Type:</th>              <td>opg</td>             <th>                     </th>    <td> </td>   \n",
       "</tr>\n",
       "</table>\n",
       "<table class=\"simpletable\">\n",
       "<tr>\n",
       "     <td></td>       <th>coef</th>     <th>std err</th>      <th>z</th>      <th>P>|z|</th>  <th>[0.025</th>    <th>0.975]</th>  \n",
       "</tr>\n",
       "<tr>\n",
       "  <th>JO</th>     <td>    0.0510</td> <td>    0.008</td> <td>    6.114</td> <td> 0.000</td> <td>    0.035</td> <td>    0.067</td>\n",
       "</tr>\n",
       "<tr>\n",
       "  <th>USO</th>    <td>    0.0268</td> <td>    0.010</td> <td>    2.697</td> <td> 0.007</td> <td>    0.007</td> <td>    0.046</td>\n",
       "</tr>\n",
       "<tr>\n",
       "  <th>ar.L5</th>  <td>    0.2343</td> <td>    0.138</td> <td>    1.694</td> <td> 0.090</td> <td>   -0.037</td> <td>    0.505</td>\n",
       "</tr>\n",
       "<tr>\n",
       "  <th>ar.L8</th>  <td>    0.0987</td> <td>    0.026</td> <td>    3.797</td> <td> 0.000</td> <td>    0.048</td> <td>    0.150</td>\n",
       "</tr>\n",
       "<tr>\n",
       "  <th>ar.L21</th> <td>    0.0580</td> <td>    0.023</td> <td>    2.568</td> <td> 0.010</td> <td>    0.014</td> <td>    0.102</td>\n",
       "</tr>\n",
       "<tr>\n",
       "  <th>ma.L4</th>  <td>   -0.1018</td> <td>    0.026</td> <td>   -3.980</td> <td> 0.000</td> <td>   -0.152</td> <td>   -0.052</td>\n",
       "</tr>\n",
       "<tr>\n",
       "  <th>ma.L5</th>  <td>   -0.3067</td> <td>    0.135</td> <td>   -2.271</td> <td> 0.023</td> <td>   -0.571</td> <td>   -0.042</td>\n",
       "</tr>\n",
       "<tr>\n",
       "  <th>sigma2</th> <td>    0.0521</td> <td>    0.002</td> <td>   33.034</td> <td> 0.000</td> <td>    0.049</td> <td>    0.055</td>\n",
       "</tr>\n",
       "</table>\n",
       "<table class=\"simpletable\">\n",
       "<tr>\n",
       "  <th>Ljung-Box (L1) (Q):</th>     <td>0.18</td> <th>  Jarque-Bera (JB):  </th> <td>1025.80</td>\n",
       "</tr>\n",
       "<tr>\n",
       "  <th>Prob(Q):</th>                <td>0.67</td> <th>  Prob(JB):          </th>  <td>0.00</td>  \n",
       "</tr>\n",
       "<tr>\n",
       "  <th>Heteroskedasticity (H):</th> <td>3.57</td> <th>  Skew:              </th>  <td>0.13</td>  \n",
       "</tr>\n",
       "<tr>\n",
       "  <th>Prob(H) (two-sided):</th>    <td>0.00</td> <th>  Kurtosis:          </th>  <td>8.75</td>  \n",
       "</tr>\n",
       "</table><br/><br/>Warnings:<br/>[1] Covariance matrix calculated using the outer product of gradients (complex-step)."
      ],
      "text/plain": [
       "<class 'statsmodels.iolib.summary.Summary'>\n",
       "\"\"\"\n",
       "                                    SARIMAX Results                                     \n",
       "========================================================================================\n",
       "Dep. Variable:                             CORN   No. Observations:                  743\n",
       "Model:             ARIMA([5, 8, 21], 1, [4, 5])   Log Likelihood                  43.082\n",
       "Date:                          Wed, 10 Nov 2021   AIC                            -70.164\n",
       "Time:                                  18:42:38   BIC                            -33.290\n",
       "Sample:                                       0   HQIC                           -55.949\n",
       "                                          - 743                                         \n",
       "Covariance Type:                            opg                                         \n",
       "==============================================================================\n",
       "                 coef    std err          z      P>|z|      [0.025      0.975]\n",
       "------------------------------------------------------------------------------\n",
       "JO             0.0510      0.008      6.114      0.000       0.035       0.067\n",
       "USO            0.0268      0.010      2.697      0.007       0.007       0.046\n",
       "ar.L5          0.2343      0.138      1.694      0.090      -0.037       0.505\n",
       "ar.L8          0.0987      0.026      3.797      0.000       0.048       0.150\n",
       "ar.L21         0.0580      0.023      2.568      0.010       0.014       0.102\n",
       "ma.L4         -0.1018      0.026     -3.980      0.000      -0.152      -0.052\n",
       "ma.L5         -0.3067      0.135     -2.271      0.023      -0.571      -0.042\n",
       "sigma2         0.0521      0.002     33.034      0.000       0.049       0.055\n",
       "===================================================================================\n",
       "Ljung-Box (L1) (Q):                   0.18   Jarque-Bera (JB):              1025.80\n",
       "Prob(Q):                              0.67   Prob(JB):                         0.00\n",
       "Heteroskedasticity (H):               3.57   Skew:                             0.13\n",
       "Prob(H) (two-sided):                  0.00   Kurtosis:                         8.75\n",
       "===================================================================================\n",
       "\n",
       "Warnings:\n",
       "[1] Covariance matrix calculated using the outer product of gradients (complex-step).\n",
       "\"\"\""
      ]
     },
     "execution_count": 66,
     "metadata": {},
     "output_type": "execute_result"
    }
   ],
   "source": [
    "res.summary()"
   ]
  },
  {
   "cell_type": "markdown",
   "id": "bd8676b4-6092-418a-8e5e-ba8850227836",
   "metadata": {},
   "source": [
    "Correlation between price of corn today and price of corn 5 months ago. "
   ]
  },
  {
   "cell_type": "markdown",
   "id": "acc64b5b-d105-40cc-a45a-7be5480c4cd9",
   "metadata": {},
   "source": [
    "### Standardized residual for C: looking for the difference between the predicted values and actual values. \n",
    "### Histogram plus estimated density: distribution of data... estimation of my data based on random values... \n",
    "### Normal Q-Q: \n",
    "### Correlogram "
   ]
  },
  {
   "cell_type": "code",
   "execution_count": 335,
   "id": "778f47c4-4835-4478-a245-62b58bfde2a5",
   "metadata": {},
   "outputs": [
    {
     "data": {
      "image/png": "[encoded data removed]",
      "text/plain": [
       "<Figure size 1440x720 with 4 Axes>"
      ]
     },
     "metadata": {
      "needs_background": "light"
     },
     "output_type": "display_data"
    }
   ],
   "source": [
    "diag_plots = res.plot_diagnostics(figsize=(20,10))"
   ]
  },
  {
   "cell_type": "markdown",
   "id": "000d0203-9f3b-49d0-b1e6-e3553760f617",
   "metadata": {},
   "source": [
    "#### Strongest correlation between Corn and Wheat "
   ]
  },
  {
   "cell_type": "code",
   "execution_count": 67,
   "id": "df56a3a6-1c81-4945-a887-ab0b5b6f79c5",
   "metadata": {},
   "outputs": [
    {
     "data": {
      "text/plain": [
       "<AxesSubplot:>"
      ]
     },
     "execution_count": 67,
     "metadata": {},
     "output_type": "execute_result"
    },
    {
     "data": {
      "image/png": "[encoded data removed]",
      "text/plain": [
       "<Figure size 432x288 with 2 Axes>"
      ]
     },
     "metadata": {
      "needs_background": "light"
     },
     "output_type": "display_data"
    }
   ],
   "source": [
    "import seaborn as sns\n",
    "sns.heatmap(data_sample_months[['CORN', 'GLD', 'WEAT', 'JO', 'USO']].corr(), annot=True)"
   ]
  },
  {
   "cell_type": "markdown",
   "id": "0411eddf-6ef5-4226-8f56-d2bdb289df7a",
   "metadata": {},
   "source": [
    "#### Correlation of article sentiment between commodities"
   ]
  },
  {
   "cell_type": "code",
   "execution_count": 340,
   "id": "e969fff6-2af3-471f-b63d-fad21ae7418c",
   "metadata": {},
   "outputs": [
    {
     "data": {
      "text/plain": [
       "<AxesSubplot:>"
      ]
     },
     "execution_count": 340,
     "metadata": {},
     "output_type": "execute_result"
    },
    {
     "data": {
      "image/png": "[encoded data removed]",
      "text/plain": [
       "<Figure size 432x288 with 2 Axes>"
      ]
     },
     "metadata": {
      "needs_background": "light"
     },
     "output_type": "display_data"
    }
   ],
   "source": [
    "sns.heatmap(one_month_data.corr(), annot=True)"
   ]
  },
  {
   "cell_type": "markdown",
   "id": "8a099cae-52fc-4044-94c4-464cc6f13dcf",
   "metadata": {},
   "source": [
    "Work Cited\n",
    "https://medium.com/analytics-vidhya/a-complete-guide-to-twitter-sentiment-analysis-part-two-7349550bdea9"
   ]
  }
 ],
 "metadata": {
  "kernelspec": {
   "display_name": "Python 3",
   "language": "python",
   "name": "python3"
  },
  "language_info": {
   "codemirror_mode": {
    "name": "ipython",
    "version": 3
   },
   "file_extension": ".py",
   "mimetype": "text/x-python",
   "name": "python",
   "nbconvert_exporter": "python",
   "pygments_lexer": "ipython3",
   "version": "3.7.7"
  }
 },
 "nbformat": 4,
 "nbformat_minor": 5
}
