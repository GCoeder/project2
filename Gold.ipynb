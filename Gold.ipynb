{
 "cells": [
  {
   "cell_type": "markdown",
   "id": "a2b5d2a4-ef38-4f9c-93ef-3aad30b4b7b3",
   "metadata": {},
   "source": [
    "# Gold Predictor"
   ]
  },
  {
   "cell_type": "code",
   "execution_count": 1,
   "id": "e0380780-1d99-47c6-a2fe-1f8ef753154f",
   "metadata": {},
   "outputs": [],
   "source": [
    "# Initial imports\n",
    "import os\n",
    "import numpy as np\n",
    "import pandas as pd\n",
    "import alpaca_trade_api as tradeapi\n",
    "from pathlib import Path\n",
    "from dotenv import load_dotenv\n",
    "%matplotlib inline"
   ]
  },
  {
   "cell_type": "code",
   "execution_count": 2,
   "id": "87015aea-7ddd-4582-9098-b0d2aa9fcbbb",
   "metadata": {},
   "outputs": [],
   "source": [
    "# Set the random seed for reproducibility\n",
    "# Note: This is used for model prototyping, but it is good practice to comment this out and run multiple experiments to evaluate your model.\n",
    "from numpy.random import seed\n",
    "\n",
    "seed(1)\n",
    "from tensorflow import random\n",
    "\n",
    "random.set_seed(2)"
   ]
  },
  {
   "cell_type": "markdown",
   "id": "9206243f-2c77-4295-ac63-12dfe6883d4c",
   "metadata": {},
   "source": [
    "### Data Loading\n",
    "\n",
    "In this activity, we will use closing prices from different stocks to make predictions of future closing prices based on the temporal data of each stock."
   ]
  },
  {
   "cell_type": "code",
   "execution_count": 3,
   "id": "63d4b841-b648-4b3c-abd0-9af9150127ce",
   "metadata": {},
   "outputs": [],
   "source": [
    "alpaca_api_key = 'PK55DVY40BM8OTB4HSVX'\n",
    "alpaca_secret_key = 'VDBV4ac8Cu1MiLfxYgKSh7zJ1H7u4ifXXtKNylW6'\n",
    "\n",
    "api = tradeapi.REST(\n",
    "    alpaca_api_key,\n",
    "    alpaca_secret_key,\n",
    "    api_version = \"v2\"\n",
    ")"
   ]
  },
  {
   "cell_type": "code",
   "execution_count": 4,
   "id": "d9a7ea8b-3c18-4884-82f8-63d2180c5fa2",
   "metadata": {},
   "outputs": [
    {
     "name": "stdout",
     "output_type": "stream",
     "text": [
      "PK55DVY40BM8OTB4HSVX\n"
     ]
    }
   ],
   "source": [
    "print(alpaca_api_key)"
   ]
  },
  {
   "cell_type": "code",
   "execution_count": 5,
   "id": "434705fe-8d81-4805-ad50-5953d5890640",
   "metadata": {},
   "outputs": [
    {
     "data": {
      "text/html": [
       "<div>\n",
       "<style scoped>\n",
       "    .dataframe tbody tr th:only-of-type {\n",
       "        vertical-align: middle;\n",
       "    }\n",
       "\n",
       "    .dataframe tbody tr th {\n",
       "        vertical-align: top;\n",
       "    }\n",
       "\n",
       "    .dataframe thead tr th {\n",
       "        text-align: left;\n",
       "    }\n",
       "\n",
       "    .dataframe thead tr:last-of-type th {\n",
       "        text-align: right;\n",
       "    }\n",
       "</style>\n",
       "<table border=\"1\" class=\"dataframe\">\n",
       "  <thead>\n",
       "    <tr>\n",
       "      <th></th>\n",
       "      <th colspan=\"5\" halign=\"left\">AAAU</th>\n",
       "      <th colspan=\"5\" halign=\"left\">BAR</th>\n",
       "      <th colspan=\"5\" halign=\"left\">SGOL</th>\n",
       "      <th colspan=\"5\" halign=\"left\">TIP</th>\n",
       "    </tr>\n",
       "    <tr>\n",
       "      <th></th>\n",
       "      <th>open</th>\n",
       "      <th>high</th>\n",
       "      <th>low</th>\n",
       "      <th>close</th>\n",
       "      <th>volume</th>\n",
       "      <th>open</th>\n",
       "      <th>high</th>\n",
       "      <th>low</th>\n",
       "      <th>close</th>\n",
       "      <th>volume</th>\n",
       "      <th>open</th>\n",
       "      <th>high</th>\n",
       "      <th>low</th>\n",
       "      <th>close</th>\n",
       "      <th>volume</th>\n",
       "      <th>open</th>\n",
       "      <th>high</th>\n",
       "      <th>low</th>\n",
       "      <th>close</th>\n",
       "      <th>volume</th>\n",
       "    </tr>\n",
       "    <tr>\n",
       "      <th>time</th>\n",
       "      <th></th>\n",
       "      <th></th>\n",
       "      <th></th>\n",
       "      <th></th>\n",
       "      <th></th>\n",
       "      <th></th>\n",
       "      <th></th>\n",
       "      <th></th>\n",
       "      <th></th>\n",
       "      <th></th>\n",
       "      <th></th>\n",
       "      <th></th>\n",
       "      <th></th>\n",
       "      <th></th>\n",
       "      <th></th>\n",
       "      <th></th>\n",
       "      <th></th>\n",
       "      <th></th>\n",
       "      <th></th>\n",
       "      <th></th>\n",
       "    </tr>\n",
       "  </thead>\n",
       "  <tbody>\n",
       "    <tr>\n",
       "      <th>2018-09-11 00:00:00-04:00</th>\n",
       "      <td>11.90</td>\n",
       "      <td>11.9579</td>\n",
       "      <td>11.8765</td>\n",
       "      <td>11.955</td>\n",
       "      <td>7772.0</td>\n",
       "      <td>118.79</td>\n",
       "      <td>119.5066</td>\n",
       "      <td>118.6100</td>\n",
       "      <td>119.4000</td>\n",
       "      <td>52674.0</td>\n",
       "      <td>114.92</td>\n",
       "      <td>115.6301</td>\n",
       "      <td>114.7046</td>\n",
       "      <td>115.5000</td>\n",
       "      <td>31833</td>\n",
       "      <td>111.08</td>\n",
       "      <td>111.130</td>\n",
       "      <td>110.97</td>\n",
       "      <td>111.025</td>\n",
       "      <td>1329289.0</td>\n",
       "    </tr>\n",
       "    <tr>\n",
       "      <th>2018-09-12 00:00:00-04:00</th>\n",
       "      <td>12.03</td>\n",
       "      <td>12.0730</td>\n",
       "      <td>12.0200</td>\n",
       "      <td>12.073</td>\n",
       "      <td>1554.0</td>\n",
       "      <td>119.29</td>\n",
       "      <td>120.5900</td>\n",
       "      <td>119.2900</td>\n",
       "      <td>120.3200</td>\n",
       "      <td>36876.0</td>\n",
       "      <td>115.39</td>\n",
       "      <td>116.6700</td>\n",
       "      <td>115.3300</td>\n",
       "      <td>116.4000</td>\n",
       "      <td>59121</td>\n",
       "      <td>111.19</td>\n",
       "      <td>111.235</td>\n",
       "      <td>111.11</td>\n",
       "      <td>111.130</td>\n",
       "      <td>826503.0</td>\n",
       "    </tr>\n",
       "    <tr>\n",
       "      <th>2018-09-13 00:00:00-04:00</th>\n",
       "      <td>12.12</td>\n",
       "      <td>12.1200</td>\n",
       "      <td>12.0100</td>\n",
       "      <td>12.010</td>\n",
       "      <td>7313.0</td>\n",
       "      <td>120.94</td>\n",
       "      <td>120.9400</td>\n",
       "      <td>119.7933</td>\n",
       "      <td>119.9400</td>\n",
       "      <td>20380.0</td>\n",
       "      <td>116.99</td>\n",
       "      <td>117.0400</td>\n",
       "      <td>115.9000</td>\n",
       "      <td>116.0400</td>\n",
       "      <td>17783</td>\n",
       "      <td>111.12</td>\n",
       "      <td>111.120</td>\n",
       "      <td>110.96</td>\n",
       "      <td>110.960</td>\n",
       "      <td>951833.0</td>\n",
       "    </tr>\n",
       "    <tr>\n",
       "      <th>2018-09-14 00:00:00-04:00</th>\n",
       "      <td>12.01</td>\n",
       "      <td>12.0100</td>\n",
       "      <td>11.9300</td>\n",
       "      <td>11.930</td>\n",
       "      <td>14957.0</td>\n",
       "      <td>119.95</td>\n",
       "      <td>120.0300</td>\n",
       "      <td>119.1000</td>\n",
       "      <td>119.1500</td>\n",
       "      <td>27025.0</td>\n",
       "      <td>116.06</td>\n",
       "      <td>116.1200</td>\n",
       "      <td>115.2800</td>\n",
       "      <td>115.2828</td>\n",
       "      <td>34874</td>\n",
       "      <td>110.78</td>\n",
       "      <td>110.910</td>\n",
       "      <td>110.72</td>\n",
       "      <td>110.780</td>\n",
       "      <td>1029880.0</td>\n",
       "    </tr>\n",
       "    <tr>\n",
       "      <th>2018-09-17 00:00:00-04:00</th>\n",
       "      <td>12.01</td>\n",
       "      <td>12.0400</td>\n",
       "      <td>12.0000</td>\n",
       "      <td>12.007</td>\n",
       "      <td>13757.0</td>\n",
       "      <td>119.82</td>\n",
       "      <td>120.2300</td>\n",
       "      <td>119.7699</td>\n",
       "      <td>119.7699</td>\n",
       "      <td>19442.0</td>\n",
       "      <td>115.88</td>\n",
       "      <td>116.2865</td>\n",
       "      <td>115.8400</td>\n",
       "      <td>115.8800</td>\n",
       "      <td>39543</td>\n",
       "      <td>110.71</td>\n",
       "      <td>110.840</td>\n",
       "      <td>110.69</td>\n",
       "      <td>110.790</td>\n",
       "      <td>1040555.0</td>\n",
       "    </tr>\n",
       "  </tbody>\n",
       "</table>\n",
       "</div>"
      ],
      "text/plain": [
       "                            AAAU                                        BAR  \\\n",
       "                            open     high      low   close   volume    open   \n",
       "time                                                                          \n",
       "2018-09-11 00:00:00-04:00  11.90  11.9579  11.8765  11.955   7772.0  118.79   \n",
       "2018-09-12 00:00:00-04:00  12.03  12.0730  12.0200  12.073   1554.0  119.29   \n",
       "2018-09-13 00:00:00-04:00  12.12  12.1200  12.0100  12.010   7313.0  120.94   \n",
       "2018-09-14 00:00:00-04:00  12.01  12.0100  11.9300  11.930  14957.0  119.95   \n",
       "2018-09-17 00:00:00-04:00  12.01  12.0400  12.0000  12.007  13757.0  119.82   \n",
       "\n",
       "                                                                    SGOL  \\\n",
       "                               high       low     close   volume    open   \n",
       "time                                                                       \n",
       "2018-09-11 00:00:00-04:00  119.5066  118.6100  119.4000  52674.0  114.92   \n",
       "2018-09-12 00:00:00-04:00  120.5900  119.2900  120.3200  36876.0  115.39   \n",
       "2018-09-13 00:00:00-04:00  120.9400  119.7933  119.9400  20380.0  116.99   \n",
       "2018-09-14 00:00:00-04:00  120.0300  119.1000  119.1500  27025.0  116.06   \n",
       "2018-09-17 00:00:00-04:00  120.2300  119.7699  119.7699  19442.0  115.88   \n",
       "\n",
       "                                                                   TIP  \\\n",
       "                               high       low     close volume    open   \n",
       "time                                                                     \n",
       "2018-09-11 00:00:00-04:00  115.6301  114.7046  115.5000  31833  111.08   \n",
       "2018-09-12 00:00:00-04:00  116.6700  115.3300  116.4000  59121  111.19   \n",
       "2018-09-13 00:00:00-04:00  117.0400  115.9000  116.0400  17783  111.12   \n",
       "2018-09-14 00:00:00-04:00  116.1200  115.2800  115.2828  34874  110.78   \n",
       "2018-09-17 00:00:00-04:00  116.2865  115.8400  115.8800  39543  110.71   \n",
       "\n",
       "                                                                \n",
       "                              high     low    close     volume  \n",
       "time                                                            \n",
       "2018-09-11 00:00:00-04:00  111.130  110.97  111.025  1329289.0  \n",
       "2018-09-12 00:00:00-04:00  111.235  111.11  111.130   826503.0  \n",
       "2018-09-13 00:00:00-04:00  111.120  110.96  110.960   951833.0  \n",
       "2018-09-14 00:00:00-04:00  110.910  110.72  110.780  1029880.0  \n",
       "2018-09-17 00:00:00-04:00  110.840  110.69  110.790  1040555.0  "
      ]
     },
     "execution_count": 5,
     "metadata": {},
     "output_type": "execute_result"
    }
   ],
   "source": [
    "# Set timeframe to '1D'\n",
    "timeframe = \"1D\"\n",
    "\n",
    "# Set start and end datetimes between now and 3 years ago.\n",
    "start_date = pd.Timestamp(\"2018-09-11\", tz=\"America/New_York\").isoformat()\n",
    "end_date = pd.Timestamp(\"2021-09-11\", tz=\"America/New_York\").isoformat()\n",
    "\n",
    "# Set the ticker information\n",
    "tickers = [\"BAR\", \"AAAU\", \"SGOL\" , \"TIP\"]\n",
    "\n",
    "# Get 3 year's worth of historical price data for Microsoft and Coca-Cola\n",
    "raw_commod = api.get_barset(\n",
    "    tickers,\n",
    "    timeframe,\n",
    "    start=start_date,\n",
    "    end=end_date,\n",
    "    limit=1000,\n",
    ").df\n",
    "\n",
    "# Display sample data\n",
    "raw_commod.head()"
   ]
  },
  {
   "cell_type": "code",
   "execution_count": 6,
   "id": "4daf2bc0-c5cd-4525-bd05-d32b38b1366f",
   "metadata": {},
   "outputs": [],
   "source": [
    "commod_data = pd.DataFrame()\n",
    "\n",
    "for c in raw_commod.columns:\n",
    "    if c[1] in \"close\":\n",
    "        commod_data[c[0]] = raw_commod[c[0]][c[1]]"
   ]
  },
  {
   "cell_type": "code",
   "execution_count": 7,
   "id": "6810b65e-537c-4f8d-9dae-9386935216d8",
   "metadata": {},
   "outputs": [
    {
     "data": {
      "text/html": [
       "<div>\n",
       "<style scoped>\n",
       "    .dataframe tbody tr th:only-of-type {\n",
       "        vertical-align: middle;\n",
       "    }\n",
       "\n",
       "    .dataframe tbody tr th {\n",
       "        vertical-align: top;\n",
       "    }\n",
       "\n",
       "    .dataframe thead th {\n",
       "        text-align: right;\n",
       "    }\n",
       "</style>\n",
       "<table border=\"1\" class=\"dataframe\">\n",
       "  <thead>\n",
       "    <tr style=\"text-align: right;\">\n",
       "      <th></th>\n",
       "      <th>AAAU</th>\n",
       "      <th>BAR</th>\n",
       "      <th>SGOL</th>\n",
       "      <th>TIP</th>\n",
       "    </tr>\n",
       "  </thead>\n",
       "  <tbody>\n",
       "    <tr>\n",
       "      <th>2018-09-11</th>\n",
       "      <td>11.955</td>\n",
       "      <td>119.4000</td>\n",
       "      <td>115.5000</td>\n",
       "      <td>111.025</td>\n",
       "    </tr>\n",
       "    <tr>\n",
       "      <th>2018-09-12</th>\n",
       "      <td>12.073</td>\n",
       "      <td>120.3200</td>\n",
       "      <td>116.4000</td>\n",
       "      <td>111.130</td>\n",
       "    </tr>\n",
       "    <tr>\n",
       "      <th>2018-09-13</th>\n",
       "      <td>12.010</td>\n",
       "      <td>119.9400</td>\n",
       "      <td>116.0400</td>\n",
       "      <td>110.960</td>\n",
       "    </tr>\n",
       "    <tr>\n",
       "      <th>2018-09-14</th>\n",
       "      <td>11.930</td>\n",
       "      <td>119.1500</td>\n",
       "      <td>115.2828</td>\n",
       "      <td>110.780</td>\n",
       "    </tr>\n",
       "    <tr>\n",
       "      <th>2018-09-17</th>\n",
       "      <td>12.007</td>\n",
       "      <td>119.7699</td>\n",
       "      <td>115.8800</td>\n",
       "      <td>110.790</td>\n",
       "    </tr>\n",
       "    <tr>\n",
       "      <th>...</th>\n",
       "      <td>...</td>\n",
       "      <td>...</td>\n",
       "      <td>...</td>\n",
       "      <td>...</td>\n",
       "    </tr>\n",
       "    <tr>\n",
       "      <th>2021-09-03</th>\n",
       "      <td>18.190</td>\n",
       "      <td>18.1500</td>\n",
       "      <td>17.5600</td>\n",
       "      <td>128.620</td>\n",
       "    </tr>\n",
       "    <tr>\n",
       "      <th>2021-09-07</th>\n",
       "      <td>17.830</td>\n",
       "      <td>17.8000</td>\n",
       "      <td>17.2100</td>\n",
       "      <td>128.330</td>\n",
       "    </tr>\n",
       "    <tr>\n",
       "      <th>2021-09-08</th>\n",
       "      <td>17.780</td>\n",
       "      <td>17.7650</td>\n",
       "      <td>17.1750</td>\n",
       "      <td>128.830</td>\n",
       "    </tr>\n",
       "    <tr>\n",
       "      <th>2021-09-09</th>\n",
       "      <td>17.860</td>\n",
       "      <td>17.8300</td>\n",
       "      <td>17.2410</td>\n",
       "      <td>129.510</td>\n",
       "    </tr>\n",
       "    <tr>\n",
       "      <th>2021-09-10</th>\n",
       "      <td>17.780</td>\n",
       "      <td>17.7400</td>\n",
       "      <td>17.1600</td>\n",
       "      <td>129.140</td>\n",
       "    </tr>\n",
       "  </tbody>\n",
       "</table>\n",
       "<p>752 rows × 4 columns</p>\n",
       "</div>"
      ],
      "text/plain": [
       "              AAAU       BAR      SGOL      TIP\n",
       "2018-09-11  11.955  119.4000  115.5000  111.025\n",
       "2018-09-12  12.073  120.3200  116.4000  111.130\n",
       "2018-09-13  12.010  119.9400  116.0400  110.960\n",
       "2018-09-14  11.930  119.1500  115.2828  110.780\n",
       "2018-09-17  12.007  119.7699  115.8800  110.790\n",
       "...            ...       ...       ...      ...\n",
       "2021-09-03  18.190   18.1500   17.5600  128.620\n",
       "2021-09-07  17.830   17.8000   17.2100  128.330\n",
       "2021-09-08  17.780   17.7650   17.1750  128.830\n",
       "2021-09-09  17.860   17.8300   17.2410  129.510\n",
       "2021-09-10  17.780   17.7400   17.1600  129.140\n",
       "\n",
       "[752 rows x 4 columns]"
      ]
     },
     "execution_count": 7,
     "metadata": {},
     "output_type": "execute_result"
    }
   ],
   "source": [
    "commod_data.index= commod_data.index.date\n",
    "commod_data= commod_data.dropna()\n",
    "commod_data"
   ]
  },
  {
   "cell_type": "code",
   "execution_count": 8,
   "id": "27fb3758-e0b3-4c9b-b456-73027369a4f9",
   "metadata": {},
   "outputs": [],
   "source": [
    "def window_data(commod_data, window, feature_col_number, target_col_number):\n",
    "    \"\"\"\n",
    "    This function accepts the column number for the features (X) and the target (y).\n",
    "    It chunks the data up with a rolling window of Xt - window to predict Xt.\n",
    "    It returns two numpy arrays of X and y.\n",
    "    \"\"\"\n",
    "    X = []\n",
    "    y = []\n",
    "    for i in range(len(commod_data) - window):\n",
    "        features = commod_data.iloc[i : (i + window), feature_col_number]\n",
    "        target = commod_data.iloc[(i + window), target_col_number]\n",
    "        X.append(features)\n",
    "        y.append(target)\n",
    "    return np.array(X), np.array(y).reshape(-1, 1)"
   ]
  },
  {
   "cell_type": "code",
   "execution_count": 9,
   "id": "52d3125b-cd72-480a-9a17-d507ddc00032",
   "metadata": {},
   "outputs": [
    {
     "name": "stdout",
     "output_type": "stream",
     "text": [
      "X sample values:\n",
      "[[115.5    116.4    116.04   115.2828 115.88  ]\n",
      " [116.4    116.04   115.2828 115.88   115.6868]\n",
      " [116.04   115.2828 115.88   115.6868 116.1368]\n",
      " [115.2828 115.88   115.6868 116.1368 116.57  ]\n",
      " [115.88   115.6868 116.1368 116.57   115.76  ]] \n",
      "\n",
      "y sample values:\n",
      "[[115.6868]\n",
      " [116.1368]\n",
      " [116.57  ]\n",
      " [115.76  ]\n",
      " [115.74  ]]\n"
     ]
    }
   ],
   "source": [
    "# Creating the features (X) and target (y) data using the window_data() function.\n",
    "window_size = 5\n",
    "\n",
    "feature_column = 2\n",
    "target_column = 2\n",
    "X, y = window_data(commod_data, window_size, feature_column, target_column)\n",
    "print (f\"X sample values:\\n{X[:5]} \\n\")\n",
    "print (f\"y sample values:\\n{y[:5]}\")"
   ]
  },
  {
   "cell_type": "markdown",
   "id": "f760f2d1-37bf-425f-a92a-7877df0c24e1",
   "metadata": {},
   "source": [
    "### Training"
   ]
  },
  {
   "cell_type": "code",
   "execution_count": 10,
   "id": "ae3cfb23-85ac-44c6-9f87-5b0df10203c3",
   "metadata": {},
   "outputs": [
    {
     "data": {
      "text/plain": [
       "array([[115.5   , 116.4   , 116.04  , 115.2828, 115.88  ],\n",
       "       [116.4   , 116.04  , 115.2828, 115.88  , 115.6868],\n",
       "       [116.04  , 115.2828, 115.88  , 115.6868, 116.1368],\n",
       "       ...,\n",
       "       [ 18.22  ,  18.55  ,  18.495 ,  18.205 ,  18.26  ],\n",
       "       [ 18.55  ,  18.495 ,  18.205 ,  18.26  ,  18.33  ],\n",
       "       [ 18.495 ,  18.205 ,  18.26  ,  18.33  ,  18.265 ]])"
      ]
     },
     "execution_count": 10,
     "metadata": {},
     "output_type": "execute_result"
    }
   ],
   "source": [
    "# Use 70% of the data for training and the remainder for testing\n",
    "split = int(0.7 * len(X))\n",
    "X_train = X[: split]\n",
    "X_test = X[split:]\n",
    "y_train = y[: split]\n",
    "y_test = y[split:]\n",
    "X_train"
   ]
  },
  {
   "cell_type": "code",
   "execution_count": 11,
   "id": "fd95f573-0989-4b2f-ade4-eafb194fabc2",
   "metadata": {},
   "outputs": [],
   "source": [
    "from sklearn.preprocessing import MinMaxScaler\n",
    "\n",
    "# Create a MinMaxScaler object\n",
    "X_scaler = MinMaxScaler()\n",
    "y_scaler = MinMaxScaler()\n",
    "\n",
    "# Fit the MinMaxScaler object with the training feature data X_train\n",
    "X_scaler.fit(X_train)\n",
    "\n",
    "# Scale the features training and testing sets\n",
    "X_train = X_scaler.transform(X_train)\n",
    "X_test = X_scaler.transform(X_test)\n",
    "\n",
    "# Fit the MinMaxScaler object with the training target data y_train\n",
    "y_scaler.fit(y_train)\n",
    "\n",
    "# Scale the target training and testing sets\n",
    "y_train = y_scaler.transform(y_train)\n",
    "y_test = y_scaler.transform(y_test)"
   ]
  },
  {
   "cell_type": "code",
   "execution_count": 12,
   "id": "95030d48-9c5a-4237-85ca-460450d2ca5e",
   "metadata": {},
   "outputs": [
    {
     "name": "stdout",
     "output_type": "stream",
     "text": [
      "X_train sample values:\n",
      "[[[0.7472576 ]\n",
      "  [0.75388353]\n",
      "  [0.75123316]\n",
      "  [0.74565854]\n",
      "  [0.75005522]]\n",
      "\n",
      " [[0.75388353]\n",
      "  [0.75123316]\n",
      "  [0.74565854]\n",
      "  [0.75005522]\n",
      "  [0.74863285]]\n",
      "\n",
      " [[0.75123316]\n",
      "  [0.74565854]\n",
      "  [0.75005522]\n",
      "  [0.74863285]\n",
      "  [0.75194581]]\n",
      "\n",
      " [[0.74565854]\n",
      "  [0.75005522]\n",
      "  [0.74863285]\n",
      "  [0.75194581]\n",
      "  [0.7551351 ]]\n",
      "\n",
      " [[0.75005522]\n",
      "  [0.74863285]\n",
      "  [0.75194581]\n",
      "  [0.7551351 ]\n",
      "  [0.74917176]]] \n",
      "\n",
      "X_test sample values:\n",
      "[[[0.03095781]\n",
      "  [0.03136273]\n",
      "  [0.03187808]\n",
      "  [0.03139954]\n",
      "  [0.03147316]]\n",
      "\n",
      " [[0.03136273]\n",
      "  [0.03187808]\n",
      "  [0.03139954]\n",
      "  [0.03147316]\n",
      "  [0.03209895]]\n",
      "\n",
      " [[0.03187808]\n",
      "  [0.03139954]\n",
      "  [0.03147316]\n",
      "  [0.03209895]\n",
      "  [0.03318854]]\n",
      "\n",
      " [[0.03139954]\n",
      "  [0.03147316]\n",
      "  [0.03209895]\n",
      "  [0.03318854]\n",
      "  [0.03180446]]\n",
      "\n",
      " [[0.03147316]\n",
      "  [0.03209895]\n",
      "  [0.03318854]\n",
      "  [0.03180446]\n",
      "  [0.03165722]]]\n"
     ]
    }
   ],
   "source": [
    "# Reshape the features for the model\n",
    "X_train = X_train.reshape((X_train.shape[0], X_train.shape[1], 1))\n",
    "X_test = X_test.reshape((X_test.shape[0], X_test.shape[1], 1))\n",
    "print (f\"X_train sample values:\\n{X_train[:5]} \\n\")\n",
    "print (f\"X_test sample values:\\n{X_test[:5]}\")"
   ]
  },
  {
   "cell_type": "markdown",
   "id": "d6448a02-0920-4215-bbf1-b588f4a20f3f",
   "metadata": {},
   "source": [
    "### Build and Train the LSTM RNN"
   ]
  },
  {
   "cell_type": "code",
   "execution_count": 13,
   "id": "ce4bbb5d-ca4a-4113-bae0-7e23174c1ff1",
   "metadata": {},
   "outputs": [],
   "source": [
    "# Import required Keras modules\n",
    "from tensorflow.keras.models import Sequential\n",
    "from tensorflow.keras.layers import LSTM, Dense, Dropout"
   ]
  },
  {
   "cell_type": "code",
   "execution_count": 14,
   "id": "f52864ff-bb61-4d00-8985-5e3a495474d3",
   "metadata": {},
   "outputs": [],
   "source": [
    "# Define the LSTM RNN model.\n",
    "model = Sequential()\n",
    "\n",
    "number_units = 5\n",
    "dropout_fraction = 0.2\n",
    "\n",
    "# Layer 1\n",
    "model.add(LSTM(\n",
    "    units=number_units,\n",
    "    return_sequences=True,\n",
    "    input_shape=(X_train.shape[1], 1))\n",
    "    )\n",
    "model.add(Dropout(dropout_fraction))\n",
    "# Layer 2\n",
    "model.add(LSTM(units=number_units, return_sequences=True))\n",
    "model.add(Dropout(dropout_fraction))\n",
    "# Layer 3\n",
    "model.add(LSTM(units=number_units))\n",
    "model.add(Dropout(dropout_fraction))\n",
    "# Output layer\n",
    "model.add(Dense(1))"
   ]
  },
  {
   "cell_type": "markdown",
   "id": "1dee81f7-2fe3-41ce-be1e-4b25832e3075",
   "metadata": {},
   "source": [
    "### Compiling the LSTM RNN Model"
   ]
  },
  {
   "cell_type": "code",
   "execution_count": 15,
   "id": "0236fb11-6dc3-48ed-941e-4e641f1374f8",
   "metadata": {},
   "outputs": [],
   "source": [
    "# Compile the model\n",
    "model.compile(optimizer=\"adam\", loss=\"mean_squared_error\")"
   ]
  },
  {
   "cell_type": "code",
   "execution_count": 16,
   "id": "72226ac4-7630-4b02-82d3-b78d72a8cb5f",
   "metadata": {},
   "outputs": [
    {
     "name": "stdout",
     "output_type": "stream",
     "text": [
      "Model: \"sequential\"\n",
      "_________________________________________________________________\n",
      "Layer (type)                 Output Shape              Param #   \n",
      "=================================================================\n",
      "lstm (LSTM)                  (None, 5, 5)              140       \n",
      "_________________________________________________________________\n",
      "dropout (Dropout)            (None, 5, 5)              0         \n",
      "_________________________________________________________________\n",
      "lstm_1 (LSTM)                (None, 5, 5)              220       \n",
      "_________________________________________________________________\n",
      "dropout_1 (Dropout)          (None, 5, 5)              0         \n",
      "_________________________________________________________________\n",
      "lstm_2 (LSTM)                (None, 5)                 220       \n",
      "_________________________________________________________________\n",
      "dropout_2 (Dropout)          (None, 5)                 0         \n",
      "_________________________________________________________________\n",
      "dense (Dense)                (None, 1)                 6         \n",
      "=================================================================\n",
      "Total params: 586\n",
      "Trainable params: 586\n",
      "Non-trainable params: 0\n",
      "_________________________________________________________________\n"
     ]
    }
   ],
   "source": [
    "# Summarize the model\n",
    "model.summary()"
   ]
  },
  {
   "cell_type": "markdown",
   "id": "4c6bf79a-7395-44a8-91b5-4d184dcfd0fa",
   "metadata": {},
   "source": [
    "### Training the Model"
   ]
  },
  {
   "cell_type": "code",
   "execution_count": 17,
   "id": "3f518eed-4eb7-4d3d-8463-9f6262a8ccfd",
   "metadata": {},
   "outputs": [
    {
     "name": "stdout",
     "output_type": "stream",
     "text": [
      "Epoch 1/10\n",
      "522/522 [==============================] - 3s 3ms/step - loss: 0.1061\n",
      "Epoch 2/10\n",
      "522/522 [==============================] - 1s 3ms/step - loss: 0.0598\n",
      "Epoch 3/10\n",
      "522/522 [==============================] - 1s 2ms/step - loss: 0.0370\n",
      "Epoch 4/10\n",
      "522/522 [==============================] - 1s 2ms/step - loss: 0.0285\n",
      "Epoch 5/10\n",
      "522/522 [==============================] - 1s 2ms/step - loss: 0.0234\n",
      "Epoch 6/10\n",
      "522/522 [==============================] - 1s 2ms/step - loss: 0.0223\n",
      "Epoch 7/10\n",
      "522/522 [==============================] - 1s 2ms/step - loss: 0.0220\n",
      "Epoch 8/10\n",
      "522/522 [==============================] - 1s 2ms/step - loss: 0.0210\n",
      "Epoch 9/10\n",
      "522/522 [==============================] - 1s 2ms/step - loss: 0.0187\n",
      "Epoch 10/10\n",
      "522/522 [==============================] - 1s 2ms/step - loss: 0.0219\n"
     ]
    },
    {
     "data": {
      "text/plain": [
       "<keras.callbacks.History at 0x2319e785708>"
      ]
     },
     "execution_count": 17,
     "metadata": {},
     "output_type": "execute_result"
    }
   ],
   "source": [
    "# Train the model\n",
    "model.fit(X_train, y_train, epochs=10, shuffle=False, batch_size=1, verbose=1)"
   ]
  },
  {
   "cell_type": "markdown",
   "id": "de565888-56ab-4be6-8385-4737ee9e9daa",
   "metadata": {},
   "source": [
    "### Model Performance"
   ]
  },
  {
   "cell_type": "code",
   "execution_count": 18,
   "id": "b2c74564-e4be-4824-a6b5-b37175248e1e",
   "metadata": {},
   "outputs": [
    {
     "name": "stdout",
     "output_type": "stream",
     "text": [
      "8/8 [==============================] - 1s 1ms/step - loss: 7.5920e-04\n"
     ]
    },
    {
     "data": {
      "text/plain": [
       "0.0007592019974254072"
      ]
     },
     "execution_count": 18,
     "metadata": {},
     "output_type": "execute_result"
    }
   ],
   "source": [
    "# Evaluate the model\n",
    "model.evaluate(X_test, y_test)"
   ]
  },
  {
   "cell_type": "markdown",
   "id": "2569d24f-cb21-41fe-a62d-a7904163217f",
   "metadata": {},
   "source": [
    "### Making Predictions"
   ]
  },
  {
   "cell_type": "code",
   "execution_count": 19,
   "id": "40562f10-3aa7-450e-b99e-d9e36bf837de",
   "metadata": {},
   "outputs": [],
   "source": [
    "# Make some predictions\n",
    "predicted = model.predict(X_test)"
   ]
  },
  {
   "cell_type": "code",
   "execution_count": 20,
   "id": "81a67930-3ad1-44d3-b2cc-7d267e849485",
   "metadata": {},
   "outputs": [],
   "source": [
    "# Recover the original prices instead of the scaled version\n",
    "predicted_prices = y_scaler.inverse_transform(predicted)\n",
    "real_prices = y_scaler.inverse_transform(y_test.reshape(-1, 1))"
   ]
  },
  {
   "cell_type": "code",
   "execution_count": 21,
   "id": "23a02e3f-bfcc-4b4b-9aa8-82a440e33c53",
   "metadata": {},
   "outputs": [
    {
     "data": {
      "text/html": [
       "<div>\n",
       "<style scoped>\n",
       "    .dataframe tbody tr th:only-of-type {\n",
       "        vertical-align: middle;\n",
       "    }\n",
       "\n",
       "    .dataframe tbody tr th {\n",
       "        vertical-align: top;\n",
       "    }\n",
       "\n",
       "    .dataframe thead th {\n",
       "        text-align: right;\n",
       "    }\n",
       "</style>\n",
       "<table border=\"1\" class=\"dataframe\">\n",
       "  <thead>\n",
       "    <tr style=\"text-align: right;\">\n",
       "      <th></th>\n",
       "      <th>Real</th>\n",
       "      <th>Predicted</th>\n",
       "    </tr>\n",
       "  </thead>\n",
       "  <tbody>\n",
       "    <tr>\n",
       "      <th>2020-10-20</th>\n",
       "      <td>18.360</td>\n",
       "      <td>21.756998</td>\n",
       "    </tr>\n",
       "    <tr>\n",
       "      <th>2020-10-21</th>\n",
       "      <td>18.508</td>\n",
       "      <td>21.781689</td>\n",
       "    </tr>\n",
       "    <tr>\n",
       "      <th>2020-10-22</th>\n",
       "      <td>18.320</td>\n",
       "      <td>21.799635</td>\n",
       "    </tr>\n",
       "    <tr>\n",
       "      <th>2020-10-23</th>\n",
       "      <td>18.300</td>\n",
       "      <td>21.800856</td>\n",
       "    </tr>\n",
       "    <tr>\n",
       "      <th>2020-10-26</th>\n",
       "      <td>18.290</td>\n",
       "      <td>21.827835</td>\n",
       "    </tr>\n",
       "  </tbody>\n",
       "</table>\n",
       "</div>"
      ],
      "text/plain": [
       "              Real  Predicted\n",
       "2020-10-20  18.360  21.756998\n",
       "2020-10-21  18.508  21.781689\n",
       "2020-10-22  18.320  21.799635\n",
       "2020-10-23  18.300  21.800856\n",
       "2020-10-26  18.290  21.827835"
      ]
     },
     "execution_count": 21,
     "metadata": {},
     "output_type": "execute_result"
    }
   ],
   "source": [
    "commod = pd.DataFrame({\n",
    "    \"Real\": real_prices.ravel(),\n",
    "    \"Predicted\": predicted_prices.ravel()\n",
    "    }, index = commod_data.index[-len(real_prices): ])\n",
    "commod.head()"
   ]
  },
  {
   "cell_type": "markdown",
   "id": "14d9b330-9fe1-497f-aeb5-d7bb47d3bd8b",
   "metadata": {},
   "source": [
    "### Prepare data for forcasting"
   ]
  },
  {
   "cell_type": "code",
   "execution_count": 22,
   "id": "336236a5-b245-4389-96d5-834516fdc130",
   "metadata": {},
   "outputs": [
    {
     "data": {
      "text/plain": [
       "2021-08-27    17.470\n",
       "2021-08-30    17.385\n",
       "2021-08-31    17.420\n",
       "2021-09-01    17.415\n",
       "2021-09-02    17.380\n",
       "2021-09-03    17.560\n",
       "2021-09-07    17.210\n",
       "2021-09-08    17.175\n",
       "2021-09-09    17.241\n",
       "2021-09-10    17.160\n",
       "Name: Real, dtype: float64"
      ]
     },
     "execution_count": 22,
     "metadata": {},
     "output_type": "execute_result"
    }
   ],
   "source": [
    "commod[-10:][\"Real\"]"
   ]
  },
  {
   "cell_type": "code",
   "execution_count": 23,
   "id": "d7f96e43-8e23-4892-9d94-7004d427ffbe",
   "metadata": {},
   "outputs": [],
   "source": [
    "x_future, _ = window_data(pd.DataFrame(commod[-10:][\"Real\"]), 5, 0, 0)\n",
    "x_future = X_scaler.transform(x_future)\n",
    "x_future = x_future.reshape((x_future.shape[0],x_future.shape[1], 1))"
   ]
  },
  {
   "cell_type": "markdown",
   "id": "82d40281-0a0e-4344-a17d-5529d3004eb5",
   "metadata": {},
   "source": [
    "### Forcast commodity movement"
   ]
  },
  {
   "cell_type": "code",
   "execution_count": 24,
   "id": "cc160f80-aca9-44f5-be06-f4b868406cde",
   "metadata": {},
   "outputs": [],
   "source": [
    "last = model.predict(x_future)[-1:]\n",
    "last = y_scaler.inverse_transform(last)"
   ]
  },
  {
   "cell_type": "code",
   "execution_count": 25,
   "id": "ab949162-dc77-4c38-8f0a-2782835d9962",
   "metadata": {},
   "outputs": [
    {
     "data": {
      "text/plain": [
       "2021-08-30    17.385000\n",
       "2021-08-31    17.420000\n",
       "2021-09-01    17.415000\n",
       "2021-09-02    17.380000\n",
       "2021-09-03    17.560000\n",
       "2021-09-07    17.210000\n",
       "2021-09-08    17.175000\n",
       "2021-09-09    17.241000\n",
       "2021-09-10    17.160000\n",
       "0             21.113001\n",
       "dtype: float64"
      ]
     },
     "execution_count": 25,
     "metadata": {},
     "output_type": "execute_result"
    }
   ],
   "source": [
    "commod[-9:][\"Real\"].append(pd.Series(last[0]))"
   ]
  },
  {
   "cell_type": "code",
   "execution_count": 26,
   "id": "d3aa4285-0407-4578-91ce-0317a8883582",
   "metadata": {},
   "outputs": [],
   "source": [
    "from datetime import timedelta\n",
    "\n",
    "def forecast_lstm(model, \n",
    "                  data,  \n",
    "                  x_scaler, \n",
    "                  y_scaler, \n",
    "                  num_of_obs = 10 ,\n",
    "                  steps_ahead = 15, \n",
    "                  window_size = 5,\n",
    "                  target_col=\"Real\"\n",
    "                 ):\n",
    "    \"\"\"\n",
    "    This function requires window_data to be defined\n",
    "    \"\"\"\n",
    "    for i in range(0, steps_ahead):\n",
    "        x_future, _ = window_data(pd.DataFrame(data[-num_of_obs:][target_col]), window_size, 0, 0)\n",
    "        x_future = X_scaler.transform(x_future)\n",
    "        x_future = x_future.reshape((x_future.shape[0],x_future.shape[1], 1))\n",
    "        last = model.predict(x_future)[-1:]\n",
    "        last = y_scaler.inverse_transform(last)\n",
    "        #print(last)\n",
    "        new_data = data[-(num_of_obs-1):].copy()\n",
    "        \n",
    "        last_date = new_data.iloc[[-1]].index\n",
    "        last_date = last_date + timedelta(days=1)\n",
    "        last_date = pd.to_datetime(last_date[0])\n",
    "        \n",
    "        new_data = new_data.append(pd.DataFrame(index=[last_date]))\n",
    "        new_data.iloc[-1][target_col] = last\n",
    "        data = new_data\n",
    "        #print(data)\n",
    "        #break\n",
    "    return data"
   ]
  },
  {
   "cell_type": "code",
   "execution_count": 27,
   "id": "54bd2cf2-96c7-4b66-9486-2f864642c327",
   "metadata": {},
   "outputs": [],
   "source": [
    "x_future, _ = window_data(pd.DataFrame(commod[-10:][\"Real\"]), 5, 0, 0)"
   ]
  },
  {
   "cell_type": "code",
   "execution_count": 28,
   "id": "5f633cd6-af6a-480e-9a7b-7ba043324300",
   "metadata": {},
   "outputs": [
    {
     "data": {
      "text/html": [
       "<div>\n",
       "<style scoped>\n",
       "    .dataframe tbody tr th:only-of-type {\n",
       "        vertical-align: middle;\n",
       "    }\n",
       "\n",
       "    .dataframe tbody tr th {\n",
       "        vertical-align: top;\n",
       "    }\n",
       "\n",
       "    .dataframe thead th {\n",
       "        text-align: right;\n",
       "    }\n",
       "</style>\n",
       "<table border=\"1\" class=\"dataframe\">\n",
       "  <thead>\n",
       "    <tr style=\"text-align: right;\">\n",
       "      <th></th>\n",
       "      <th>Real</th>\n",
       "    </tr>\n",
       "  </thead>\n",
       "  <tbody>\n",
       "    <tr>\n",
       "      <th>2021-09-16</th>\n",
       "      <td>22.749533</td>\n",
       "    </tr>\n",
       "    <tr>\n",
       "      <th>2021-09-17</th>\n",
       "      <td>23.956741</td>\n",
       "    </tr>\n",
       "    <tr>\n",
       "      <th>2021-09-18</th>\n",
       "      <td>24.057383</td>\n",
       "    </tr>\n",
       "    <tr>\n",
       "      <th>2021-09-19</th>\n",
       "      <td>24.301756</td>\n",
       "    </tr>\n",
       "    <tr>\n",
       "      <th>2021-09-20</th>\n",
       "      <td>24.736547</td>\n",
       "    </tr>\n",
       "    <tr>\n",
       "      <th>2021-09-21</th>\n",
       "      <td>25.291792</td>\n",
       "    </tr>\n",
       "    <tr>\n",
       "      <th>2021-09-22</th>\n",
       "      <td>25.875269</td>\n",
       "    </tr>\n",
       "    <tr>\n",
       "      <th>2021-09-23</th>\n",
       "      <td>26.365055</td>\n",
       "    </tr>\n",
       "    <tr>\n",
       "      <th>2021-09-24</th>\n",
       "      <td>26.586864</td>\n",
       "    </tr>\n",
       "    <tr>\n",
       "      <th>2021-09-25</th>\n",
       "      <td>26.918497</td>\n",
       "    </tr>\n",
       "  </tbody>\n",
       "</table>\n",
       "</div>"
      ],
      "text/plain": [
       "                 Real\n",
       "2021-09-16  22.749533\n",
       "2021-09-17  23.956741\n",
       "2021-09-18  24.057383\n",
       "2021-09-19  24.301756\n",
       "2021-09-20  24.736547\n",
       "2021-09-21  25.291792\n",
       "2021-09-22  25.875269\n",
       "2021-09-23  26.365055\n",
       "2021-09-24  26.586864\n",
       "2021-09-25  26.918497"
      ]
     },
     "execution_count": 28,
     "metadata": {},
     "output_type": "execute_result"
    }
   ],
   "source": [
    "forecast_lstm(model, pd.DataFrame(commod[\"Real\"]), X_scaler, y_scaler)"
   ]
  },
  {
   "cell_type": "code",
   "execution_count": 29,
   "id": "59ae252a-21f0-4b96-9001-983a6c2f62b7",
   "metadata": {},
   "outputs": [],
   "source": [
    "first15= forecast_lstm(model, pd.DataFrame(commod[\"Real\"]), X_scaler, y_scaler)\n"
   ]
  },
  {
   "cell_type": "code",
   "execution_count": null,
   "id": "34c74127-f19b-4a1d-8dfb-20e4710ef4cb",
   "metadata": {},
   "outputs": [],
   "source": []
  }
 ],
 "metadata": {
  "kernelspec": {
   "display_name": "Python 3",
   "language": "python",
   "name": "python3"
  },
  "language_info": {
   "codemirror_mode": {
    "name": "ipython",
    "version": 3
   },
   "file_extension": ".py",
   "mimetype": "text/x-python",
   "name": "python",
   "nbconvert_exporter": "python",
   "pygments_lexer": "ipython3",
   "version": "3.7.10"
  }
 },
 "nbformat": 4,
 "nbformat_minor": 5
}
