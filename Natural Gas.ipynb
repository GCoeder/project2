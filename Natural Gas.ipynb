{
 "cells": [
  {
   "cell_type": "markdown",
   "id": "a2b5d2a4-ef38-4f9c-93ef-3aad30b4b7b3",
   "metadata": {},
   "source": [
    "# Oil Predictor"
   ]
  },
  {
   "cell_type": "code",
   "execution_count": 1,
   "id": "e0380780-1d99-47c6-a2fe-1f8ef753154f",
   "metadata": {},
   "outputs": [],
   "source": [
    "# Initial imports\n",
    "import os\n",
    "import numpy as np\n",
    "import pandas as pd\n",
    "import alpaca_trade_api as tradeapi\n",
    "from pathlib import Path\n",
    "from dotenv import load_dotenv\n",
    "%matplotlib inline"
   ]
  },
  {
   "cell_type": "code",
   "execution_count": 2,
   "id": "87015aea-7ddd-4582-9098-b0d2aa9fcbbb",
   "metadata": {},
   "outputs": [],
   "source": [
    "# Set the random seed for reproducibility\n",
    "# Note: This is used for model prototyping, but it is good practice to comment this out and run multiple experiments to evaluate your model.\n",
    "from numpy.random import seed\n",
    "\n",
    "seed(1)\n",
    "from tensorflow import random\n",
    "\n",
    "random.set_seed(2)"
   ]
  },
  {
   "cell_type": "markdown",
   "id": "9206243f-2c77-4295-ac63-12dfe6883d4c",
   "metadata": {},
   "source": [
    "### Data Loading\n",
    "\n",
    "In this activity, we will use closing prices from different stocks to make predictions of future closing prices based on the temporal data of each stock."
   ]
  },
  {
   "cell_type": "code",
   "execution_count": 3,
   "id": "63d4b841-b648-4b3c-abd0-9af9150127ce",
   "metadata": {},
   "outputs": [],
   "source": [
    "alpaca_api_key = 'PK55DVY40BM8OTB4HSVX'\n",
    "alpaca_secret_key = 'VDBV4ac8Cu1MiLfxYgKSh7zJ1H7u4ifXXtKNylW6'\n",
    "\n",
    "api = tradeapi.REST(\n",
    "    alpaca_api_key,\n",
    "    alpaca_secret_key,\n",
    "    api_version = \"v2\"\n",
    ")"
   ]
  },
  {
   "cell_type": "code",
   "execution_count": 4,
   "id": "d9a7ea8b-3c18-4884-82f8-63d2180c5fa2",
   "metadata": {},
   "outputs": [
    {
     "name": "stdout",
     "output_type": "stream",
     "text": [
      "PK55DVY40BM8OTB4HSVX\n"
     ]
    }
   ],
   "source": [
    "print(alpaca_api_key)"
   ]
  },
  {
   "cell_type": "code",
   "execution_count": 5,
   "id": "434705fe-8d81-4805-ad50-5953d5890640",
   "metadata": {},
   "outputs": [
    {
     "data": {
      "text/html": [
       "<div>\n",
       "<style scoped>\n",
       "    .dataframe tbody tr th:only-of-type {\n",
       "        vertical-align: middle;\n",
       "    }\n",
       "\n",
       "    .dataframe tbody tr th {\n",
       "        vertical-align: top;\n",
       "    }\n",
       "\n",
       "    .dataframe thead tr th {\n",
       "        text-align: left;\n",
       "    }\n",
       "\n",
       "    .dataframe thead tr:last-of-type th {\n",
       "        text-align: right;\n",
       "    }\n",
       "</style>\n",
       "<table border=\"1\" class=\"dataframe\">\n",
       "  <thead>\n",
       "    <tr>\n",
       "      <th></th>\n",
       "      <th colspan=\"5\" halign=\"left\">DBO</th>\n",
       "      <th colspan=\"5\" halign=\"left\">OIL</th>\n",
       "      <th>...</th>\n",
       "      <th colspan=\"5\" halign=\"left\">USL</th>\n",
       "      <th colspan=\"5\" halign=\"left\">USO</th>\n",
       "    </tr>\n",
       "    <tr>\n",
       "      <th></th>\n",
       "      <th>open</th>\n",
       "      <th>high</th>\n",
       "      <th>low</th>\n",
       "      <th>close</th>\n",
       "      <th>volume</th>\n",
       "      <th>open</th>\n",
       "      <th>high</th>\n",
       "      <th>low</th>\n",
       "      <th>close</th>\n",
       "      <th>volume</th>\n",
       "      <th>...</th>\n",
       "      <th>open</th>\n",
       "      <th>high</th>\n",
       "      <th>low</th>\n",
       "      <th>close</th>\n",
       "      <th>volume</th>\n",
       "      <th>open</th>\n",
       "      <th>high</th>\n",
       "      <th>low</th>\n",
       "      <th>close</th>\n",
       "      <th>volume</th>\n",
       "    </tr>\n",
       "    <tr>\n",
       "      <th>time</th>\n",
       "      <th></th>\n",
       "      <th></th>\n",
       "      <th></th>\n",
       "      <th></th>\n",
       "      <th></th>\n",
       "      <th></th>\n",
       "      <th></th>\n",
       "      <th></th>\n",
       "      <th></th>\n",
       "      <th></th>\n",
       "      <th></th>\n",
       "      <th></th>\n",
       "      <th></th>\n",
       "      <th></th>\n",
       "      <th></th>\n",
       "      <th></th>\n",
       "      <th></th>\n",
       "      <th></th>\n",
       "      <th></th>\n",
       "      <th></th>\n",
       "      <th></th>\n",
       "    </tr>\n",
       "  </thead>\n",
       "  <tbody>\n",
       "    <tr>\n",
       "      <th>2018-09-11 00:00:00-04:00</th>\n",
       "      <td>12.41</td>\n",
       "      <td>12.700</td>\n",
       "      <td>12.400</td>\n",
       "      <td>12.675</td>\n",
       "      <td>219738</td>\n",
       "      <td>NaN</td>\n",
       "      <td>NaN</td>\n",
       "      <td>NaN</td>\n",
       "      <td>NaN</td>\n",
       "      <td>NaN</td>\n",
       "      <td>...</td>\n",
       "      <td>25.150</td>\n",
       "      <td>25.6300</td>\n",
       "      <td>25.1500</td>\n",
       "      <td>25.59</td>\n",
       "      <td>4257.0</td>\n",
       "      <td>14.27</td>\n",
       "      <td>14.63</td>\n",
       "      <td>14.2300</td>\n",
       "      <td>14.600</td>\n",
       "      <td>10567587</td>\n",
       "    </tr>\n",
       "    <tr>\n",
       "      <th>2018-09-12 00:00:00-04:00</th>\n",
       "      <td>12.78</td>\n",
       "      <td>12.921</td>\n",
       "      <td>12.740</td>\n",
       "      <td>12.830</td>\n",
       "      <td>427687</td>\n",
       "      <td>NaN</td>\n",
       "      <td>NaN</td>\n",
       "      <td>NaN</td>\n",
       "      <td>NaN</td>\n",
       "      <td>NaN</td>\n",
       "      <td>...</td>\n",
       "      <td>25.780</td>\n",
       "      <td>26.0100</td>\n",
       "      <td>25.7799</td>\n",
       "      <td>25.90</td>\n",
       "      <td>24730.0</td>\n",
       "      <td>14.75</td>\n",
       "      <td>14.96</td>\n",
       "      <td>14.6867</td>\n",
       "      <td>14.775</td>\n",
       "      <td>16562274</td>\n",
       "    </tr>\n",
       "    <tr>\n",
       "      <th>2018-09-13 00:00:00-04:00</th>\n",
       "      <td>12.72</td>\n",
       "      <td>12.770</td>\n",
       "      <td>12.530</td>\n",
       "      <td>12.610</td>\n",
       "      <td>422843</td>\n",
       "      <td>NaN</td>\n",
       "      <td>NaN</td>\n",
       "      <td>NaN</td>\n",
       "      <td>NaN</td>\n",
       "      <td>NaN</td>\n",
       "      <td>...</td>\n",
       "      <td>25.677</td>\n",
       "      <td>25.6770</td>\n",
       "      <td>25.3400</td>\n",
       "      <td>25.45</td>\n",
       "      <td>9563.0</td>\n",
       "      <td>14.61</td>\n",
       "      <td>14.67</td>\n",
       "      <td>14.3900</td>\n",
       "      <td>14.480</td>\n",
       "      <td>17497577</td>\n",
       "    </tr>\n",
       "    <tr>\n",
       "      <th>2018-09-14 00:00:00-04:00</th>\n",
       "      <td>12.61</td>\n",
       "      <td>12.780</td>\n",
       "      <td>12.475</td>\n",
       "      <td>12.635</td>\n",
       "      <td>425976</td>\n",
       "      <td>NaN</td>\n",
       "      <td>NaN</td>\n",
       "      <td>NaN</td>\n",
       "      <td>NaN</td>\n",
       "      <td>NaN</td>\n",
       "      <td>...</td>\n",
       "      <td>25.510</td>\n",
       "      <td>25.5200</td>\n",
       "      <td>25.4875</td>\n",
       "      <td>25.49</td>\n",
       "      <td>2682.0</td>\n",
       "      <td>14.48</td>\n",
       "      <td>14.71</td>\n",
       "      <td>14.3100</td>\n",
       "      <td>14.500</td>\n",
       "      <td>15650639</td>\n",
       "    </tr>\n",
       "    <tr>\n",
       "      <th>2018-09-17 00:00:00-04:00</th>\n",
       "      <td>12.72</td>\n",
       "      <td>12.780</td>\n",
       "      <td>12.585</td>\n",
       "      <td>12.620</td>\n",
       "      <td>343214</td>\n",
       "      <td>NaN</td>\n",
       "      <td>NaN</td>\n",
       "      <td>NaN</td>\n",
       "      <td>NaN</td>\n",
       "      <td>NaN</td>\n",
       "      <td>...</td>\n",
       "      <td>25.670</td>\n",
       "      <td>25.7201</td>\n",
       "      <td>25.4170</td>\n",
       "      <td>25.43</td>\n",
       "      <td>12276.0</td>\n",
       "      <td>14.61</td>\n",
       "      <td>14.66</td>\n",
       "      <td>14.4200</td>\n",
       "      <td>14.470</td>\n",
       "      <td>13367750</td>\n",
       "    </tr>\n",
       "  </tbody>\n",
       "</table>\n",
       "<p>5 rows × 35 columns</p>\n",
       "</div>"
      ],
      "text/plain": [
       "                             DBO                                  OIL       \\\n",
       "                            open    high     low   close  volume open high   \n",
       "time                                                                         \n",
       "2018-09-11 00:00:00-04:00  12.41  12.700  12.400  12.675  219738  NaN  NaN   \n",
       "2018-09-12 00:00:00-04:00  12.78  12.921  12.740  12.830  427687  NaN  NaN   \n",
       "2018-09-13 00:00:00-04:00  12.72  12.770  12.530  12.610  422843  NaN  NaN   \n",
       "2018-09-14 00:00:00-04:00  12.61  12.780  12.475  12.635  425976  NaN  NaN   \n",
       "2018-09-17 00:00:00-04:00  12.72  12.780  12.585  12.620  343214  NaN  NaN   \n",
       "\n",
       "                                            ...     USL                    \\\n",
       "                          low close volume  ...    open     high      low   \n",
       "time                                        ...                             \n",
       "2018-09-11 00:00:00-04:00 NaN   NaN    NaN  ...  25.150  25.6300  25.1500   \n",
       "2018-09-12 00:00:00-04:00 NaN   NaN    NaN  ...  25.780  26.0100  25.7799   \n",
       "2018-09-13 00:00:00-04:00 NaN   NaN    NaN  ...  25.677  25.6770  25.3400   \n",
       "2018-09-14 00:00:00-04:00 NaN   NaN    NaN  ...  25.510  25.5200  25.4875   \n",
       "2018-09-17 00:00:00-04:00 NaN   NaN    NaN  ...  25.670  25.7201  25.4170   \n",
       "\n",
       "                                             USO                          \\\n",
       "                           close   volume   open   high      low   close   \n",
       "time                                                                       \n",
       "2018-09-11 00:00:00-04:00  25.59   4257.0  14.27  14.63  14.2300  14.600   \n",
       "2018-09-12 00:00:00-04:00  25.90  24730.0  14.75  14.96  14.6867  14.775   \n",
       "2018-09-13 00:00:00-04:00  25.45   9563.0  14.61  14.67  14.3900  14.480   \n",
       "2018-09-14 00:00:00-04:00  25.49   2682.0  14.48  14.71  14.3100  14.500   \n",
       "2018-09-17 00:00:00-04:00  25.43  12276.0  14.61  14.66  14.4200  14.470   \n",
       "\n",
       "                                     \n",
       "                             volume  \n",
       "time                                 \n",
       "2018-09-11 00:00:00-04:00  10567587  \n",
       "2018-09-12 00:00:00-04:00  16562274  \n",
       "2018-09-13 00:00:00-04:00  17497577  \n",
       "2018-09-14 00:00:00-04:00  15650639  \n",
       "2018-09-17 00:00:00-04:00  13367750  \n",
       "\n",
       "[5 rows x 35 columns]"
      ]
     },
     "execution_count": 5,
     "metadata": {},
     "output_type": "execute_result"
    }
   ],
   "source": [
    "# Set timeframe to '1D'\n",
    "timeframe = \"1D\"\n",
    "\n",
    "# Set start and end datetimes between now and 3 years ago.\n",
    "start_date = pd.Timestamp(\"2018-09-11\", tz=\"America/New_York\").isoformat()\n",
    "end_date = pd.Timestamp(\"2021-11-08\", tz=\"America/New_York\").isoformat()\n",
    "\n",
    "# Set the ticker information\n",
    "tickers = [\"USO\", \"UCO\", \"DBO\", \"USL\", \"OIL\", \"SCO\" , \"TIP\"]\n",
    "\n",
    "# Get 3 year's worth of historical price data for Microsoft and Coca-Cola\n",
    "raw_commod = api.get_barset(\n",
    "    tickers,\n",
    "    timeframe,\n",
    "    start=start_date,\n",
    "    end=end_date,\n",
    "    limit=1000,\n",
    ").df\n",
    "\n",
    "# Display sample data\n",
    "raw_commod.head()"
   ]
  },
  {
   "cell_type": "code",
   "execution_count": 6,
   "id": "4daf2bc0-c5cd-4525-bd05-d32b38b1366f",
   "metadata": {},
   "outputs": [],
   "source": [
    "commod_data = pd.DataFrame()\n",
    "\n",
    "for c in raw_commod.columns:\n",
    "    if c[1] in \"close\":\n",
    "        commod_data[c[0]] = raw_commod[c[0]][c[1]]"
   ]
  },
  {
   "cell_type": "code",
   "execution_count": 7,
   "id": "6810b65e-537c-4f8d-9dae-9386935216d8",
   "metadata": {},
   "outputs": [
    {
     "data": {
      "text/html": [
       "<div>\n",
       "<style scoped>\n",
       "    .dataframe tbody tr th:only-of-type {\n",
       "        vertical-align: middle;\n",
       "    }\n",
       "\n",
       "    .dataframe tbody tr th {\n",
       "        vertical-align: top;\n",
       "    }\n",
       "\n",
       "    .dataframe thead th {\n",
       "        text-align: right;\n",
       "    }\n",
       "</style>\n",
       "<table border=\"1\" class=\"dataframe\">\n",
       "  <thead>\n",
       "    <tr style=\"text-align: right;\">\n",
       "      <th></th>\n",
       "      <th>DBO</th>\n",
       "      <th>OIL</th>\n",
       "      <th>SCO</th>\n",
       "      <th>TIP</th>\n",
       "      <th>UCO</th>\n",
       "      <th>USL</th>\n",
       "      <th>USO</th>\n",
       "    </tr>\n",
       "  </thead>\n",
       "  <tbody>\n",
       "    <tr>\n",
       "      <th>2018-11-19</th>\n",
       "      <td>10.705</td>\n",
       "      <td>59.4500</td>\n",
       "      <td>21.170</td>\n",
       "      <td>109.27</td>\n",
       "      <td>21.780</td>\n",
       "      <td>21.8525</td>\n",
       "      <td>12.140</td>\n",
       "    </tr>\n",
       "    <tr>\n",
       "      <th>2018-11-20</th>\n",
       "      <td>9.970</td>\n",
       "      <td>55.2600</td>\n",
       "      <td>24.220</td>\n",
       "      <td>109.11</td>\n",
       "      <td>18.760</td>\n",
       "      <td>20.3500</td>\n",
       "      <td>11.280</td>\n",
       "    </tr>\n",
       "    <tr>\n",
       "      <th>2018-11-21</th>\n",
       "      <td>10.190</td>\n",
       "      <td>56.4035</td>\n",
       "      <td>23.180</td>\n",
       "      <td>109.06</td>\n",
       "      <td>19.540</td>\n",
       "      <td>20.8400</td>\n",
       "      <td>11.520</td>\n",
       "    </tr>\n",
       "    <tr>\n",
       "      <th>2018-11-23</th>\n",
       "      <td>9.595</td>\n",
       "      <td>53.1972</td>\n",
       "      <td>25.850</td>\n",
       "      <td>108.88</td>\n",
       "      <td>17.265</td>\n",
       "      <td>19.6700</td>\n",
       "      <td>10.850</td>\n",
       "    </tr>\n",
       "    <tr>\n",
       "      <th>2018-11-26</th>\n",
       "      <td>9.670</td>\n",
       "      <td>53.6300</td>\n",
       "      <td>25.210</td>\n",
       "      <td>108.77</td>\n",
       "      <td>17.490</td>\n",
       "      <td>19.7900</td>\n",
       "      <td>10.945</td>\n",
       "    </tr>\n",
       "    <tr>\n",
       "      <th>...</th>\n",
       "      <td>...</td>\n",
       "      <td>...</td>\n",
       "      <td>...</td>\n",
       "      <td>...</td>\n",
       "      <td>...</td>\n",
       "      <td>...</td>\n",
       "      <td>...</td>\n",
       "    </tr>\n",
       "    <tr>\n",
       "      <th>2021-09-03</th>\n",
       "      <td>12.680</td>\n",
       "      <td>21.0000</td>\n",
       "      <td>17.520</td>\n",
       "      <td>128.62</td>\n",
       "      <td>74.070</td>\n",
       "      <td>25.2500</td>\n",
       "      <td>48.700</td>\n",
       "    </tr>\n",
       "    <tr>\n",
       "      <th>2021-09-07</th>\n",
       "      <td>12.510</td>\n",
       "      <td>20.7100</td>\n",
       "      <td>17.955</td>\n",
       "      <td>128.33</td>\n",
       "      <td>72.194</td>\n",
       "      <td>24.9100</td>\n",
       "      <td>48.040</td>\n",
       "    </tr>\n",
       "    <tr>\n",
       "      <th>2021-09-08</th>\n",
       "      <td>12.660</td>\n",
       "      <td>21.0000</td>\n",
       "      <td>17.620</td>\n",
       "      <td>128.83</td>\n",
       "      <td>73.550</td>\n",
       "      <td>25.1550</td>\n",
       "      <td>48.600</td>\n",
       "    </tr>\n",
       "    <tr>\n",
       "      <th>2021-09-09</th>\n",
       "      <td>12.425</td>\n",
       "      <td>20.6000</td>\n",
       "      <td>18.190</td>\n",
       "      <td>129.51</td>\n",
       "      <td>71.150</td>\n",
       "      <td>24.7500</td>\n",
       "      <td>47.730</td>\n",
       "    </tr>\n",
       "    <tr>\n",
       "      <th>2021-09-10</th>\n",
       "      <td>12.715</td>\n",
       "      <td>21.1000</td>\n",
       "      <td>17.389</td>\n",
       "      <td>129.14</td>\n",
       "      <td>74.250</td>\n",
       "      <td>25.3000</td>\n",
       "      <td>48.810</td>\n",
       "    </tr>\n",
       "  </tbody>\n",
       "</table>\n",
       "<p>640 rows × 7 columns</p>\n",
       "</div>"
      ],
      "text/plain": [
       "               DBO      OIL     SCO     TIP     UCO      USL     USO\n",
       "2018-11-19  10.705  59.4500  21.170  109.27  21.780  21.8525  12.140\n",
       "2018-11-20   9.970  55.2600  24.220  109.11  18.760  20.3500  11.280\n",
       "2018-11-21  10.190  56.4035  23.180  109.06  19.540  20.8400  11.520\n",
       "2018-11-23   9.595  53.1972  25.850  108.88  17.265  19.6700  10.850\n",
       "2018-11-26   9.670  53.6300  25.210  108.77  17.490  19.7900  10.945\n",
       "...            ...      ...     ...     ...     ...      ...     ...\n",
       "2021-09-03  12.680  21.0000  17.520  128.62  74.070  25.2500  48.700\n",
       "2021-09-07  12.510  20.7100  17.955  128.33  72.194  24.9100  48.040\n",
       "2021-09-08  12.660  21.0000  17.620  128.83  73.550  25.1550  48.600\n",
       "2021-09-09  12.425  20.6000  18.190  129.51  71.150  24.7500  47.730\n",
       "2021-09-10  12.715  21.1000  17.389  129.14  74.250  25.3000  48.810\n",
       "\n",
       "[640 rows x 7 columns]"
      ]
     },
     "execution_count": 7,
     "metadata": {},
     "output_type": "execute_result"
    }
   ],
   "source": [
    "commod_data.index= commod_data.index.date\n",
    "commod_data= commod_data.dropna()\n",
    "commod_data"
   ]
  },
  {
   "cell_type": "code",
   "execution_count": 8,
   "id": "27fb3758-e0b3-4c9b-b456-73027369a4f9",
   "metadata": {},
   "outputs": [],
   "source": [
    "def window_data(commod_data, window, feature_col_number, target_col_number):\n",
    "    \"\"\"\n",
    "    This function accepts the column number for the features (X) and the target (y).\n",
    "    It chunks the data up with a rolling window of Xt - window to predict Xt.\n",
    "    It returns two numpy arrays of X and y.\n",
    "    \"\"\"\n",
    "    X = []\n",
    "    y = []\n",
    "    for i in range(len(commod_data) - window):\n",
    "        features = commod_data.iloc[i : (i + window), feature_col_number]\n",
    "        target = commod_data.iloc[(i + window), target_col_number]\n",
    "        X.append(features)\n",
    "        y.append(target)\n",
    "    return np.array(X), np.array(y).reshape(-1, 1)"
   ]
  },
  {
   "cell_type": "code",
   "execution_count": 9,
   "id": "52d3125b-cd72-480a-9a17-d507ddc00032",
   "metadata": {},
   "outputs": [
    {
     "name": "stdout",
     "output_type": "stream",
     "text": [
      "X sample values:\n",
      "[[21.17 24.22 23.18 25.85 25.21]\n",
      " [24.22 23.18 25.85 25.21 25.14]\n",
      " [23.18 25.85 25.21 25.14 26.49]\n",
      " [25.85 25.21 25.14 26.49 25.46]\n",
      " [25.21 25.14 26.49 25.46 26.11]] \n",
      "\n",
      "y sample values:\n",
      "[[25.14]\n",
      " [26.49]\n",
      " [25.46]\n",
      " [26.11]\n",
      " [23.61]]\n"
     ]
    }
   ],
   "source": [
    "# Creating the features (X) and target (y) data using the window_data() function.\n",
    "window_size = 5\n",
    "\n",
    "feature_column = 2\n",
    "target_column = 2\n",
    "X, y = window_data(commod_data, window_size, feature_column, target_column)\n",
    "print (f\"X sample values:\\n{X[:5]} \\n\")\n",
    "print (f\"y sample values:\\n{y[:5]}\")"
   ]
  },
  {
   "cell_type": "markdown",
   "id": "f760f2d1-37bf-425f-a92a-7877df0c24e1",
   "metadata": {},
   "source": [
    "### Training"
   ]
  },
  {
   "cell_type": "code",
   "execution_count": 10,
   "id": "ae3cfb23-85ac-44c6-9f87-5b0df10203c3",
   "metadata": {},
   "outputs": [
    {
     "data": {
      "text/plain": [
       "array([[21.17  , 24.22  , 23.18  , 25.85  , 25.21  ],\n",
       "       [24.22  , 23.18  , 25.85  , 25.21  , 25.14  ],\n",
       "       [23.18  , 25.85  , 25.21  , 25.14  , 26.49  ],\n",
       "       ...,\n",
       "       [12.99  , 13.09  , 13.31  , 13.61  , 13.34  ],\n",
       "       [13.09  , 13.31  , 13.61  , 13.34  , 13.1778],\n",
       "       [13.31  , 13.61  , 13.34  , 13.1778, 12.88  ]])"
      ]
     },
     "execution_count": 10,
     "metadata": {},
     "output_type": "execute_result"
    }
   ],
   "source": [
    "# Use 70% of the data for training and the remainder for testing\n",
    "split = int(0.7 * len(X))\n",
    "X_train = X[: split]\n",
    "X_test = X[split:]\n",
    "y_train = y[: split]\n",
    "y_test = y[split:]\n",
    "X_train"
   ]
  },
  {
   "cell_type": "code",
   "execution_count": 11,
   "id": "fd95f573-0989-4b2f-ade4-eafb194fabc2",
   "metadata": {},
   "outputs": [],
   "source": [
    "from sklearn.preprocessing import MinMaxScaler\n",
    "\n",
    "# Create a MinMaxScaler object\n",
    "X_scaler = MinMaxScaler()\n",
    "y_scaler = MinMaxScaler()\n",
    "\n",
    "# Fit the MinMaxScaler object with the training feature data X_train\n",
    "X_scaler.fit(X_train)\n",
    "\n",
    "# Scale the features training and testing sets\n",
    "X_train = X_scaler.transform(X_train)\n",
    "X_test = X_scaler.transform(X_test)\n",
    "\n",
    "# Fit the MinMaxScaler object with the training target data y_train\n",
    "y_scaler.fit(y_train)\n",
    "\n",
    "# Scale the target training and testing sets\n",
    "y_train = y_scaler.transform(y_train)\n",
    "y_test = y_scaler.transform(y_test)"
   ]
  },
  {
   "cell_type": "code",
   "execution_count": 12,
   "id": "95030d48-9c5a-4237-85ca-460450d2ca5e",
   "metadata": {},
   "outputs": [
    {
     "name": "stdout",
     "output_type": "stream",
     "text": [
      "X_train sample values:\n",
      "[[[0.22819733]\n",
      "  [0.299509  ]\n",
      "  [0.27519289]\n",
      "  [0.33761983]\n",
      "  [0.32265607]]\n",
      "\n",
      " [[0.299509  ]\n",
      "  [0.27519289]\n",
      "  [0.33761983]\n",
      "  [0.32265607]\n",
      "  [0.32101941]]\n",
      "\n",
      " [[0.27519289]\n",
      "  [0.33761983]\n",
      "  [0.32265607]\n",
      "  [0.32101941]\n",
      "  [0.35258359]]\n",
      "\n",
      " [[0.33761983]\n",
      "  [0.32265607]\n",
      "  [0.32101941]\n",
      "  [0.35258359]\n",
      "  [0.32850129]]\n",
      "\n",
      " [[0.32265607]\n",
      "  [0.32101941]\n",
      "  [0.35258359]\n",
      "  [0.32850129]\n",
      "  [0.34369885]]] \n",
      "\n",
      "X_test sample values:\n",
      "[[[0.05143792]\n",
      "  [0.04512509]\n",
      "  [0.04133271]\n",
      "  [0.03436989]\n",
      "  [0.03607201]]\n",
      "\n",
      " [[0.04512509]\n",
      "  [0.04133271]\n",
      "  [0.03436989]\n",
      "  [0.03607201]\n",
      "  [0.03577274]]\n",
      "\n",
      " [[0.04133271]\n",
      "  [0.03436989]\n",
      "  [0.03607201]\n",
      "  [0.03577274]\n",
      "  [0.03670797]]\n",
      "\n",
      " [[0.03436989]\n",
      "  [0.03607201]\n",
      "  [0.03577274]\n",
      "  [0.03670797]\n",
      "  [0.02291326]]\n",
      "\n",
      " [[0.03607201]\n",
      "  [0.03577274]\n",
      "  [0.03670797]\n",
      "  [0.02291326]\n",
      "  [0.02595277]]]\n"
     ]
    }
   ],
   "source": [
    "# Reshape the features for the model\n",
    "X_train = X_train.reshape((X_train.shape[0], X_train.shape[1], 1))\n",
    "X_test = X_test.reshape((X_test.shape[0], X_test.shape[1], 1))\n",
    "print (f\"X_train sample values:\\n{X_train[:5]} \\n\")\n",
    "print (f\"X_test sample values:\\n{X_test[:5]}\")"
   ]
  },
  {
   "cell_type": "markdown",
   "id": "d6448a02-0920-4215-bbf1-b588f4a20f3f",
   "metadata": {},
   "source": [
    "### Build and Train the LSTM RNN"
   ]
  },
  {
   "cell_type": "code",
   "execution_count": 13,
   "id": "ce4bbb5d-ca4a-4113-bae0-7e23174c1ff1",
   "metadata": {},
   "outputs": [],
   "source": [
    "# Import required Keras modules\n",
    "from tensorflow.keras.models import Sequential\n",
    "from tensorflow.keras.layers import LSTM, Dense, Dropout"
   ]
  },
  {
   "cell_type": "code",
   "execution_count": 14,
   "id": "f52864ff-bb61-4d00-8985-5e3a495474d3",
   "metadata": {},
   "outputs": [],
   "source": [
    "# Define the LSTM RNN model.\n",
    "model = Sequential()\n",
    "\n",
    "number_units = 5\n",
    "dropout_fraction = 0.2\n",
    "\n",
    "# Layer 1\n",
    "model.add(LSTM(\n",
    "    units=number_units,\n",
    "    return_sequences=True,\n",
    "    input_shape=(X_train.shape[1], 1))\n",
    "    )\n",
    "model.add(Dropout(dropout_fraction))\n",
    "# Layer 2\n",
    "model.add(LSTM(units=number_units, return_sequences=True))\n",
    "model.add(Dropout(dropout_fraction))\n",
    "# Layer 3\n",
    "model.add(LSTM(units=number_units))\n",
    "model.add(Dropout(dropout_fraction))\n",
    "# Output layer\n",
    "model.add(Dense(1))"
   ]
  },
  {
   "cell_type": "markdown",
   "id": "1dee81f7-2fe3-41ce-be1e-4b25832e3075",
   "metadata": {},
   "source": [
    "### Compiling the LSTM RNN Model"
   ]
  },
  {
   "cell_type": "code",
   "execution_count": 15,
   "id": "0236fb11-6dc3-48ed-941e-4e641f1374f8",
   "metadata": {},
   "outputs": [],
   "source": [
    "# Compile the model\n",
    "model.compile(optimizer=\"adam\", loss=\"mean_squared_error\")"
   ]
  },
  {
   "cell_type": "code",
   "execution_count": 16,
   "id": "72226ac4-7630-4b02-82d3-b78d72a8cb5f",
   "metadata": {},
   "outputs": [
    {
     "name": "stdout",
     "output_type": "stream",
     "text": [
      "Model: \"sequential\"\n",
      "_________________________________________________________________\n",
      "Layer (type)                 Output Shape              Param #   \n",
      "=================================================================\n",
      "lstm (LSTM)                  (None, 5, 5)              140       \n",
      "_________________________________________________________________\n",
      "dropout (Dropout)            (None, 5, 5)              0         \n",
      "_________________________________________________________________\n",
      "lstm_1 (LSTM)                (None, 5, 5)              220       \n",
      "_________________________________________________________________\n",
      "dropout_1 (Dropout)          (None, 5, 5)              0         \n",
      "_________________________________________________________________\n",
      "lstm_2 (LSTM)                (None, 5)                 220       \n",
      "_________________________________________________________________\n",
      "dropout_2 (Dropout)          (None, 5)                 0         \n",
      "_________________________________________________________________\n",
      "dense (Dense)                (None, 1)                 6         \n",
      "=================================================================\n",
      "Total params: 586\n",
      "Trainable params: 586\n",
      "Non-trainable params: 0\n",
      "_________________________________________________________________\n"
     ]
    }
   ],
   "source": [
    "# Summarize the model\n",
    "model.summary()"
   ]
  },
  {
   "cell_type": "markdown",
   "id": "4c6bf79a-7395-44a8-91b5-4d184dcfd0fa",
   "metadata": {},
   "source": [
    "### Training the Model"
   ]
  },
  {
   "cell_type": "code",
   "execution_count": 17,
   "id": "3f518eed-4eb7-4d3d-8463-9f6262a8ccfd",
   "metadata": {},
   "outputs": [
    {
     "name": "stdout",
     "output_type": "stream",
     "text": [
      "Epoch 1/10\n",
      "444/444 [==============================] - 3s 2ms/step - loss: 0.0294\n",
      "Epoch 2/10\n",
      "444/444 [==============================] - 1s 2ms/step - loss: 0.0222\n",
      "Epoch 3/10\n",
      "444/444 [==============================] - 1s 2ms/step - loss: 0.0190\n",
      "Epoch 4/10\n",
      "444/444 [==============================] - 1s 3ms/step - loss: 0.0156\n",
      "Epoch 5/10\n",
      "444/444 [==============================] - 1s 3ms/step - loss: 0.0145\n",
      "Epoch 6/10\n",
      "444/444 [==============================] - 1s 3ms/step - loss: 0.0130\n",
      "Epoch 7/10\n",
      "444/444 [==============================] - 1s 2ms/step - loss: 0.0117\n",
      "Epoch 8/10\n",
      "444/444 [==============================] - 1s 2ms/step - loss: 0.0114\n",
      "Epoch 9/10\n",
      "444/444 [==============================] - 1s 2ms/step - loss: 0.0094\n",
      "Epoch 10/10\n",
      "444/444 [==============================] - 1s 2ms/step - loss: 0.0110\n"
     ]
    },
    {
     "data": {
      "text/plain": [
       "<keras.callbacks.History at 0x1531ca9d648>"
      ]
     },
     "execution_count": 17,
     "metadata": {},
     "output_type": "execute_result"
    }
   ],
   "source": [
    "# Train the model\n",
    "model.fit(X_train, y_train, epochs=10, shuffle=False, batch_size=1, verbose=1)"
   ]
  },
  {
   "cell_type": "markdown",
   "id": "de565888-56ab-4be6-8385-4737ee9e9daa",
   "metadata": {},
   "source": [
    "### Model Performance"
   ]
  },
  {
   "cell_type": "code",
   "execution_count": 18,
   "id": "b2c74564-e4be-4824-a6b5-b37175248e1e",
   "metadata": {},
   "outputs": [
    {
     "name": "stdout",
     "output_type": "stream",
     "text": [
      "6/6 [==============================] - 1s 1ms/step - loss: 0.0046\n"
     ]
    },
    {
     "data": {
      "text/plain": [
       "0.00461718812584877"
      ]
     },
     "execution_count": 18,
     "metadata": {},
     "output_type": "execute_result"
    }
   ],
   "source": [
    "# Evaluate the model\n",
    "model.evaluate(X_test, y_test)"
   ]
  },
  {
   "cell_type": "markdown",
   "id": "2569d24f-cb21-41fe-a62d-a7904163217f",
   "metadata": {},
   "source": [
    "### Making Predictions"
   ]
  },
  {
   "cell_type": "code",
   "execution_count": 19,
   "id": "40562f10-3aa7-450e-b99e-d9e36bf837de",
   "metadata": {},
   "outputs": [],
   "source": [
    "# Make some predictions\n",
    "predicted = model.predict(X_test)"
   ]
  },
  {
   "cell_type": "code",
   "execution_count": 20,
   "id": "81a67930-3ad1-44d3-b2cc-7d267e849485",
   "metadata": {},
   "outputs": [],
   "source": [
    "# Recover the original prices instead of the scaled version\n",
    "predicted_prices = y_scaler.inverse_transform(predicted)\n",
    "real_prices = y_scaler.inverse_transform(y_test.reshape(-1, 1))"
   ]
  },
  {
   "cell_type": "code",
   "execution_count": 21,
   "id": "23a02e3f-bfcc-4b4b-9aa8-82a440e33c53",
   "metadata": {},
   "outputs": [
    {
     "data": {
      "text/html": [
       "<div>\n",
       "<style scoped>\n",
       "    .dataframe tbody tr th:only-of-type {\n",
       "        vertical-align: middle;\n",
       "    }\n",
       "\n",
       "    .dataframe tbody tr th {\n",
       "        vertical-align: top;\n",
       "    }\n",
       "\n",
       "    .dataframe thead th {\n",
       "        text-align: right;\n",
       "    }\n",
       "</style>\n",
       "<table border=\"1\" class=\"dataframe\">\n",
       "  <thead>\n",
       "    <tr style=\"text-align: right;\">\n",
       "      <th></th>\n",
       "      <th>Real</th>\n",
       "      <th>Predicted</th>\n",
       "    </tr>\n",
       "  </thead>\n",
       "  <tbody>\n",
       "    <tr>\n",
       "      <th>2020-12-08</th>\n",
       "      <td>12.94</td>\n",
       "      <td>13.912395</td>\n",
       "    </tr>\n",
       "    <tr>\n",
       "      <th>2020-12-09</th>\n",
       "      <td>12.98</td>\n",
       "      <td>13.789457</td>\n",
       "    </tr>\n",
       "    <tr>\n",
       "      <th>2020-12-10</th>\n",
       "      <td>12.39</td>\n",
       "      <td>13.711695</td>\n",
       "    </tr>\n",
       "    <tr>\n",
       "      <th>2020-12-11</th>\n",
       "      <td>12.52</td>\n",
       "      <td>13.643787</td>\n",
       "    </tr>\n",
       "    <tr>\n",
       "      <th>2020-12-14</th>\n",
       "      <td>12.32</td>\n",
       "      <td>13.613734</td>\n",
       "    </tr>\n",
       "  </tbody>\n",
       "</table>\n",
       "</div>"
      ],
      "text/plain": [
       "             Real  Predicted\n",
       "2020-12-08  12.94  13.912395\n",
       "2020-12-09  12.98  13.789457\n",
       "2020-12-10  12.39  13.711695\n",
       "2020-12-11  12.52  13.643787\n",
       "2020-12-14  12.32  13.613734"
      ]
     },
     "execution_count": 21,
     "metadata": {},
     "output_type": "execute_result"
    }
   ],
   "source": [
    "commod = pd.DataFrame({\n",
    "    \"Real\": real_prices.ravel(),\n",
    "    \"Predicted\": predicted_prices.ravel()\n",
    "    }, index = commod_data.index[-len(real_prices): ])\n",
    "commod.head()"
   ]
  },
  {
   "cell_type": "markdown",
   "id": "14d9b330-9fe1-497f-aeb5-d7bb47d3bd8b",
   "metadata": {},
   "source": [
    "### Prepare data for forcasting"
   ]
  },
  {
   "cell_type": "code",
   "execution_count": 22,
   "id": "336236a5-b245-4389-96d5-834516fdc130",
   "metadata": {},
   "outputs": [
    {
     "data": {
      "text/plain": [
       "2021-08-27    18.000\n",
       "2021-08-30    17.810\n",
       "2021-08-31    18.050\n",
       "2021-09-01    18.130\n",
       "2021-09-02    17.370\n",
       "2021-09-03    17.520\n",
       "2021-09-07    17.955\n",
       "2021-09-08    17.620\n",
       "2021-09-09    18.190\n",
       "2021-09-10    17.389\n",
       "Name: Real, dtype: float64"
      ]
     },
     "execution_count": 22,
     "metadata": {},
     "output_type": "execute_result"
    }
   ],
   "source": [
    "commod[-10:][\"Real\"]"
   ]
  },
  {
   "cell_type": "code",
   "execution_count": 23,
   "id": "d7f96e43-8e23-4892-9d94-7004d427ffbe",
   "metadata": {},
   "outputs": [],
   "source": [
    "x_future, _ = window_data(pd.DataFrame(commod[-10:][\"Real\"]), 5, 0, 0)\n",
    "x_future = X_scaler.transform(x_future)\n",
    "x_future = x_future.reshape((x_future.shape[0],x_future.shape[1], 1))"
   ]
  },
  {
   "cell_type": "markdown",
   "id": "82d40281-0a0e-4344-a17d-5529d3004eb5",
   "metadata": {},
   "source": [
    "### Forcast commodity movement"
   ]
  },
  {
   "cell_type": "code",
   "execution_count": 24,
   "id": "cc160f80-aca9-44f5-be06-f4b868406cde",
   "metadata": {},
   "outputs": [],
   "source": [
    "last = model.predict(x_future)[-1:]\n",
    "last = y_scaler.inverse_transform(last)"
   ]
  },
  {
   "cell_type": "code",
   "execution_count": 25,
   "id": "ab949162-dc77-4c38-8f0a-2782835d9962",
   "metadata": {},
   "outputs": [
    {
     "data": {
      "text/plain": [
       "2021-08-30    17.810000\n",
       "2021-08-31    18.050000\n",
       "2021-09-01    18.130000\n",
       "2021-09-02    17.370000\n",
       "2021-09-03    17.520000\n",
       "2021-09-07    17.955000\n",
       "2021-09-08    17.620000\n",
       "2021-09-09    18.190000\n",
       "2021-09-10    17.389000\n",
       "0             16.955908\n",
       "dtype: float64"
      ]
     },
     "execution_count": 25,
     "metadata": {},
     "output_type": "execute_result"
    }
   ],
   "source": [
    "commod[-9:][\"Real\"].append(pd.Series(last[0]))"
   ]
  },
  {
   "cell_type": "code",
   "execution_count": 26,
   "id": "d3aa4285-0407-4578-91ce-0317a8883582",
   "metadata": {},
   "outputs": [],
   "source": [
    "from datetime import timedelta\n",
    "\n",
    "def forecast_lstm(model, \n",
    "                  data,  \n",
    "                  x_scaler, \n",
    "                  y_scaler, \n",
    "                  num_of_obs = 10 ,\n",
    "                  steps_ahead = 15, \n",
    "                  window_size = 5,\n",
    "                  target_col=\"Real\"\n",
    "                 ):\n",
    "    \"\"\"\n",
    "    This function requires window_data to be defined\n",
    "    \"\"\"\n",
    "    for i in range(0, steps_ahead):\n",
    "        x_future, _ = window_data(pd.DataFrame(data[-num_of_obs:][target_col]), window_size, 0, 0)\n",
    "        x_future = X_scaler.transform(x_future)\n",
    "        x_future = x_future.reshape((x_future.shape[0],x_future.shape[1], 1))\n",
    "        last = model.predict(x_future)[-1:]\n",
    "        last = y_scaler.inverse_transform(last)\n",
    "        #print(last)\n",
    "        new_data = data[-(num_of_obs-1):].copy()\n",
    "        \n",
    "        last_date = new_data.iloc[[-1]].index\n",
    "        last_date = last_date + timedelta(days=1)\n",
    "        last_date = pd.to_datetime(last_date[0])\n",
    "        \n",
    "        new_data = new_data.append(pd.DataFrame(index=[last_date]))\n",
    "        new_data.iloc[-1][target_col] = last\n",
    "        data = new_data\n",
    "        #print(data)\n",
    "        #break\n",
    "    return data"
   ]
  },
  {
   "cell_type": "code",
   "execution_count": 27,
   "id": "54bd2cf2-96c7-4b66-9486-2f864642c327",
   "metadata": {},
   "outputs": [],
   "source": [
    "x_future, _ = window_data(pd.DataFrame(commod[-10:][\"Real\"]), 5, 0, 0)"
   ]
  },
  {
   "cell_type": "code",
   "execution_count": 28,
   "id": "5f633cd6-af6a-480e-9a7b-7ba043324300",
   "metadata": {},
   "outputs": [
    {
     "data": {
      "text/html": [
       "<div>\n",
       "<style scoped>\n",
       "    .dataframe tbody tr th:only-of-type {\n",
       "        vertical-align: middle;\n",
       "    }\n",
       "\n",
       "    .dataframe tbody tr th {\n",
       "        vertical-align: top;\n",
       "    }\n",
       "\n",
       "    .dataframe thead th {\n",
       "        text-align: right;\n",
       "    }\n",
       "</style>\n",
       "<table border=\"1\" class=\"dataframe\">\n",
       "  <thead>\n",
       "    <tr style=\"text-align: right;\">\n",
       "      <th></th>\n",
       "      <th>Real</th>\n",
       "    </tr>\n",
       "  </thead>\n",
       "  <tbody>\n",
       "    <tr>\n",
       "      <th>2021-09-16</th>\n",
       "      <td>16.583788</td>\n",
       "    </tr>\n",
       "    <tr>\n",
       "      <th>2021-09-17</th>\n",
       "      <td>16.491650</td>\n",
       "    </tr>\n",
       "    <tr>\n",
       "      <th>2021-09-18</th>\n",
       "      <td>16.471148</td>\n",
       "    </tr>\n",
       "    <tr>\n",
       "      <th>2021-09-19</th>\n",
       "      <td>16.402922</td>\n",
       "    </tr>\n",
       "    <tr>\n",
       "      <th>2021-09-20</th>\n",
       "      <td>16.306273</td>\n",
       "    </tr>\n",
       "    <tr>\n",
       "      <th>2021-09-21</th>\n",
       "      <td>16.217421</td>\n",
       "    </tr>\n",
       "    <tr>\n",
       "      <th>2021-09-22</th>\n",
       "      <td>16.131212</td>\n",
       "    </tr>\n",
       "    <tr>\n",
       "      <th>2021-09-23</th>\n",
       "      <td>16.082558</td>\n",
       "    </tr>\n",
       "    <tr>\n",
       "      <th>2021-09-24</th>\n",
       "      <td>16.036493</td>\n",
       "    </tr>\n",
       "    <tr>\n",
       "      <th>2021-09-25</th>\n",
       "      <td>15.977832</td>\n",
       "    </tr>\n",
       "  </tbody>\n",
       "</table>\n",
       "</div>"
      ],
      "text/plain": [
       "                 Real\n",
       "2021-09-16  16.583788\n",
       "2021-09-17  16.491650\n",
       "2021-09-18  16.471148\n",
       "2021-09-19  16.402922\n",
       "2021-09-20  16.306273\n",
       "2021-09-21  16.217421\n",
       "2021-09-22  16.131212\n",
       "2021-09-23  16.082558\n",
       "2021-09-24  16.036493\n",
       "2021-09-25  15.977832"
      ]
     },
     "execution_count": 28,
     "metadata": {},
     "output_type": "execute_result"
    }
   ],
   "source": [
    "forecast_lstm(model, pd.DataFrame(commod[\"Real\"]), X_scaler, y_scaler)"
   ]
  },
  {
   "cell_type": "code",
   "execution_count": 29,
   "id": "59ae252a-21f0-4b96-9001-983a6c2f62b7",
   "metadata": {},
   "outputs": [],
   "source": [
    "first15= forecast_lstm(model, pd.DataFrame(commod[\"Real\"]), X_scaler, y_scaler)\n"
   ]
  },
  {
   "cell_type": "code",
   "execution_count": null,
   "id": "34c74127-f19b-4a1d-8dfb-20e4710ef4cb",
   "metadata": {},
   "outputs": [],
   "source": []
  }
 ],
 "metadata": {
  "kernelspec": {
   "display_name": "Python 3",
   "language": "python",
   "name": "python3"
  },
  "language_info": {
   "codemirror_mode": {
    "name": "ipython",
    "version": 3
   },
   "file_extension": ".py",
   "mimetype": "text/x-python",
   "name": "python",
   "nbconvert_exporter": "python",
   "pygments_lexer": "ipython3",
   "version": "3.7.10"
  }
 },
 "nbformat": 4,
 "nbformat_minor": 5
}
