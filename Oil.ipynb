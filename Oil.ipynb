{
 "cells": [
  {
   "cell_type": "markdown",
   "id": "a2b5d2a4-ef38-4f9c-93ef-3aad30b4b7b3",
   "metadata": {},
   "source": [
    "# Oil Predictor"
   ]
  },
  {
   "cell_type": "code",
   "execution_count": 1,
   "id": "e0380780-1d99-47c6-a2fe-1f8ef753154f",
   "metadata": {},
   "outputs": [],
   "source": [
    "# Initial imports\n",
    "import os\n",
    "import numpy as np\n",
    "import pandas as pd\n",
    "import alpaca_trade_api as tradeapi\n",
    "from pathlib import Path\n",
    "from dotenv import load_dotenv\n",
    "%matplotlib inline"
   ]
  },
  {
   "cell_type": "code",
   "execution_count": 2,
   "id": "87015aea-7ddd-4582-9098-b0d2aa9fcbbb",
   "metadata": {},
   "outputs": [],
   "source": [
    "# Set the random seed for reproducibility\n",
    "# Note: This is used for model prototyping, but it is good practice to comment this out and run multiple experiments to evaluate your model.\n",
    "from numpy.random import seed\n",
    "\n",
    "seed(1)\n",
    "from tensorflow import random\n",
    "\n",
    "random.set_seed(2)"
   ]
  },
  {
   "cell_type": "markdown",
   "id": "9206243f-2c77-4295-ac63-12dfe6883d4c",
   "metadata": {},
   "source": [
    "### Data Loading\n",
    "\n",
    "In this activity, we will use closing prices from different stocks to make predictions of future closing prices based on the temporal data of each stock."
   ]
  },
  {
   "cell_type": "code",
   "execution_count": 3,
   "id": "63d4b841-b648-4b3c-abd0-9af9150127ce",
   "metadata": {},
   "outputs": [],
   "source": [
    "alpaca_api_key = 'PK55DVY40BM8OTB4HSVX'\n",
    "alpaca_secret_key = 'VDBV4ac8Cu1MiLfxYgKSh7zJ1H7u4ifXXtKNylW6'\n",
    "\n",
    "api = tradeapi.REST(\n",
    "    alpaca_api_key,\n",
    "    alpaca_secret_key,\n",
    "    api_version = \"v2\"\n",
    ")"
   ]
  },
  {
   "cell_type": "code",
   "execution_count": 4,
   "id": "d9a7ea8b-3c18-4884-82f8-63d2180c5fa2",
   "metadata": {},
   "outputs": [
    {
     "name": "stdout",
     "output_type": "stream",
     "text": [
      "PK55DVY40BM8OTB4HSVX\n"
     ]
    }
   ],
   "source": [
    "print(alpaca_api_key)"
   ]
  },
  {
   "cell_type": "code",
   "execution_count": 5,
   "id": "434705fe-8d81-4805-ad50-5953d5890640",
   "metadata": {},
   "outputs": [
    {
     "data": {
      "text/html": [
       "<div>\n",
       "<style scoped>\n",
       "    .dataframe tbody tr th:only-of-type {\n",
       "        vertical-align: middle;\n",
       "    }\n",
       "\n",
       "    .dataframe tbody tr th {\n",
       "        vertical-align: top;\n",
       "    }\n",
       "\n",
       "    .dataframe thead tr th {\n",
       "        text-align: left;\n",
       "    }\n",
       "\n",
       "    .dataframe thead tr:last-of-type th {\n",
       "        text-align: right;\n",
       "    }\n",
       "</style>\n",
       "<table border=\"1\" class=\"dataframe\">\n",
       "  <thead>\n",
       "    <tr>\n",
       "      <th></th>\n",
       "      <th colspan=\"5\" halign=\"left\">BOIL</th>\n",
       "      <th colspan=\"5\" halign=\"left\">GAZ</th>\n",
       "      <th>...</th>\n",
       "      <th colspan=\"5\" halign=\"left\">UNG</th>\n",
       "      <th colspan=\"5\" halign=\"left\">UNL</th>\n",
       "    </tr>\n",
       "    <tr>\n",
       "      <th></th>\n",
       "      <th>open</th>\n",
       "      <th>high</th>\n",
       "      <th>low</th>\n",
       "      <th>close</th>\n",
       "      <th>volume</th>\n",
       "      <th>open</th>\n",
       "      <th>high</th>\n",
       "      <th>low</th>\n",
       "      <th>close</th>\n",
       "      <th>volume</th>\n",
       "      <th>...</th>\n",
       "      <th>open</th>\n",
       "      <th>high</th>\n",
       "      <th>low</th>\n",
       "      <th>close</th>\n",
       "      <th>volume</th>\n",
       "      <th>open</th>\n",
       "      <th>high</th>\n",
       "      <th>low</th>\n",
       "      <th>close</th>\n",
       "      <th>volume</th>\n",
       "    </tr>\n",
       "    <tr>\n",
       "      <th>time</th>\n",
       "      <th></th>\n",
       "      <th></th>\n",
       "      <th></th>\n",
       "      <th></th>\n",
       "      <th></th>\n",
       "      <th></th>\n",
       "      <th></th>\n",
       "      <th></th>\n",
       "      <th></th>\n",
       "      <th></th>\n",
       "      <th></th>\n",
       "      <th></th>\n",
       "      <th></th>\n",
       "      <th></th>\n",
       "      <th></th>\n",
       "      <th></th>\n",
       "      <th></th>\n",
       "      <th></th>\n",
       "      <th></th>\n",
       "      <th></th>\n",
       "      <th></th>\n",
       "    </tr>\n",
       "  </thead>\n",
       "  <tbody>\n",
       "    <tr>\n",
       "      <th>2018-09-11 00:00:00-04:00</th>\n",
       "      <td>26.40</td>\n",
       "      <td>27.06</td>\n",
       "      <td>26.20</td>\n",
       "      <td>26.94</td>\n",
       "      <td>64304</td>\n",
       "      <td>NaN</td>\n",
       "      <td>NaN</td>\n",
       "      <td>NaN</td>\n",
       "      <td>NaN</td>\n",
       "      <td>NaN</td>\n",
       "      <td>...</td>\n",
       "      <td>22.96</td>\n",
       "      <td>23.27</td>\n",
       "      <td>22.87</td>\n",
       "      <td>23.22</td>\n",
       "      <td>1350867</td>\n",
       "      <td>9.1366</td>\n",
       "      <td>9.1366</td>\n",
       "      <td>9.1366</td>\n",
       "      <td>9.1366</td>\n",
       "      <td>100.0</td>\n",
       "    </tr>\n",
       "    <tr>\n",
       "      <th>2018-09-12 00:00:00-04:00</th>\n",
       "      <td>27.32</td>\n",
       "      <td>27.45</td>\n",
       "      <td>26.70</td>\n",
       "      <td>26.75</td>\n",
       "      <td>45356</td>\n",
       "      <td>NaN</td>\n",
       "      <td>NaN</td>\n",
       "      <td>NaN</td>\n",
       "      <td>NaN</td>\n",
       "      <td>NaN</td>\n",
       "      <td>...</td>\n",
       "      <td>23.48</td>\n",
       "      <td>23.51</td>\n",
       "      <td>23.14</td>\n",
       "      <td>23.21</td>\n",
       "      <td>1522494</td>\n",
       "      <td>NaN</td>\n",
       "      <td>NaN</td>\n",
       "      <td>NaN</td>\n",
       "      <td>NaN</td>\n",
       "      <td>NaN</td>\n",
       "    </tr>\n",
       "    <tr>\n",
       "      <th>2018-09-13 00:00:00-04:00</th>\n",
       "      <td>27.01</td>\n",
       "      <td>27.14</td>\n",
       "      <td>26.34</td>\n",
       "      <td>26.37</td>\n",
       "      <td>39465</td>\n",
       "      <td>NaN</td>\n",
       "      <td>NaN</td>\n",
       "      <td>NaN</td>\n",
       "      <td>NaN</td>\n",
       "      <td>NaN</td>\n",
       "      <td>...</td>\n",
       "      <td>23.33</td>\n",
       "      <td>23.40</td>\n",
       "      <td>23.03</td>\n",
       "      <td>23.06</td>\n",
       "      <td>1467542</td>\n",
       "      <td>9.1521</td>\n",
       "      <td>9.1521</td>\n",
       "      <td>9.1521</td>\n",
       "      <td>9.1521</td>\n",
       "      <td>400.0</td>\n",
       "    </tr>\n",
       "    <tr>\n",
       "      <th>2018-09-14 00:00:00-04:00</th>\n",
       "      <td>25.89</td>\n",
       "      <td>25.90</td>\n",
       "      <td>25.46</td>\n",
       "      <td>25.53</td>\n",
       "      <td>111158</td>\n",
       "      <td>NaN</td>\n",
       "      <td>NaN</td>\n",
       "      <td>NaN</td>\n",
       "      <td>NaN</td>\n",
       "      <td>NaN</td>\n",
       "      <td>...</td>\n",
       "      <td>22.86</td>\n",
       "      <td>22.86</td>\n",
       "      <td>22.67</td>\n",
       "      <td>22.70</td>\n",
       "      <td>1835799</td>\n",
       "      <td>9.0410</td>\n",
       "      <td>9.0410</td>\n",
       "      <td>9.0300</td>\n",
       "      <td>9.0375</td>\n",
       "      <td>2115.0</td>\n",
       "    </tr>\n",
       "    <tr>\n",
       "      <th>2018-09-17 00:00:00-04:00</th>\n",
       "      <td>25.85</td>\n",
       "      <td>26.30</td>\n",
       "      <td>25.80</td>\n",
       "      <td>26.01</td>\n",
       "      <td>39346</td>\n",
       "      <td>NaN</td>\n",
       "      <td>NaN</td>\n",
       "      <td>NaN</td>\n",
       "      <td>NaN</td>\n",
       "      <td>NaN</td>\n",
       "      <td>...</td>\n",
       "      <td>22.86</td>\n",
       "      <td>23.09</td>\n",
       "      <td>22.84</td>\n",
       "      <td>22.95</td>\n",
       "      <td>1661151</td>\n",
       "      <td>9.1000</td>\n",
       "      <td>9.1000</td>\n",
       "      <td>9.1000</td>\n",
       "      <td>9.1000</td>\n",
       "      <td>1600.0</td>\n",
       "    </tr>\n",
       "  </tbody>\n",
       "</table>\n",
       "<p>5 rows × 30 columns</p>\n",
       "</div>"
      ],
      "text/plain": [
       "                            BOIL                               GAZ           \\\n",
       "                            open   high    low  close  volume open high low   \n",
       "time                                                                          \n",
       "2018-09-11 00:00:00-04:00  26.40  27.06  26.20  26.94   64304  NaN  NaN NaN   \n",
       "2018-09-12 00:00:00-04:00  27.32  27.45  26.70  26.75   45356  NaN  NaN NaN   \n",
       "2018-09-13 00:00:00-04:00  27.01  27.14  26.34  26.37   39465  NaN  NaN NaN   \n",
       "2018-09-14 00:00:00-04:00  25.89  25.90  25.46  25.53  111158  NaN  NaN NaN   \n",
       "2018-09-17 00:00:00-04:00  25.85  26.30  25.80  26.01   39346  NaN  NaN NaN   \n",
       "\n",
       "                                        ...    UNG                       \\\n",
       "                          close volume  ...   open   high    low  close   \n",
       "time                                    ...                               \n",
       "2018-09-11 00:00:00-04:00   NaN    NaN  ...  22.96  23.27  22.87  23.22   \n",
       "2018-09-12 00:00:00-04:00   NaN    NaN  ...  23.48  23.51  23.14  23.21   \n",
       "2018-09-13 00:00:00-04:00   NaN    NaN  ...  23.33  23.40  23.03  23.06   \n",
       "2018-09-14 00:00:00-04:00   NaN    NaN  ...  22.86  22.86  22.67  22.70   \n",
       "2018-09-17 00:00:00-04:00   NaN    NaN  ...  22.86  23.09  22.84  22.95   \n",
       "\n",
       "                                       UNL                                  \n",
       "                            volume    open    high     low   close  volume  \n",
       "time                                                                        \n",
       "2018-09-11 00:00:00-04:00  1350867  9.1366  9.1366  9.1366  9.1366   100.0  \n",
       "2018-09-12 00:00:00-04:00  1522494     NaN     NaN     NaN     NaN     NaN  \n",
       "2018-09-13 00:00:00-04:00  1467542  9.1521  9.1521  9.1521  9.1521   400.0  \n",
       "2018-09-14 00:00:00-04:00  1835799  9.0410  9.0410  9.0300  9.0375  2115.0  \n",
       "2018-09-17 00:00:00-04:00  1661151  9.1000  9.1000  9.1000  9.1000  1600.0  \n",
       "\n",
       "[5 rows x 30 columns]"
      ]
     },
     "execution_count": 5,
     "metadata": {},
     "output_type": "execute_result"
    }
   ],
   "source": [
    "# Set timeframe to '1D'\n",
    "timeframe = \"1D\"\n",
    "\n",
    "# Set start and end datetimes between now and 3 years ago.\n",
    "start_date = pd.Timestamp(\"2018-09-11\", tz=\"America/New_York\").isoformat()\n",
    "end_date = pd.Timestamp(\"2021-11-08\", tz=\"America/New_York\").isoformat()\n",
    "\n",
    "# Set the ticker information\n",
    "tickers = [\"UNG\", \"GAZ\", \"UNL\", \"KOLD\", \"BOIL\" , \"TIP\"]\n",
    "\n",
    "# Get 3 year's worth of historical price data for Microsoft and Coca-Cola\n",
    "raw_commod = api.get_barset(\n",
    "    tickers,\n",
    "    timeframe,\n",
    "    start=start_date,\n",
    "    end=end_date,\n",
    "    limit=1000,\n",
    ").df\n",
    "\n",
    "# Display sample data\n",
    "raw_commod.head()"
   ]
  },
  {
   "cell_type": "code",
   "execution_count": 6,
   "id": "4daf2bc0-c5cd-4525-bd05-d32b38b1366f",
   "metadata": {},
   "outputs": [],
   "source": [
    "commod_data = pd.DataFrame()\n",
    "\n",
    "for c in raw_commod.columns:\n",
    "    if c[1] in \"close\":\n",
    "        commod_data[c[0]] = raw_commod[c[0]][c[1]]"
   ]
  },
  {
   "cell_type": "code",
   "execution_count": 7,
   "id": "6810b65e-537c-4f8d-9dae-9386935216d8",
   "metadata": {},
   "outputs": [
    {
     "data": {
      "text/html": [
       "<div>\n",
       "<style scoped>\n",
       "    .dataframe tbody tr th:only-of-type {\n",
       "        vertical-align: middle;\n",
       "    }\n",
       "\n",
       "    .dataframe tbody tr th {\n",
       "        vertical-align: top;\n",
       "    }\n",
       "\n",
       "    .dataframe thead th {\n",
       "        text-align: right;\n",
       "    }\n",
       "</style>\n",
       "<table border=\"1\" class=\"dataframe\">\n",
       "  <thead>\n",
       "    <tr style=\"text-align: right;\">\n",
       "      <th></th>\n",
       "      <th>BOIL</th>\n",
       "      <th>GAZ</th>\n",
       "      <th>KOLD</th>\n",
       "      <th>TIP</th>\n",
       "      <th>UNG</th>\n",
       "      <th>UNL</th>\n",
       "    </tr>\n",
       "  </thead>\n",
       "  <tbody>\n",
       "    <tr>\n",
       "      <th>2018-11-19</th>\n",
       "      <td>59.8500</td>\n",
       "      <td>63.4900</td>\n",
       "      <td>11.7000</td>\n",
       "      <td>109.27</td>\n",
       "      <td>37.180</td>\n",
       "      <td>11.590</td>\n",
       "    </tr>\n",
       "    <tr>\n",
       "      <th>2018-11-21</th>\n",
       "      <td>57.0100</td>\n",
       "      <td>59.5500</td>\n",
       "      <td>12.2300</td>\n",
       "      <td>109.06</td>\n",
       "      <td>36.300</td>\n",
       "      <td>11.200</td>\n",
       "    </tr>\n",
       "    <tr>\n",
       "      <th>2018-11-28</th>\n",
       "      <td>61.1700</td>\n",
       "      <td>61.1200</td>\n",
       "      <td>10.9900</td>\n",
       "      <td>108.62</td>\n",
       "      <td>37.740</td>\n",
       "      <td>11.590</td>\n",
       "    </tr>\n",
       "    <tr>\n",
       "      <th>2018-11-29</th>\n",
       "      <td>58.9000</td>\n",
       "      <td>58.5600</td>\n",
       "      <td>11.3300</td>\n",
       "      <td>109.23</td>\n",
       "      <td>37.080</td>\n",
       "      <td>11.480</td>\n",
       "    </tr>\n",
       "    <tr>\n",
       "      <th>2018-12-04</th>\n",
       "      <td>56.3000</td>\n",
       "      <td>59.8300</td>\n",
       "      <td>11.6900</td>\n",
       "      <td>109.65</td>\n",
       "      <td>36.310</td>\n",
       "      <td>11.520</td>\n",
       "    </tr>\n",
       "    <tr>\n",
       "      <th>...</th>\n",
       "      <td>...</td>\n",
       "      <td>...</td>\n",
       "      <td>...</td>\n",
       "      <td>...</td>\n",
       "      <td>...</td>\n",
       "      <td>...</td>\n",
       "    </tr>\n",
       "    <tr>\n",
       "      <th>2021-11-02</th>\n",
       "      <td>65.8100</td>\n",
       "      <td>28.5787</td>\n",
       "      <td>7.0500</td>\n",
       "      <td>128.54</td>\n",
       "      <td>18.420</td>\n",
       "      <td>14.095</td>\n",
       "    </tr>\n",
       "    <tr>\n",
       "      <th>2021-11-03</th>\n",
       "      <td>73.4900</td>\n",
       "      <td>30.0000</td>\n",
       "      <td>6.2899</td>\n",
       "      <td>128.39</td>\n",
       "      <td>19.440</td>\n",
       "      <td>14.570</td>\n",
       "    </tr>\n",
       "    <tr>\n",
       "      <th>2021-11-04</th>\n",
       "      <td>70.5000</td>\n",
       "      <td>29.5300</td>\n",
       "      <td>6.5550</td>\n",
       "      <td>129.22</td>\n",
       "      <td>19.020</td>\n",
       "      <td>14.470</td>\n",
       "    </tr>\n",
       "    <tr>\n",
       "      <th>2021-11-05</th>\n",
       "      <td>68.4100</td>\n",
       "      <td>29.0500</td>\n",
       "      <td>6.7200</td>\n",
       "      <td>129.67</td>\n",
       "      <td>18.760</td>\n",
       "      <td>14.420</td>\n",
       "    </tr>\n",
       "    <tr>\n",
       "      <th>2021-11-08</th>\n",
       "      <td>62.8882</td>\n",
       "      <td>27.9300</td>\n",
       "      <td>7.3100</td>\n",
       "      <td>130.09</td>\n",
       "      <td>18.055</td>\n",
       "      <td>14.070</td>\n",
       "    </tr>\n",
       "  </tbody>\n",
       "</table>\n",
       "<p>624 rows × 6 columns</p>\n",
       "</div>"
      ],
      "text/plain": [
       "               BOIL      GAZ     KOLD     TIP     UNG     UNL\n",
       "2018-11-19  59.8500  63.4900  11.7000  109.27  37.180  11.590\n",
       "2018-11-21  57.0100  59.5500  12.2300  109.06  36.300  11.200\n",
       "2018-11-28  61.1700  61.1200  10.9900  108.62  37.740  11.590\n",
       "2018-11-29  58.9000  58.5600  11.3300  109.23  37.080  11.480\n",
       "2018-12-04  56.3000  59.8300  11.6900  109.65  36.310  11.520\n",
       "...             ...      ...      ...     ...     ...     ...\n",
       "2021-11-02  65.8100  28.5787   7.0500  128.54  18.420  14.095\n",
       "2021-11-03  73.4900  30.0000   6.2899  128.39  19.440  14.570\n",
       "2021-11-04  70.5000  29.5300   6.5550  129.22  19.020  14.470\n",
       "2021-11-05  68.4100  29.0500   6.7200  129.67  18.760  14.420\n",
       "2021-11-08  62.8882  27.9300   7.3100  130.09  18.055  14.070\n",
       "\n",
       "[624 rows x 6 columns]"
      ]
     },
     "execution_count": 7,
     "metadata": {},
     "output_type": "execute_result"
    }
   ],
   "source": [
    "commod_data.index= commod_data.index.date\n",
    "commod_data= commod_data.dropna()\n",
    "commod_data"
   ]
  },
  {
   "cell_type": "code",
   "execution_count": 8,
   "id": "27fb3758-e0b3-4c9b-b456-73027369a4f9",
   "metadata": {},
   "outputs": [],
   "source": [
    "def window_data(commod_data, window, feature_col_number, target_col_number):\n",
    "    \"\"\"\n",
    "    This function accepts the column number for the features (X) and the target (y).\n",
    "    It chunks the data up with a rolling window of Xt - window to predict Xt.\n",
    "    It returns two numpy arrays of X and y.\n",
    "    \"\"\"\n",
    "    X = []\n",
    "    y = []\n",
    "    for i in range(len(commod_data) - window):\n",
    "        features = commod_data.iloc[i : (i + window), feature_col_number]\n",
    "        target = commod_data.iloc[(i + window), target_col_number]\n",
    "        X.append(features)\n",
    "        y.append(target)\n",
    "    return np.array(X), np.array(y).reshape(-1, 1)"
   ]
  },
  {
   "cell_type": "code",
   "execution_count": 9,
   "id": "52d3125b-cd72-480a-9a17-d507ddc00032",
   "metadata": {},
   "outputs": [
    {
     "name": "stdout",
     "output_type": "stream",
     "text": [
      "X sample values:\n",
      "[[11.7    12.23   10.99   11.33   11.69  ]\n",
      " [12.23   10.99   11.33   11.69   12.31  ]\n",
      " [10.99   11.33   11.69   12.31   11.5901]\n",
      " [11.33   11.69   12.31   11.5901 12.23  ]\n",
      " [11.69   12.31   11.5901 12.23   13.43  ]] \n",
      "\n",
      "y sample values:\n",
      "[[12.31  ]\n",
      " [11.5901]\n",
      " [12.23  ]\n",
      " [13.43  ]\n",
      " [13.285 ]]\n"
     ]
    }
   ],
   "source": [
    "# Creating the features (X) and target (y) data using the window_data() function.\n",
    "window_size = 5\n",
    "\n",
    "feature_column = 2\n",
    "target_column = 2\n",
    "X, y = window_data(commod_data, window_size, feature_column, target_column)\n",
    "print (f\"X sample values:\\n{X[:5]} \\n\")\n",
    "print (f\"y sample values:\\n{y[:5]}\")"
   ]
  },
  {
   "cell_type": "markdown",
   "id": "f760f2d1-37bf-425f-a92a-7877df0c24e1",
   "metadata": {},
   "source": [
    "### Training"
   ]
  },
  {
   "cell_type": "code",
   "execution_count": 10,
   "id": "ae3cfb23-85ac-44c6-9f87-5b0df10203c3",
   "metadata": {},
   "outputs": [
    {
     "data": {
      "text/plain": [
       "array([[11.7   , 12.23  , 10.99  , 11.33  , 11.69  ],\n",
       "       [12.23  , 10.99  , 11.33  , 11.69  , 12.31  ],\n",
       "       [10.99  , 11.33  , 11.69  , 12.31  , 11.5901],\n",
       "       ...,\n",
       "       [40.825 , 46.42  , 46.132 , 47.29  , 48.97  ],\n",
       "       [46.42  , 46.132 , 47.29  , 48.97  , 43.26  ],\n",
       "       [46.132 , 47.29  , 48.97  , 43.26  , 42.079 ]])"
      ]
     },
     "execution_count": 10,
     "metadata": {},
     "output_type": "execute_result"
    }
   ],
   "source": [
    "# Use 70% of the data for training and the remainder for testing\n",
    "split = int(0.7 * len(X))\n",
    "X_train = X[: split]\n",
    "X_test = X[split:]\n",
    "y_train = y[: split]\n",
    "y_test = y[split:]\n",
    "X_train"
   ]
  },
  {
   "cell_type": "code",
   "execution_count": 11,
   "id": "fd95f573-0989-4b2f-ade4-eafb194fabc2",
   "metadata": {},
   "outputs": [],
   "source": [
    "from sklearn.preprocessing import MinMaxScaler\n",
    "\n",
    "# Create a MinMaxScaler object\n",
    "X_scaler = MinMaxScaler()\n",
    "y_scaler = MinMaxScaler()\n",
    "\n",
    "# Fit the MinMaxScaler object with the training feature data X_train\n",
    "X_scaler.fit(X_train)\n",
    "\n",
    "# Scale the features training and testing sets\n",
    "X_train = X_scaler.transform(X_train)\n",
    "X_test = X_scaler.transform(X_test)\n",
    "\n",
    "# Fit the MinMaxScaler object with the training target data y_train\n",
    "y_scaler.fit(y_train)\n",
    "\n",
    "# Scale the target training and testing sets\n",
    "y_train = y_scaler.transform(y_train)\n",
    "y_test = y_scaler.transform(y_test)"
   ]
  },
  {
   "cell_type": "code",
   "execution_count": 12,
   "id": "95030d48-9c5a-4237-85ca-460450d2ca5e",
   "metadata": {},
   "outputs": [
    {
     "name": "stdout",
     "output_type": "stream",
     "text": [
      "X_train sample values:\n",
      "[[[0.00942895]\n",
      "  [0.01646746]\n",
      "  [0.        ]\n",
      "  [0.        ]\n",
      "  [0.00133735]]\n",
      "\n",
      " [[0.01646746]\n",
      "  [0.        ]\n",
      "  [0.00451527]\n",
      "  [0.00480256]\n",
      "  [0.00963723]]\n",
      "\n",
      " [[0.        ]\n",
      "  [0.00451527]\n",
      "  [0.00929615]\n",
      "  [0.01307364]\n",
      "  [0.        ]]\n",
      "\n",
      " [[0.00451527]\n",
      "  [0.00929615]\n",
      "  [0.01752988]\n",
      "  [0.00346985]\n",
      "  [0.00856628]]\n",
      "\n",
      " [[0.00929615]\n",
      "  [0.01752988]\n",
      "  [0.00796946]\n",
      "  [0.0120064 ]\n",
      "  [0.02463056]]] \n",
      "\n",
      "X_test sample values:\n",
      "[[[0.48207171]\n",
      "  [0.50438247]\n",
      "  [0.42855246]\n",
      "  [0.41020544]\n",
      "  [0.38862033]]\n",
      "\n",
      " [[0.50438247]\n",
      "  [0.42855246]\n",
      "  [0.41286853]\n",
      "  [0.39074173]\n",
      "  [0.38580908]]\n",
      "\n",
      " [[0.42855246]\n",
      "  [0.41286853]\n",
      "  [0.3934927 ]\n",
      "  [0.38794023]\n",
      "  [0.43226162]]\n",
      "\n",
      " [[0.41286853]\n",
      "  [0.3934927 ]\n",
      "  [0.39070385]\n",
      "  [0.43423159]\n",
      "  [0.3157956 ]]\n",
      "\n",
      " [[0.3934927 ]\n",
      "  [0.39070385]\n",
      "  [0.43678619]\n",
      "  [0.31816969]\n",
      "  [0.30816507]]]\n"
     ]
    }
   ],
   "source": [
    "# Reshape the features for the model\n",
    "X_train = X_train.reshape((X_train.shape[0], X_train.shape[1], 1))\n",
    "X_test = X_test.reshape((X_test.shape[0], X_test.shape[1], 1))\n",
    "print (f\"X_train sample values:\\n{X_train[:5]} \\n\")\n",
    "print (f\"X_test sample values:\\n{X_test[:5]}\")"
   ]
  },
  {
   "cell_type": "markdown",
   "id": "d6448a02-0920-4215-bbf1-b588f4a20f3f",
   "metadata": {},
   "source": [
    "### Build and Train the LSTM RNN"
   ]
  },
  {
   "cell_type": "code",
   "execution_count": 13,
   "id": "ce4bbb5d-ca4a-4113-bae0-7e23174c1ff1",
   "metadata": {},
   "outputs": [],
   "source": [
    "# Import required Keras modules\n",
    "from tensorflow.keras.models import Sequential\n",
    "from tensorflow.keras.layers import LSTM, Dense, Dropout"
   ]
  },
  {
   "cell_type": "code",
   "execution_count": 14,
   "id": "f52864ff-bb61-4d00-8985-5e3a495474d3",
   "metadata": {},
   "outputs": [],
   "source": [
    "# Define the LSTM RNN model.\n",
    "model = Sequential()\n",
    "\n",
    "number_units = 5\n",
    "dropout_fraction = 0.1\n",
    "\n",
    "# Layer 1\n",
    "model.add(LSTM(\n",
    "    units=number_units,\n",
    "    return_sequences=True,\n",
    "    input_shape=(X_train.shape[1], 1))\n",
    "    )\n",
    "model.add(Dropout(dropout_fraction))\n",
    "# Layer 2\n",
    "model.add(LSTM(units=number_units, return_sequences=True))\n",
    "model.add(Dropout(dropout_fraction))\n",
    "# Layer 3\n",
    "model.add(LSTM(units=number_units))\n",
    "model.add(Dropout(dropout_fraction))\n",
    "# Output layer\n",
    "model.add(Dense(1))"
   ]
  },
  {
   "cell_type": "markdown",
   "id": "1dee81f7-2fe3-41ce-be1e-4b25832e3075",
   "metadata": {},
   "source": [
    "### Compiling the LSTM RNN Model"
   ]
  },
  {
   "cell_type": "code",
   "execution_count": 15,
   "id": "0236fb11-6dc3-48ed-941e-4e641f1374f8",
   "metadata": {},
   "outputs": [],
   "source": [
    "# Compile the model\n",
    "model.compile(optimizer=\"adam\", loss=\"mean_squared_error\")"
   ]
  },
  {
   "cell_type": "code",
   "execution_count": 16,
   "id": "72226ac4-7630-4b02-82d3-b78d72a8cb5f",
   "metadata": {},
   "outputs": [
    {
     "name": "stdout",
     "output_type": "stream",
     "text": [
      "Model: \"sequential\"\n",
      "_________________________________________________________________\n",
      "Layer (type)                 Output Shape              Param #   \n",
      "=================================================================\n",
      "lstm (LSTM)                  (None, 5, 5)              140       \n",
      "_________________________________________________________________\n",
      "dropout (Dropout)            (None, 5, 5)              0         \n",
      "_________________________________________________________________\n",
      "lstm_1 (LSTM)                (None, 5, 5)              220       \n",
      "_________________________________________________________________\n",
      "dropout_1 (Dropout)          (None, 5, 5)              0         \n",
      "_________________________________________________________________\n",
      "lstm_2 (LSTM)                (None, 5)                 220       \n",
      "_________________________________________________________________\n",
      "dropout_2 (Dropout)          (None, 5)                 0         \n",
      "_________________________________________________________________\n",
      "dense (Dense)                (None, 1)                 6         \n",
      "=================================================================\n",
      "Total params: 586\n",
      "Trainable params: 586\n",
      "Non-trainable params: 0\n",
      "_________________________________________________________________\n"
     ]
    }
   ],
   "source": [
    "# Summarize the model\n",
    "model.summary()"
   ]
  },
  {
   "cell_type": "markdown",
   "id": "4c6bf79a-7395-44a8-91b5-4d184dcfd0fa",
   "metadata": {},
   "source": [
    "### Training the Model"
   ]
  },
  {
   "cell_type": "code",
   "execution_count": 17,
   "id": "3f518eed-4eb7-4d3d-8463-9f6262a8ccfd",
   "metadata": {},
   "outputs": [
    {
     "name": "stdout",
     "output_type": "stream",
     "text": [
      "Epoch 1/10\n",
      "433/433 [==============================] - 3s 2ms/step - loss: 0.0121\n",
      "Epoch 2/10\n",
      "433/433 [==============================] - 1s 2ms/step - loss: 0.0197\n",
      "Epoch 3/10\n",
      "433/433 [==============================] - 1s 2ms/step - loss: 0.0179\n",
      "Epoch 4/10\n",
      "433/433 [==============================] - 1s 2ms/step - loss: 0.0186\n",
      "Epoch 5/10\n",
      "433/433 [==============================] - 1s 2ms/step - loss: 0.0147\n",
      "Epoch 6/10\n",
      "433/433 [==============================] - 1s 2ms/step - loss: 0.0125\n",
      "Epoch 7/10\n",
      "433/433 [==============================] - 1s 2ms/step - loss: 0.0100\n",
      "Epoch 8/10\n",
      "433/433 [==============================] - 1s 2ms/step - loss: 0.0082\n",
      "Epoch 9/10\n",
      "433/433 [==============================] - 1s 2ms/step - loss: 0.0089\n",
      "Epoch 10/10\n",
      "433/433 [==============================] - 1s 2ms/step - loss: 0.0080\n"
     ]
    },
    {
     "data": {
      "text/plain": [
       "<keras.callbacks.History at 0x23f1e93bcc8>"
      ]
     },
     "execution_count": 17,
     "metadata": {},
     "output_type": "execute_result"
    }
   ],
   "source": [
    "# Train the model\n",
    "model.fit(X_train, y_train, epochs=10, shuffle=False, batch_size=1, verbose=1)"
   ]
  },
  {
   "cell_type": "markdown",
   "id": "de565888-56ab-4be6-8385-4737ee9e9daa",
   "metadata": {},
   "source": [
    "### Model Performance"
   ]
  },
  {
   "cell_type": "code",
   "execution_count": 18,
   "id": "b2c74564-e4be-4824-a6b5-b37175248e1e",
   "metadata": {},
   "outputs": [
    {
     "name": "stdout",
     "output_type": "stream",
     "text": [
      "6/6 [==============================] - 1s 1ms/step - loss: 0.0135\n"
     ]
    },
    {
     "data": {
      "text/plain": [
       "0.013459761627018452"
      ]
     },
     "execution_count": 18,
     "metadata": {},
     "output_type": "execute_result"
    }
   ],
   "source": [
    "# Evaluate the model\n",
    "model.evaluate(X_test, y_test)"
   ]
  },
  {
   "cell_type": "markdown",
   "id": "2569d24f-cb21-41fe-a62d-a7904163217f",
   "metadata": {},
   "source": [
    "### Making Predictions"
   ]
  },
  {
   "cell_type": "code",
   "execution_count": 19,
   "id": "40562f10-3aa7-450e-b99e-d9e36bf837de",
   "metadata": {},
   "outputs": [],
   "source": [
    "# Make some predictions\n",
    "predicted = model.predict(X_test)"
   ]
  },
  {
   "cell_type": "code",
   "execution_count": 20,
   "id": "81a67930-3ad1-44d3-b2cc-7d267e849485",
   "metadata": {},
   "outputs": [],
   "source": [
    "# Recover the original prices instead of the scaled version\n",
    "predicted_prices = y_scaler.inverse_transform(predicted)\n",
    "real_prices = y_scaler.inverse_transform(y_test.reshape(-1, 1))"
   ]
  },
  {
   "cell_type": "code",
   "execution_count": 21,
   "id": "23a02e3f-bfcc-4b4b-9aa8-82a440e33c53",
   "metadata": {},
   "outputs": [
    {
     "data": {
      "text/html": [
       "<div>\n",
       "<style scoped>\n",
       "    .dataframe tbody tr th:only-of-type {\n",
       "        vertical-align: middle;\n",
       "    }\n",
       "\n",
       "    .dataframe tbody tr th {\n",
       "        vertical-align: top;\n",
       "    }\n",
       "\n",
       "    .dataframe thead th {\n",
       "        text-align: right;\n",
       "    }\n",
       "</style>\n",
       "<table border=\"1\" class=\"dataframe\">\n",
       "  <thead>\n",
       "    <tr style=\"text-align: right;\">\n",
       "      <th></th>\n",
       "      <th>Real</th>\n",
       "      <th>Predicted</th>\n",
       "    </tr>\n",
       "  </thead>\n",
       "  <tbody>\n",
       "    <tr>\n",
       "      <th>2021-01-28</th>\n",
       "      <td>40.41</td>\n",
       "      <td>45.361488</td>\n",
       "    </tr>\n",
       "    <tr>\n",
       "      <th>2021-01-29</th>\n",
       "      <td>43.88</td>\n",
       "      <td>44.598927</td>\n",
       "    </tr>\n",
       "    <tr>\n",
       "      <th>2021-02-01</th>\n",
       "      <td>35.18</td>\n",
       "      <td>43.451637</td>\n",
       "    </tr>\n",
       "    <tr>\n",
       "      <th>2021-02-02</th>\n",
       "      <td>34.61</td>\n",
       "      <td>42.971142</td>\n",
       "    </tr>\n",
       "    <tr>\n",
       "      <th>2021-02-03</th>\n",
       "      <td>36.24</td>\n",
       "      <td>42.374527</td>\n",
       "    </tr>\n",
       "  </tbody>\n",
       "</table>\n",
       "</div>"
      ],
      "text/plain": [
       "             Real  Predicted\n",
       "2021-01-28  40.41  45.361488\n",
       "2021-01-29  43.88  44.598927\n",
       "2021-02-01  35.18  43.451637\n",
       "2021-02-02  34.61  42.971142\n",
       "2021-02-03  36.24  42.374527"
      ]
     },
     "execution_count": 21,
     "metadata": {},
     "output_type": "execute_result"
    }
   ],
   "source": [
    "commod = pd.DataFrame({\n",
    "    \"Real\": real_prices.ravel(),\n",
    "    \"Predicted\": predicted_prices.ravel()\n",
    "    }, index = commod_data.index[-len(real_prices): ])\n",
    "commod.head()"
   ]
  },
  {
   "cell_type": "markdown",
   "id": "14d9b330-9fe1-497f-aeb5-d7bb47d3bd8b",
   "metadata": {},
   "source": [
    "### Prepare data for forcasting"
   ]
  },
  {
   "cell_type": "code",
   "execution_count": 22,
   "id": "336236a5-b245-4389-96d5-834516fdc130",
   "metadata": {},
   "outputs": [
    {
     "data": {
      "text/plain": [
       "2021-10-26    6.3000\n",
       "2021-10-27    5.9750\n",
       "2021-10-28    6.6100\n",
       "2021-10-29    7.1100\n",
       "2021-11-01    7.9100\n",
       "2021-11-02    7.0500\n",
       "2021-11-03    6.2899\n",
       "2021-11-04    6.5550\n",
       "2021-11-05    6.7200\n",
       "2021-11-08    7.3100\n",
       "Name: Real, dtype: float64"
      ]
     },
     "execution_count": 22,
     "metadata": {},
     "output_type": "execute_result"
    }
   ],
   "source": [
    "commod[-10:][\"Real\"]"
   ]
  },
  {
   "cell_type": "code",
   "execution_count": 23,
   "id": "d7f96e43-8e23-4892-9d94-7004d427ffbe",
   "metadata": {},
   "outputs": [],
   "source": [
    "x_future, _ = window_data(pd.DataFrame(commod[-10:][\"Real\"]), 5, 0, 0)\n",
    "x_future = X_scaler.transform(x_future)\n",
    "x_future = x_future.reshape((x_future.shape[0],x_future.shape[1], 1))"
   ]
  },
  {
   "cell_type": "markdown",
   "id": "82d40281-0a0e-4344-a17d-5529d3004eb5",
   "metadata": {},
   "source": [
    "### Forcast commodity movement"
   ]
  },
  {
   "cell_type": "code",
   "execution_count": 24,
   "id": "cc160f80-aca9-44f5-be06-f4b868406cde",
   "metadata": {},
   "outputs": [],
   "source": [
    "last = model.predict(x_future)[-1:]\n",
    "last = y_scaler.inverse_transform(last)"
   ]
  },
  {
   "cell_type": "code",
   "execution_count": 25,
   "id": "ab949162-dc77-4c38-8f0a-2782835d9962",
   "metadata": {},
   "outputs": [
    {
     "data": {
      "text/plain": [
       "2021-10-27     5.975000\n",
       "2021-10-28     6.610000\n",
       "2021-10-29     7.110000\n",
       "2021-11-01     7.910000\n",
       "2021-11-02     7.050000\n",
       "2021-11-03     6.289900\n",
       "2021-11-04     6.555000\n",
       "2021-11-05     6.720000\n",
       "2021-11-08     7.310000\n",
       "0             19.364838\n",
       "dtype: float64"
      ]
     },
     "execution_count": 25,
     "metadata": {},
     "output_type": "execute_result"
    }
   ],
   "source": [
    "commod[-9:][\"Real\"].append(pd.Series(last[0]))"
   ]
  },
  {
   "cell_type": "code",
   "execution_count": 26,
   "id": "d3aa4285-0407-4578-91ce-0317a8883582",
   "metadata": {},
   "outputs": [],
   "source": [
    "from datetime import timedelta\n",
    "\n",
    "def forecast_lstm(model, \n",
    "                  data,  \n",
    "                  x_scaler, \n",
    "                  y_scaler, \n",
    "                  num_of_obs = 10 ,\n",
    "                  steps_ahead = 15, \n",
    "                  window_size = 5,\n",
    "                  target_col=\"Real\"\n",
    "                 ):\n",
    "    \"\"\"\n",
    "    This function requires window_data to be defined\n",
    "    \"\"\"\n",
    "    for i in range(0, steps_ahead):\n",
    "        x_future, _ = window_data(pd.DataFrame(data[-num_of_obs:][target_col]), window_size, 0, 0)\n",
    "        x_future = X_scaler.transform(x_future)\n",
    "        x_future = x_future.reshape((x_future.shape[0],x_future.shape[1], 1))\n",
    "        last = model.predict(x_future)[-1:]\n",
    "        last = y_scaler.inverse_transform(last)\n",
    "        #print(last)\n",
    "        new_data = data[-(num_of_obs-1):].copy()\n",
    "        \n",
    "        last_date = new_data.iloc[[-1]].index\n",
    "        last_date = last_date + timedelta(days=1)\n",
    "        last_date = pd.to_datetime(last_date[0])\n",
    "        \n",
    "        new_data = new_data.append(pd.DataFrame(index=[last_date]))\n",
    "        new_data.iloc[-1][target_col] = last\n",
    "        data = new_data\n",
    "        #print(data)\n",
    "        #break\n",
    "    return data"
   ]
  },
  {
   "cell_type": "code",
   "execution_count": 27,
   "id": "54bd2cf2-96c7-4b66-9486-2f864642c327",
   "metadata": {},
   "outputs": [],
   "source": [
    "x_future, _ = window_data(pd.DataFrame(commod[-10:][\"Real\"]), 5, 0, 0)"
   ]
  },
  {
   "cell_type": "code",
   "execution_count": 28,
   "id": "5f633cd6-af6a-480e-9a7b-7ba043324300",
   "metadata": {},
   "outputs": [
    {
     "data": {
      "text/html": [
       "<div>\n",
       "<style scoped>\n",
       "    .dataframe tbody tr th:only-of-type {\n",
       "        vertical-align: middle;\n",
       "    }\n",
       "\n",
       "    .dataframe tbody tr th {\n",
       "        vertical-align: top;\n",
       "    }\n",
       "\n",
       "    .dataframe thead th {\n",
       "        text-align: right;\n",
       "    }\n",
       "</style>\n",
       "<table border=\"1\" class=\"dataframe\">\n",
       "  <thead>\n",
       "    <tr style=\"text-align: right;\">\n",
       "      <th></th>\n",
       "      <th>Real</th>\n",
       "    </tr>\n",
       "  </thead>\n",
       "  <tbody>\n",
       "    <tr>\n",
       "      <th>2021-11-14</th>\n",
       "      <td>24.844378</td>\n",
       "    </tr>\n",
       "    <tr>\n",
       "      <th>2021-11-15</th>\n",
       "      <td>27.994965</td>\n",
       "    </tr>\n",
       "    <tr>\n",
       "      <th>2021-11-16</th>\n",
       "      <td>28.391823</td>\n",
       "    </tr>\n",
       "    <tr>\n",
       "      <th>2021-11-17</th>\n",
       "      <td>29.328947</td>\n",
       "    </tr>\n",
       "    <tr>\n",
       "      <th>2021-11-18</th>\n",
       "      <td>30.748384</td>\n",
       "    </tr>\n",
       "    <tr>\n",
       "      <th>2021-11-19</th>\n",
       "      <td>32.368649</td>\n",
       "    </tr>\n",
       "    <tr>\n",
       "      <th>2021-11-20</th>\n",
       "      <td>33.888592</td>\n",
       "    </tr>\n",
       "    <tr>\n",
       "      <th>2021-11-21</th>\n",
       "      <td>35.055843</td>\n",
       "    </tr>\n",
       "    <tr>\n",
       "      <th>2021-11-22</th>\n",
       "      <td>35.776554</td>\n",
       "    </tr>\n",
       "    <tr>\n",
       "      <th>2021-11-23</th>\n",
       "      <td>36.711872</td>\n",
       "    </tr>\n",
       "  </tbody>\n",
       "</table>\n",
       "</div>"
      ],
      "text/plain": [
       "                 Real\n",
       "2021-11-14  24.844378\n",
       "2021-11-15  27.994965\n",
       "2021-11-16  28.391823\n",
       "2021-11-17  29.328947\n",
       "2021-11-18  30.748384\n",
       "2021-11-19  32.368649\n",
       "2021-11-20  33.888592\n",
       "2021-11-21  35.055843\n",
       "2021-11-22  35.776554\n",
       "2021-11-23  36.711872"
      ]
     },
     "execution_count": 28,
     "metadata": {},
     "output_type": "execute_result"
    }
   ],
   "source": [
    "forecast_lstm(model, pd.DataFrame(commod[\"Real\"]), X_scaler, y_scaler)"
   ]
  },
  {
   "cell_type": "code",
   "execution_count": 29,
   "id": "59ae252a-21f0-4b96-9001-983a6c2f62b7",
   "metadata": {},
   "outputs": [],
   "source": [
    "first15= forecast_lstm(model, pd.DataFrame(commod[\"Real\"]), X_scaler, y_scaler)\n"
   ]
  },
  {
   "cell_type": "code",
   "execution_count": null,
   "id": "34c74127-f19b-4a1d-8dfb-20e4710ef4cb",
   "metadata": {},
   "outputs": [],
   "source": []
  }
 ],
 "metadata": {
  "kernelspec": {
   "display_name": "Python 3",
   "language": "python",
   "name": "python3"
  },
  "language_info": {
   "codemirror_mode": {
    "name": "ipython",
    "version": 3
   },
   "file_extension": ".py",
   "mimetype": "text/x-python",
   "name": "python",
   "nbconvert_exporter": "python",
   "pygments_lexer": "ipython3",
   "version": "3.7.10"
  }
 },
 "nbformat": 4,
 "nbformat_minor": 5
}
