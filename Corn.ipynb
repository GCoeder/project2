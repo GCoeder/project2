{
 "cells": [
  {
   "cell_type": "markdown",
   "id": "a2b5d2a4-ef38-4f9c-93ef-3aad30b4b7b3",
   "metadata": {},
   "source": [
    "# Corn Predictor"
   ]
  },
  {
   "cell_type": "code",
   "execution_count": 1,
   "id": "e0380780-1d99-47c6-a2fe-1f8ef753154f",
   "metadata": {},
   "outputs": [],
   "source": [
    "# Initial imports\n",
    "import os\n",
    "import numpy as np\n",
    "import pandas as pd\n",
    "import alpaca_trade_api as tradeapi\n",
    "from pathlib import Path\n",
    "from dotenv import load_dotenv\n",
    "%matplotlib inline"
   ]
  },
  {
   "cell_type": "code",
   "execution_count": 2,
   "id": "87015aea-7ddd-4582-9098-b0d2aa9fcbbb",
   "metadata": {},
   "outputs": [],
   "source": [
    "# Set the random seed for reproducibility\n",
    "# Note: This is used for model prototyping, but it is good practice to comment this out and run multiple experiments to evaluate your model.\n",
    "from numpy.random import seed\n",
    "\n",
    "seed(1)\n",
    "from tensorflow import random\n",
    "\n",
    "random.set_seed(2)"
   ]
  },
  {
   "cell_type": "markdown",
   "id": "9206243f-2c77-4295-ac63-12dfe6883d4c",
   "metadata": {},
   "source": [
    "### Data Loading\n",
    "\n",
    "In this activity, we will use closing prices from different stocks to make predictions of future closing prices based on the temporal data of each stock."
   ]
  },
  {
   "cell_type": "code",
   "execution_count": 3,
   "id": "63d4b841-b648-4b3c-abd0-9af9150127ce",
   "metadata": {},
   "outputs": [],
   "source": [
    "alpaca_api_key = 'PK55DVY40BM8OTB4HSVX'\n",
    "alpaca_secret_key = 'VDBV4ac8Cu1MiLfxYgKSh7zJ1H7u4ifXXtKNylW6'\n",
    "\n",
    "api = tradeapi.REST(\n",
    "    alpaca_api_key,\n",
    "    alpaca_secret_key,\n",
    "    api_version = \"v2\"\n",
    ")"
   ]
  },
  {
   "cell_type": "code",
   "execution_count": 4,
   "id": "d9a7ea8b-3c18-4884-82f8-63d2180c5fa2",
   "metadata": {},
   "outputs": [
    {
     "name": "stdout",
     "output_type": "stream",
     "text": [
      "PK55DVY40BM8OTB4HSVX\n"
     ]
    }
   ],
   "source": [
    "print(alpaca_api_key)"
   ]
  },
  {
   "cell_type": "code",
   "execution_count": 5,
   "id": "434705fe-8d81-4805-ad50-5953d5890640",
   "metadata": {},
   "outputs": [
    {
     "data": {
      "text/html": [
       "<div>\n",
       "<style scoped>\n",
       "    .dataframe tbody tr th:only-of-type {\n",
       "        vertical-align: middle;\n",
       "    }\n",
       "\n",
       "    .dataframe tbody tr th {\n",
       "        vertical-align: top;\n",
       "    }\n",
       "\n",
       "    .dataframe thead tr th {\n",
       "        text-align: left;\n",
       "    }\n",
       "\n",
       "    .dataframe thead tr:last-of-type th {\n",
       "        text-align: right;\n",
       "    }\n",
       "</style>\n",
       "<table border=\"1\" class=\"dataframe\">\n",
       "  <thead>\n",
       "    <tr>\n",
       "      <th></th>\n",
       "      <th colspan=\"5\" halign=\"left\">CORN</th>\n",
       "      <th colspan=\"5\" halign=\"left\">INGR</th>\n",
       "      <th colspan=\"5\" halign=\"left\">TIP</th>\n",
       "    </tr>\n",
       "    <tr>\n",
       "      <th></th>\n",
       "      <th>open</th>\n",
       "      <th>high</th>\n",
       "      <th>low</th>\n",
       "      <th>close</th>\n",
       "      <th>volume</th>\n",
       "      <th>open</th>\n",
       "      <th>high</th>\n",
       "      <th>low</th>\n",
       "      <th>close</th>\n",
       "      <th>volume</th>\n",
       "      <th>open</th>\n",
       "      <th>high</th>\n",
       "      <th>low</th>\n",
       "      <th>close</th>\n",
       "      <th>volume</th>\n",
       "    </tr>\n",
       "    <tr>\n",
       "      <th>time</th>\n",
       "      <th></th>\n",
       "      <th></th>\n",
       "      <th></th>\n",
       "      <th></th>\n",
       "      <th></th>\n",
       "      <th></th>\n",
       "      <th></th>\n",
       "      <th></th>\n",
       "      <th></th>\n",
       "      <th></th>\n",
       "      <th></th>\n",
       "      <th></th>\n",
       "      <th></th>\n",
       "      <th></th>\n",
       "      <th></th>\n",
       "    </tr>\n",
       "  </thead>\n",
       "  <tbody>\n",
       "    <tr>\n",
       "      <th>2018-09-11 00:00:00-04:00</th>\n",
       "      <td>16.24</td>\n",
       "      <td>16.3100</td>\n",
       "      <td>16.2239</td>\n",
       "      <td>16.2400</td>\n",
       "      <td>32947</td>\n",
       "      <td>101.49</td>\n",
       "      <td>102.1326</td>\n",
       "      <td>100.380</td>\n",
       "      <td>101.44</td>\n",
       "      <td>273383.0</td>\n",
       "      <td>111.08</td>\n",
       "      <td>111.130</td>\n",
       "      <td>110.97</td>\n",
       "      <td>111.025</td>\n",
       "      <td>1329289.0</td>\n",
       "    </tr>\n",
       "    <tr>\n",
       "      <th>2018-09-12 00:00:00-04:00</th>\n",
       "      <td>16.19</td>\n",
       "      <td>16.2028</td>\n",
       "      <td>15.6799</td>\n",
       "      <td>15.7799</td>\n",
       "      <td>321211</td>\n",
       "      <td>101.41</td>\n",
       "      <td>103.4400</td>\n",
       "      <td>101.215</td>\n",
       "      <td>103.11</td>\n",
       "      <td>206807.0</td>\n",
       "      <td>111.19</td>\n",
       "      <td>111.235</td>\n",
       "      <td>111.11</td>\n",
       "      <td>111.130</td>\n",
       "      <td>826503.0</td>\n",
       "    </tr>\n",
       "    <tr>\n",
       "      <th>2018-09-13 00:00:00-04:00</th>\n",
       "      <td>15.76</td>\n",
       "      <td>15.8000</td>\n",
       "      <td>15.6262</td>\n",
       "      <td>15.7000</td>\n",
       "      <td>51794</td>\n",
       "      <td>103.47</td>\n",
       "      <td>104.1000</td>\n",
       "      <td>102.755</td>\n",
       "      <td>103.62</td>\n",
       "      <td>279273.0</td>\n",
       "      <td>111.12</td>\n",
       "      <td>111.120</td>\n",
       "      <td>110.96</td>\n",
       "      <td>110.960</td>\n",
       "      <td>951833.0</td>\n",
       "    </tr>\n",
       "    <tr>\n",
       "      <th>2018-09-14 00:00:00-04:00</th>\n",
       "      <td>15.65</td>\n",
       "      <td>15.7300</td>\n",
       "      <td>15.6466</td>\n",
       "      <td>15.7100</td>\n",
       "      <td>55998</td>\n",
       "      <td>103.91</td>\n",
       "      <td>104.2100</td>\n",
       "      <td>102.455</td>\n",
       "      <td>104.01</td>\n",
       "      <td>304941.0</td>\n",
       "      <td>110.78</td>\n",
       "      <td>110.910</td>\n",
       "      <td>110.72</td>\n",
       "      <td>110.780</td>\n",
       "      <td>1029880.0</td>\n",
       "    </tr>\n",
       "    <tr>\n",
       "      <th>2018-09-17 00:00:00-04:00</th>\n",
       "      <td>15.68</td>\n",
       "      <td>15.6800</td>\n",
       "      <td>15.5750</td>\n",
       "      <td>15.5900</td>\n",
       "      <td>97311</td>\n",
       "      <td>103.74</td>\n",
       "      <td>104.2850</td>\n",
       "      <td>103.150</td>\n",
       "      <td>103.92</td>\n",
       "      <td>566205.0</td>\n",
       "      <td>110.71</td>\n",
       "      <td>110.840</td>\n",
       "      <td>110.69</td>\n",
       "      <td>110.790</td>\n",
       "      <td>1040555.0</td>\n",
       "    </tr>\n",
       "  </tbody>\n",
       "</table>\n",
       "</div>"
      ],
      "text/plain": [
       "                            CORN                                       INGR  \\\n",
       "                            open     high      low    close  volume    open   \n",
       "time                                                                          \n",
       "2018-09-11 00:00:00-04:00  16.24  16.3100  16.2239  16.2400   32947  101.49   \n",
       "2018-09-12 00:00:00-04:00  16.19  16.2028  15.6799  15.7799  321211  101.41   \n",
       "2018-09-13 00:00:00-04:00  15.76  15.8000  15.6262  15.7000   51794  103.47   \n",
       "2018-09-14 00:00:00-04:00  15.65  15.7300  15.6466  15.7100   55998  103.91   \n",
       "2018-09-17 00:00:00-04:00  15.68  15.6800  15.5750  15.5900   97311  103.74   \n",
       "\n",
       "                                                                   TIP  \\\n",
       "                               high      low   close    volume    open   \n",
       "time                                                                     \n",
       "2018-09-11 00:00:00-04:00  102.1326  100.380  101.44  273383.0  111.08   \n",
       "2018-09-12 00:00:00-04:00  103.4400  101.215  103.11  206807.0  111.19   \n",
       "2018-09-13 00:00:00-04:00  104.1000  102.755  103.62  279273.0  111.12   \n",
       "2018-09-14 00:00:00-04:00  104.2100  102.455  104.01  304941.0  110.78   \n",
       "2018-09-17 00:00:00-04:00  104.2850  103.150  103.92  566205.0  110.71   \n",
       "\n",
       "                                                                \n",
       "                              high     low    close     volume  \n",
       "time                                                            \n",
       "2018-09-11 00:00:00-04:00  111.130  110.97  111.025  1329289.0  \n",
       "2018-09-12 00:00:00-04:00  111.235  111.11  111.130   826503.0  \n",
       "2018-09-13 00:00:00-04:00  111.120  110.96  110.960   951833.0  \n",
       "2018-09-14 00:00:00-04:00  110.910  110.72  110.780  1029880.0  \n",
       "2018-09-17 00:00:00-04:00  110.840  110.69  110.790  1040555.0  "
      ]
     },
     "execution_count": 5,
     "metadata": {},
     "output_type": "execute_result"
    }
   ],
   "source": [
    "# Set timeframe to '1D'\n",
    "timeframe = \"1D\"\n",
    "\n",
    "# Set start and end datetimes between now and 3 years ago.\n",
    "start_date = pd.Timestamp(\"2018-09-11\", tz=\"America/New_York\").isoformat()\n",
    "end_date = pd.Timestamp(\"2021-09-11\", tz=\"America/New_York\").isoformat()\n",
    "\n",
    "# Set the ticker information\n",
    "tickers = [\"CORN\", \"INGR\", \"TIP\"]\n",
    "\n",
    "# Get 3 year's worth of historical price data for Microsoft and Coca-Cola\n",
    "raw_corn = api.get_barset(\n",
    "    tickers,\n",
    "    timeframe,\n",
    "    start=start_date,\n",
    "    end=end_date,\n",
    "    limit=1000,\n",
    ").df\n",
    "\n",
    "# Display sample data\n",
    "raw_corn.head()"
   ]
  },
  {
   "cell_type": "code",
   "execution_count": 6,
   "id": "4daf2bc0-c5cd-4525-bd05-d32b38b1366f",
   "metadata": {},
   "outputs": [],
   "source": [
    "corn_data = pd.DataFrame()\n",
    "\n",
    "for c in raw_corn.columns:\n",
    "    if c[1] in \"close\":\n",
    "        corn_data[c[0]] = raw_corn[c[0]][c[1]]"
   ]
  },
  {
   "cell_type": "code",
   "execution_count": 7,
   "id": "6810b65e-537c-4f8d-9dae-9386935216d8",
   "metadata": {},
   "outputs": [
    {
     "data": {
      "text/html": [
       "<div>\n",
       "<style scoped>\n",
       "    .dataframe tbody tr th:only-of-type {\n",
       "        vertical-align: middle;\n",
       "    }\n",
       "\n",
       "    .dataframe tbody tr th {\n",
       "        vertical-align: top;\n",
       "    }\n",
       "\n",
       "    .dataframe thead th {\n",
       "        text-align: right;\n",
       "    }\n",
       "</style>\n",
       "<table border=\"1\" class=\"dataframe\">\n",
       "  <thead>\n",
       "    <tr style=\"text-align: right;\">\n",
       "      <th></th>\n",
       "      <th>CORN</th>\n",
       "      <th>INGR</th>\n",
       "      <th>TIP</th>\n",
       "    </tr>\n",
       "  </thead>\n",
       "  <tbody>\n",
       "    <tr>\n",
       "      <th>2018-09-11</th>\n",
       "      <td>16.2400</td>\n",
       "      <td>101.44</td>\n",
       "      <td>111.025</td>\n",
       "    </tr>\n",
       "    <tr>\n",
       "      <th>2018-09-12</th>\n",
       "      <td>15.7799</td>\n",
       "      <td>103.11</td>\n",
       "      <td>111.130</td>\n",
       "    </tr>\n",
       "    <tr>\n",
       "      <th>2018-09-13</th>\n",
       "      <td>15.7000</td>\n",
       "      <td>103.62</td>\n",
       "      <td>110.960</td>\n",
       "    </tr>\n",
       "    <tr>\n",
       "      <th>2018-09-14</th>\n",
       "      <td>15.7100</td>\n",
       "      <td>104.01</td>\n",
       "      <td>110.780</td>\n",
       "    </tr>\n",
       "    <tr>\n",
       "      <th>2018-09-17</th>\n",
       "      <td>15.5900</td>\n",
       "      <td>103.92</td>\n",
       "      <td>110.790</td>\n",
       "    </tr>\n",
       "    <tr>\n",
       "      <th>...</th>\n",
       "      <td>...</td>\n",
       "      <td>...</td>\n",
       "      <td>...</td>\n",
       "    </tr>\n",
       "    <tr>\n",
       "      <th>2021-09-03</th>\n",
       "      <td>19.6900</td>\n",
       "      <td>88.12</td>\n",
       "      <td>128.620</td>\n",
       "    </tr>\n",
       "    <tr>\n",
       "      <th>2021-09-07</th>\n",
       "      <td>19.3000</td>\n",
       "      <td>87.38</td>\n",
       "      <td>128.330</td>\n",
       "    </tr>\n",
       "    <tr>\n",
       "      <th>2021-09-08</th>\n",
       "      <td>19.3300</td>\n",
       "      <td>87.48</td>\n",
       "      <td>128.830</td>\n",
       "    </tr>\n",
       "    <tr>\n",
       "      <th>2021-09-09</th>\n",
       "      <td>19.2600</td>\n",
       "      <td>86.30</td>\n",
       "      <td>129.510</td>\n",
       "    </tr>\n",
       "    <tr>\n",
       "      <th>2021-09-10</th>\n",
       "      <td>19.4827</td>\n",
       "      <td>86.23</td>\n",
       "      <td>129.140</td>\n",
       "    </tr>\n",
       "  </tbody>\n",
       "</table>\n",
       "<p>753 rows × 3 columns</p>\n",
       "</div>"
      ],
      "text/plain": [
       "               CORN    INGR      TIP\n",
       "2018-09-11  16.2400  101.44  111.025\n",
       "2018-09-12  15.7799  103.11  111.130\n",
       "2018-09-13  15.7000  103.62  110.960\n",
       "2018-09-14  15.7100  104.01  110.780\n",
       "2018-09-17  15.5900  103.92  110.790\n",
       "...             ...     ...      ...\n",
       "2021-09-03  19.6900   88.12  128.620\n",
       "2021-09-07  19.3000   87.38  128.330\n",
       "2021-09-08  19.3300   87.48  128.830\n",
       "2021-09-09  19.2600   86.30  129.510\n",
       "2021-09-10  19.4827   86.23  129.140\n",
       "\n",
       "[753 rows x 3 columns]"
      ]
     },
     "execution_count": 7,
     "metadata": {},
     "output_type": "execute_result"
    }
   ],
   "source": [
    "corn_data.index= corn_data.index.date\n",
    "corn_data= corn_data.dropna()\n",
    "corn_data"
   ]
  },
  {
   "cell_type": "code",
   "execution_count": 8,
   "id": "27fb3758-e0b3-4c9b-b456-73027369a4f9",
   "metadata": {},
   "outputs": [],
   "source": [
    "def window_data(corn_data, window, feature_col_number, target_col_number):\n",
    "    \"\"\"\n",
    "    This function accepts the column number for the features (X) and the target (y).\n",
    "    It chunks the data up with a rolling window of Xt - window to predict Xt.\n",
    "    It returns two numpy arrays of X and y.\n",
    "    \"\"\"\n",
    "    X = []\n",
    "    y = []\n",
    "    for i in range(len(corn_data) - window):\n",
    "        features = corn_data.iloc[i : (i + window), feature_col_number]\n",
    "        target = corn_data.iloc[(i + window), target_col_number]\n",
    "        X.append(features)\n",
    "        y.append(target)\n",
    "    return np.array(X), np.array(y).reshape(-1, 1)"
   ]
  },
  {
   "cell_type": "code",
   "execution_count": 9,
   "id": "52d3125b-cd72-480a-9a17-d507ddc00032",
   "metadata": {},
   "outputs": [
    {
     "name": "stdout",
     "output_type": "stream",
     "text": [
      "X sample values:\n",
      "[[111.025 111.13  110.96  110.78  110.79 ]\n",
      " [111.13  110.96  110.78  110.79  110.54 ]\n",
      " [110.96  110.78  110.79  110.54  110.42 ]\n",
      " [110.78  110.79  110.54  110.42  110.58 ]\n",
      " [110.79  110.54  110.42  110.58  110.59 ]] \n",
      "\n",
      "y sample values:\n",
      "[[110.54 ]\n",
      " [110.42 ]\n",
      " [110.58 ]\n",
      " [110.59 ]\n",
      " [110.485]]\n"
     ]
    }
   ],
   "source": [
    "# Creating the features (X) and target (y) data using the window_data() function.\n",
    "window_size = 5\n",
    "\n",
    "feature_column = 2\n",
    "target_column = 2\n",
    "X, y = window_data(corn_data, window_size, feature_column, target_column)\n",
    "print (f\"X sample values:\\n{X[:5]} \\n\")\n",
    "print (f\"y sample values:\\n{y[:5]}\")"
   ]
  },
  {
   "cell_type": "markdown",
   "id": "f760f2d1-37bf-425f-a92a-7877df0c24e1",
   "metadata": {},
   "source": [
    "### Training"
   ]
  },
  {
   "cell_type": "code",
   "execution_count": 10,
   "id": "ae3cfb23-85ac-44c6-9f87-5b0df10203c3",
   "metadata": {},
   "outputs": [
    {
     "data": {
      "text/plain": [
       "array([[111.025, 111.13 , 110.96 , 110.78 , 110.79 ],\n",
       "       [111.13 , 110.96 , 110.78 , 110.79 , 110.54 ],\n",
       "       [110.96 , 110.78 , 110.79 , 110.54 , 110.42 ],\n",
       "       ...,\n",
       "       [126.2  , 126.25 , 126.31 , 126.34 , 126.35 ],\n",
       "       [126.25 , 126.31 , 126.34 , 126.35 , 126.3  ],\n",
       "       [126.31 , 126.34 , 126.35 , 126.3  , 126.34 ]])"
      ]
     },
     "execution_count": 10,
     "metadata": {},
     "output_type": "execute_result"
    }
   ],
   "source": [
    "# Use 70% of the data for training and the remainder for testing\n",
    "split = int(0.7 * len(X))\n",
    "X_train = X[: split]\n",
    "X_test = X[split:]\n",
    "y_train = y[: split]\n",
    "y_test = y[split:]\n",
    "X_train"
   ]
  },
  {
   "cell_type": "code",
   "execution_count": 11,
   "id": "fd95f573-0989-4b2f-ade4-eafb194fabc2",
   "metadata": {},
   "outputs": [],
   "source": [
    "from sklearn.preprocessing import MinMaxScaler\n",
    "\n",
    "# Create a MinMaxScaler object\n",
    "X_scaler = MinMaxScaler()\n",
    "y_scaler = MinMaxScaler()\n",
    "\n",
    "# Fit the MinMaxScaler object with the training feature data X_train\n",
    "X_scaler.fit(X_train)\n",
    "\n",
    "# Scale the features training and testing sets\n",
    "X_train = X_scaler.transform(X_train)\n",
    "X_test = X_scaler.transform(X_test)\n",
    "\n",
    "# Fit the MinMaxScaler object with the training target data y_train\n",
    "y_scaler.fit(y_train)\n",
    "\n",
    "# Scale the target training and testing sets\n",
    "y_train = y_scaler.transform(y_train)\n",
    "y_test = y_scaler.transform(y_test)"
   ]
  },
  {
   "cell_type": "code",
   "execution_count": 12,
   "id": "95030d48-9c5a-4237-85ca-460450d2ca5e",
   "metadata": {},
   "outputs": [
    {
     "name": "stdout",
     "output_type": "stream",
     "text": [
      "X_train sample values:\n",
      "[[[0.14547872]\n",
      "  [0.15106383]\n",
      "  [0.14202128]\n",
      "  [0.13244681]\n",
      "  [0.13297872]]\n",
      "\n",
      " [[0.15106383]\n",
      "  [0.14202128]\n",
      "  [0.13244681]\n",
      "  [0.13297872]\n",
      "  [0.11968085]]\n",
      "\n",
      " [[0.14202128]\n",
      "  [0.13244681]\n",
      "  [0.13297872]\n",
      "  [0.11968085]\n",
      "  [0.11329787]]\n",
      "\n",
      " [[0.13244681]\n",
      "  [0.13297872]\n",
      "  [0.11968085]\n",
      "  [0.11329787]\n",
      "  [0.12180851]]\n",
      "\n",
      " [[0.13297872]\n",
      "  [0.11968085]\n",
      "  [0.11329787]\n",
      "  [0.12180851]\n",
      "  [0.12234043]]] \n",
      "\n",
      "X_test sample values:\n",
      "[[[0.96010638]\n",
      "  [0.9606383 ]\n",
      "  [0.95797872]\n",
      "  [0.96010638]\n",
      "  [0.94414894]]\n",
      "\n",
      " [[0.9606383 ]\n",
      "  [0.95797872]\n",
      "  [0.96010638]\n",
      "  [0.94414894]\n",
      "  [0.94042553]]\n",
      "\n",
      " [[0.95797872]\n",
      "  [0.96010638]\n",
      "  [0.94414894]\n",
      "  [0.94042553]\n",
      "  [0.93723404]]\n",
      "\n",
      " [[0.96010638]\n",
      "  [0.94414894]\n",
      "  [0.94042553]\n",
      "  [0.93723404]\n",
      "  [0.92712766]]\n",
      "\n",
      " [[0.94414894]\n",
      "  [0.94042553]\n",
      "  [0.93723404]\n",
      "  [0.92712766]\n",
      "  [0.93404255]]]\n"
     ]
    }
   ],
   "source": [
    "# Reshape the features for the model\n",
    "X_train = X_train.reshape((X_train.shape[0], X_train.shape[1], 1))\n",
    "X_test = X_test.reshape((X_test.shape[0], X_test.shape[1], 1))\n",
    "print (f\"X_train sample values:\\n{X_train[:5]} \\n\")\n",
    "print (f\"X_test sample values:\\n{X_test[:5]}\")"
   ]
  },
  {
   "cell_type": "markdown",
   "id": "d6448a02-0920-4215-bbf1-b588f4a20f3f",
   "metadata": {},
   "source": [
    "### Build and Train the LSTM RNN"
   ]
  },
  {
   "cell_type": "code",
   "execution_count": 13,
   "id": "ce4bbb5d-ca4a-4113-bae0-7e23174c1ff1",
   "metadata": {},
   "outputs": [],
   "source": [
    "# Import required Keras modules\n",
    "from tensorflow.keras.models import Sequential\n",
    "from tensorflow.keras.layers import LSTM, Dense, Dropout"
   ]
  },
  {
   "cell_type": "code",
   "execution_count": 14,
   "id": "f52864ff-bb61-4d00-8985-5e3a495474d3",
   "metadata": {},
   "outputs": [],
   "source": [
    "# Define the LSTM RNN model.\n",
    "model = Sequential()\n",
    "\n",
    "number_units = 5\n",
    "dropout_fraction = 0.2\n",
    "\n",
    "# Layer 1\n",
    "model.add(LSTM(\n",
    "    units=number_units,\n",
    "    return_sequences=True,\n",
    "    input_shape=(X_train.shape[1], 1))\n",
    "    )\n",
    "model.add(Dropout(dropout_fraction))\n",
    "# Layer 2\n",
    "model.add(LSTM(units=number_units, return_sequences=True))\n",
    "model.add(Dropout(dropout_fraction))\n",
    "# Layer 3\n",
    "model.add(LSTM(units=number_units))\n",
    "model.add(Dropout(dropout_fraction))\n",
    "# Output layer\n",
    "model.add(Dense(1))"
   ]
  },
  {
   "cell_type": "markdown",
   "id": "1dee81f7-2fe3-41ce-be1e-4b25832e3075",
   "metadata": {},
   "source": [
    "### Compiling the LSTM RNN Model"
   ]
  },
  {
   "cell_type": "code",
   "execution_count": 15,
   "id": "0236fb11-6dc3-48ed-941e-4e641f1374f8",
   "metadata": {},
   "outputs": [],
   "source": [
    "# Compile the model\n",
    "model.compile(optimizer=\"adam\", loss=\"mean_squared_error\")"
   ]
  },
  {
   "cell_type": "code",
   "execution_count": 16,
   "id": "72226ac4-7630-4b02-82d3-b78d72a8cb5f",
   "metadata": {},
   "outputs": [
    {
     "name": "stdout",
     "output_type": "stream",
     "text": [
      "Model: \"sequential\"\n",
      "_________________________________________________________________\n",
      "Layer (type)                 Output Shape              Param #   \n",
      "=================================================================\n",
      "lstm (LSTM)                  (None, 5, 5)              140       \n",
      "_________________________________________________________________\n",
      "dropout (Dropout)            (None, 5, 5)              0         \n",
      "_________________________________________________________________\n",
      "lstm_1 (LSTM)                (None, 5, 5)              220       \n",
      "_________________________________________________________________\n",
      "dropout_1 (Dropout)          (None, 5, 5)              0         \n",
      "_________________________________________________________________\n",
      "lstm_2 (LSTM)                (None, 5)                 220       \n",
      "_________________________________________________________________\n",
      "dropout_2 (Dropout)          (None, 5)                 0         \n",
      "_________________________________________________________________\n",
      "dense (Dense)                (None, 1)                 6         \n",
      "=================================================================\n",
      "Total params: 586\n",
      "Trainable params: 586\n",
      "Non-trainable params: 0\n",
      "_________________________________________________________________\n"
     ]
    }
   ],
   "source": [
    "# Summarize the model\n",
    "model.summary()"
   ]
  },
  {
   "cell_type": "markdown",
   "id": "4c6bf79a-7395-44a8-91b5-4d184dcfd0fa",
   "metadata": {},
   "source": [
    "### Training the Model"
   ]
  },
  {
   "cell_type": "code",
   "execution_count": 17,
   "id": "3f518eed-4eb7-4d3d-8463-9f6262a8ccfd",
   "metadata": {},
   "outputs": [
    {
     "name": "stdout",
     "output_type": "stream",
     "text": [
      "Epoch 1/10\n",
      "523/523 [==============================] - 3s 3ms/step - loss: 0.0146\n",
      "Epoch 2/10\n",
      "523/523 [==============================] - 1s 2ms/step - loss: 0.0281\n",
      "Epoch 3/10\n",
      "523/523 [==============================] - 1s 2ms/step - loss: 0.0259\n",
      "Epoch 4/10\n",
      "523/523 [==============================] - 1s 3ms/step - loss: 0.0180\n",
      "Epoch 5/10\n",
      "523/523 [==============================] - 1s 3ms/step - loss: 0.0140\n",
      "Epoch 6/10\n",
      "523/523 [==============================] - 1s 2ms/step - loss: 0.0121\n",
      "Epoch 7/10\n",
      "523/523 [==============================] - 1s 2ms/step - loss: 0.0107\n",
      "Epoch 8/10\n",
      "523/523 [==============================] - 1s 2ms/step - loss: 0.0093\n",
      "Epoch 9/10\n",
      "523/523 [==============================] - 1s 2ms/step - loss: 0.0104\n",
      "Epoch 10/10\n",
      "523/523 [==============================] - 1s 3ms/step - loss: 0.0108\n"
     ]
    },
    {
     "data": {
      "text/plain": [
       "<keras.callbacks.History at 0x1c1926b9108>"
      ]
     },
     "execution_count": 17,
     "metadata": {},
     "output_type": "execute_result"
    }
   ],
   "source": [
    "# Train the model\n",
    "model.fit(X_train, y_train, epochs=10, shuffle=False, batch_size=1, verbose=1)"
   ]
  },
  {
   "cell_type": "markdown",
   "id": "de565888-56ab-4be6-8385-4737ee9e9daa",
   "metadata": {},
   "source": [
    "### Model Performance"
   ]
  },
  {
   "cell_type": "code",
   "execution_count": 18,
   "id": "b2c74564-e4be-4824-a6b5-b37175248e1e",
   "metadata": {},
   "outputs": [
    {
     "name": "stdout",
     "output_type": "stream",
     "text": [
      "8/8 [==============================] - 1s 1ms/step - loss: 0.0081\n"
     ]
    },
    {
     "data": {
      "text/plain": [
       "0.00810630526393652"
      ]
     },
     "execution_count": 18,
     "metadata": {},
     "output_type": "execute_result"
    }
   ],
   "source": [
    "# Evaluate the model\n",
    "model.evaluate(X_test, y_test)"
   ]
  },
  {
   "cell_type": "markdown",
   "id": "2569d24f-cb21-41fe-a62d-a7904163217f",
   "metadata": {},
   "source": [
    "### Making Predictions"
   ]
  },
  {
   "cell_type": "code",
   "execution_count": 19,
   "id": "40562f10-3aa7-450e-b99e-d9e36bf837de",
   "metadata": {},
   "outputs": [],
   "source": [
    "# Make some predictions\n",
    "predicted = model.predict(X_test)"
   ]
  },
  {
   "cell_type": "code",
   "execution_count": 20,
   "id": "81a67930-3ad1-44d3-b2cc-7d267e849485",
   "metadata": {},
   "outputs": [],
   "source": [
    "# Recover the original prices instead of the scaled version\n",
    "predicted_prices = y_scaler.inverse_transform(predicted)\n",
    "real_prices = y_scaler.inverse_transform(y_test.reshape(-1, 1))"
   ]
  },
  {
   "cell_type": "code",
   "execution_count": 21,
   "id": "23a02e3f-bfcc-4b4b-9aa8-82a440e33c53",
   "metadata": {},
   "outputs": [
    {
     "data": {
      "text/html": [
       "<div>\n",
       "<style scoped>\n",
       "    .dataframe tbody tr th:only-of-type {\n",
       "        vertical-align: middle;\n",
       "    }\n",
       "\n",
       "    .dataframe tbody tr th {\n",
       "        vertical-align: top;\n",
       "    }\n",
       "\n",
       "    .dataframe thead th {\n",
       "        text-align: right;\n",
       "    }\n",
       "</style>\n",
       "<table border=\"1\" class=\"dataframe\">\n",
       "  <thead>\n",
       "    <tr style=\"text-align: right;\">\n",
       "      <th></th>\n",
       "      <th>Real</th>\n",
       "      <th>Predicted</th>\n",
       "    </tr>\n",
       "  </thead>\n",
       "  <tbody>\n",
       "    <tr>\n",
       "      <th>2020-10-20</th>\n",
       "      <td>125.97</td>\n",
       "      <td>125.813232</td>\n",
       "    </tr>\n",
       "    <tr>\n",
       "      <th>2020-10-21</th>\n",
       "      <td>125.91</td>\n",
       "      <td>125.807671</td>\n",
       "    </tr>\n",
       "    <tr>\n",
       "      <th>2020-10-22</th>\n",
       "      <td>125.72</td>\n",
       "      <td>125.793823</td>\n",
       "    </tr>\n",
       "    <tr>\n",
       "      <th>2020-10-23</th>\n",
       "      <td>125.85</td>\n",
       "      <td>125.774658</td>\n",
       "    </tr>\n",
       "    <tr>\n",
       "      <th>2020-10-26</th>\n",
       "      <td>125.96</td>\n",
       "      <td>125.737610</td>\n",
       "    </tr>\n",
       "  </tbody>\n",
       "</table>\n",
       "</div>"
      ],
      "text/plain": [
       "              Real   Predicted\n",
       "2020-10-20  125.97  125.813232\n",
       "2020-10-21  125.91  125.807671\n",
       "2020-10-22  125.72  125.793823\n",
       "2020-10-23  125.85  125.774658\n",
       "2020-10-26  125.96  125.737610"
      ]
     },
     "execution_count": 21,
     "metadata": {},
     "output_type": "execute_result"
    }
   ],
   "source": [
    "corn = pd.DataFrame({\n",
    "    \"Real\": real_prices.ravel(),\n",
    "    \"Predicted\": predicted_prices.ravel()\n",
    "    }, index = corn_data.index[-len(real_prices): ])\n",
    "corn.head()"
   ]
  },
  {
   "cell_type": "markdown",
   "id": "14d9b330-9fe1-497f-aeb5-d7bb47d3bd8b",
   "metadata": {},
   "source": [
    "### Prepare data for forcasting"
   ]
  },
  {
   "cell_type": "code",
   "execution_count": 22,
   "id": "336236a5-b245-4389-96d5-834516fdc130",
   "metadata": {},
   "outputs": [
    {
     "data": {
      "text/plain": [
       "2021-08-27    129.98\n",
       "2021-08-30    129.97\n",
       "2021-08-31    129.59\n",
       "2021-09-01    128.72\n",
       "2021-09-02    128.80\n",
       "2021-09-03    128.62\n",
       "2021-09-07    128.33\n",
       "2021-09-08    128.83\n",
       "2021-09-09    129.51\n",
       "2021-09-10    129.14\n",
       "Name: Real, dtype: float64"
      ]
     },
     "execution_count": 22,
     "metadata": {},
     "output_type": "execute_result"
    }
   ],
   "source": [
    "corn[-10:][\"Real\"]"
   ]
  },
  {
   "cell_type": "code",
   "execution_count": 23,
   "id": "d7f96e43-8e23-4892-9d94-7004d427ffbe",
   "metadata": {},
   "outputs": [],
   "source": [
    "x_future, _ = window_data(pd.DataFrame(corn[-10:][\"Real\"]), 5, 0, 0)\n",
    "x_future = X_scaler.transform(x_future)\n",
    "x_future = x_future.reshape((x_future.shape[0],x_future.shape[1], 1))"
   ]
  },
  {
   "cell_type": "markdown",
   "id": "82d40281-0a0e-4344-a17d-5529d3004eb5",
   "metadata": {},
   "source": [
    "### Forcast commodity movement"
   ]
  },
  {
   "cell_type": "code",
   "execution_count": 24,
   "id": "cc160f80-aca9-44f5-be06-f4b868406cde",
   "metadata": {},
   "outputs": [],
   "source": [
    "last = model.predict(x_future)[-1:]\n",
    "last = y_scaler.inverse_transform(last)"
   ]
  },
  {
   "cell_type": "code",
   "execution_count": 25,
   "id": "ab949162-dc77-4c38-8f0a-2782835d9962",
   "metadata": {},
   "outputs": [
    {
     "data": {
      "text/plain": [
       "2021-08-30    129.970000\n",
       "2021-08-31    129.590000\n",
       "2021-09-01    128.720000\n",
       "2021-09-02    128.800000\n",
       "2021-09-03    128.620000\n",
       "2021-09-07    128.330000\n",
       "2021-09-08    128.830000\n",
       "2021-09-09    129.510000\n",
       "2021-09-10    129.140000\n",
       "0             126.205353\n",
       "dtype: float64"
      ]
     },
     "execution_count": 25,
     "metadata": {},
     "output_type": "execute_result"
    }
   ],
   "source": [
    "corn[-9:][\"Real\"].append(pd.Series(last[0]))"
   ]
  },
  {
   "cell_type": "code",
   "execution_count": 26,
   "id": "d3aa4285-0407-4578-91ce-0317a8883582",
   "metadata": {},
   "outputs": [],
   "source": [
    "from datetime import timedelta\n",
    "\n",
    "def forecast_lstm(model, \n",
    "                  data,  \n",
    "                  x_scaler, \n",
    "                  y_scaler, \n",
    "                  num_of_obs = 10 ,\n",
    "                  steps_ahead = 15, \n",
    "                  window_size = 5,\n",
    "                  target_col=\"Real\"\n",
    "                 ):\n",
    "    \"\"\"\n",
    "    This function requires window_data to be defined\n",
    "    \"\"\"\n",
    "    for i in range(0, steps_ahead):\n",
    "        x_future, _ = window_data(pd.DataFrame(data[-num_of_obs:][target_col]), window_size, 0, 0)\n",
    "        x_future = X_scaler.transform(x_future)\n",
    "        x_future = x_future.reshape((x_future.shape[0],x_future.shape[1], 1))\n",
    "        last = model.predict(x_future)[-1:]\n",
    "        last = y_scaler.inverse_transform(last)\n",
    "        #print(last)\n",
    "        new_data = data[-(num_of_obs-1):].copy()\n",
    "        \n",
    "        last_date = new_data.iloc[[-1]].index\n",
    "        last_date = last_date + timedelta(days=1)\n",
    "        last_date = pd.to_datetime(last_date[0])\n",
    "        \n",
    "        new_data = new_data.append(pd.DataFrame(index=[last_date]))\n",
    "        new_data.iloc[-1][target_col] = last\n",
    "        data = new_data\n",
    "        #print(data)\n",
    "        #break\n",
    "    return data"
   ]
  },
  {
   "cell_type": "code",
   "execution_count": 27,
   "id": "54bd2cf2-96c7-4b66-9486-2f864642c327",
   "metadata": {},
   "outputs": [],
   "source": [
    "x_future, _ = window_data(pd.DataFrame(corn[-10:][\"Real\"]), 5, 0, 0)"
   ]
  },
  {
   "cell_type": "code",
   "execution_count": 28,
   "id": "5f633cd6-af6a-480e-9a7b-7ba043324300",
   "metadata": {},
   "outputs": [
    {
     "data": {
      "text/html": [
       "<div>\n",
       "<style scoped>\n",
       "    .dataframe tbody tr th:only-of-type {\n",
       "        vertical-align: middle;\n",
       "    }\n",
       "\n",
       "    .dataframe tbody tr th {\n",
       "        vertical-align: top;\n",
       "    }\n",
       "\n",
       "    .dataframe thead th {\n",
       "        text-align: right;\n",
       "    }\n",
       "</style>\n",
       "<table border=\"1\" class=\"dataframe\">\n",
       "  <thead>\n",
       "    <tr style=\"text-align: right;\">\n",
       "      <th></th>\n",
       "      <th>Real</th>\n",
       "    </tr>\n",
       "  </thead>\n",
       "  <tbody>\n",
       "    <tr>\n",
       "      <th>2021-09-16</th>\n",
       "      <td>126.026848</td>\n",
       "    </tr>\n",
       "    <tr>\n",
       "      <th>2021-09-17</th>\n",
       "      <td>125.787498</td>\n",
       "    </tr>\n",
       "    <tr>\n",
       "      <th>2021-09-18</th>\n",
       "      <td>125.787193</td>\n",
       "    </tr>\n",
       "    <tr>\n",
       "      <th>2021-09-19</th>\n",
       "      <td>125.784859</td>\n",
       "    </tr>\n",
       "    <tr>\n",
       "      <th>2021-09-20</th>\n",
       "      <td>125.774834</td>\n",
       "    </tr>\n",
       "    <tr>\n",
       "      <th>2021-09-21</th>\n",
       "      <td>125.751816</td>\n",
       "    </tr>\n",
       "    <tr>\n",
       "      <th>2021-09-22</th>\n",
       "      <td>125.720695</td>\n",
       "    </tr>\n",
       "    <tr>\n",
       "      <th>2021-09-23</th>\n",
       "      <td>125.697487</td>\n",
       "    </tr>\n",
       "    <tr>\n",
       "      <th>2021-09-24</th>\n",
       "      <td>125.696404</td>\n",
       "    </tr>\n",
       "    <tr>\n",
       "      <th>2021-09-25</th>\n",
       "      <td>125.693993</td>\n",
       "    </tr>\n",
       "  </tbody>\n",
       "</table>\n",
       "</div>"
      ],
      "text/plain": [
       "                  Real\n",
       "2021-09-16  126.026848\n",
       "2021-09-17  125.787498\n",
       "2021-09-18  125.787193\n",
       "2021-09-19  125.784859\n",
       "2021-09-20  125.774834\n",
       "2021-09-21  125.751816\n",
       "2021-09-22  125.720695\n",
       "2021-09-23  125.697487\n",
       "2021-09-24  125.696404\n",
       "2021-09-25  125.693993"
      ]
     },
     "execution_count": 28,
     "metadata": {},
     "output_type": "execute_result"
    }
   ],
   "source": [
    "forecast_lstm(model, pd.DataFrame(corn[\"Real\"]), X_scaler, y_scaler)"
   ]
  },
  {
   "cell_type": "code",
   "execution_count": 30,
   "id": "59ae252a-21f0-4b96-9001-983a6c2f62b7",
   "metadata": {},
   "outputs": [
    {
     "data": {
      "text/html": [
       "<div>\n",
       "<style scoped>\n",
       "    .dataframe tbody tr th:only-of-type {\n",
       "        vertical-align: middle;\n",
       "    }\n",
       "\n",
       "    .dataframe tbody tr th {\n",
       "        vertical-align: top;\n",
       "    }\n",
       "\n",
       "    .dataframe thead th {\n",
       "        text-align: right;\n",
       "    }\n",
       "</style>\n",
       "<table border=\"1\" class=\"dataframe\">\n",
       "  <thead>\n",
       "    <tr style=\"text-align: right;\">\n",
       "      <th></th>\n",
       "      <th>Real</th>\n",
       "    </tr>\n",
       "  </thead>\n",
       "  <tbody>\n",
       "    <tr>\n",
       "      <th>2021-09-16</th>\n",
       "      <td>126.026848</td>\n",
       "    </tr>\n",
       "    <tr>\n",
       "      <th>2021-09-17</th>\n",
       "      <td>125.787498</td>\n",
       "    </tr>\n",
       "    <tr>\n",
       "      <th>2021-09-18</th>\n",
       "      <td>125.787193</td>\n",
       "    </tr>\n",
       "    <tr>\n",
       "      <th>2021-09-19</th>\n",
       "      <td>125.784859</td>\n",
       "    </tr>\n",
       "    <tr>\n",
       "      <th>2021-09-20</th>\n",
       "      <td>125.774834</td>\n",
       "    </tr>\n",
       "    <tr>\n",
       "      <th>2021-09-21</th>\n",
       "      <td>125.751816</td>\n",
       "    </tr>\n",
       "    <tr>\n",
       "      <th>2021-09-22</th>\n",
       "      <td>125.720695</td>\n",
       "    </tr>\n",
       "    <tr>\n",
       "      <th>2021-09-23</th>\n",
       "      <td>125.697487</td>\n",
       "    </tr>\n",
       "    <tr>\n",
       "      <th>2021-09-24</th>\n",
       "      <td>125.696404</td>\n",
       "    </tr>\n",
       "    <tr>\n",
       "      <th>2021-09-25</th>\n",
       "      <td>125.693993</td>\n",
       "    </tr>\n",
       "  </tbody>\n",
       "</table>\n",
       "</div>"
      ],
      "text/plain": [
       "                  Real\n",
       "2021-09-16  126.026848\n",
       "2021-09-17  125.787498\n",
       "2021-09-18  125.787193\n",
       "2021-09-19  125.784859\n",
       "2021-09-20  125.774834\n",
       "2021-09-21  125.751816\n",
       "2021-09-22  125.720695\n",
       "2021-09-23  125.697487\n",
       "2021-09-24  125.696404\n",
       "2021-09-25  125.693993"
      ]
     },
     "execution_count": 30,
     "metadata": {},
     "output_type": "execute_result"
    }
   ],
   "source": [
    "first15= forecast_lstm(model, pd.DataFrame(corn[\"Real\"]), X_scaler, y_scaler)\n"
   ]
  }
 ],
 "metadata": {
  "kernelspec": {
   "display_name": "Python 3",
   "language": "python",
   "name": "python3"
  },
  "language_info": {
   "codemirror_mode": {
    "name": "ipython",
    "version": 3
   },
   "file_extension": ".py",
   "mimetype": "text/x-python",
   "name": "python",
   "nbconvert_exporter": "python",
   "pygments_lexer": "ipython3",
   "version": "3.7.10"
  }
 },
 "nbformat": 4,
 "nbformat_minor": 5
}
